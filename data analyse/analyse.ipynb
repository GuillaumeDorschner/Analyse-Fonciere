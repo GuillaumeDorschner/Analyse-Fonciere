{
 "cells": [
  {
   "cell_type": "markdown",
   "metadata": {},
   "source": [
    "# hey"
   ]
  },
  {
   "cell_type": "code",
   "execution_count": 4,
   "metadata": {},
   "outputs": [
    {
     "data": {
      "text/html": [
       "        <script type=\"text/javascript\">\n",
       "        window.PlotlyConfig = {MathJaxConfig: 'local'};\n",
       "        if (window.MathJax && window.MathJax.Hub && window.MathJax.Hub.Config) {window.MathJax.Hub.Config({SVG: {font: \"STIX-Web\"}});}\n",
       "        if (typeof require !== 'undefined') {\n",
       "        require.undef(\"plotly\");\n",
       "        requirejs.config({\n",
       "            paths: {\n",
       "                'plotly': ['https://cdn.plot.ly/plotly-2.20.0.min']\n",
       "            }\n",
       "        });\n",
       "        require(['plotly'], function(Plotly) {\n",
       "            window._Plotly = Plotly;\n",
       "        });\n",
       "        }\n",
       "        </script>\n",
       "        "
      ]
     },
     "metadata": {},
     "output_type": "display_data"
    }
   ],
   "source": [
    "import pandas as pd\n",
    "import numpy as np\n",
    "import re\n",
    "import datetime\n",
    "\n",
    "# math opeations\n",
    "# import math\n",
    "# produce random numbers\n",
    "# import random\n",
    "# to load json files\n",
    "import json\n",
    "# datetime oprations\n",
    "from datetime import timedelta\n",
    "# to get web contents\n",
    "from urllib.request import urlopen\n",
    "\n",
    "# for numerical analyiss\n",
    "import numpy as np\n",
    "# to store and process data in dataframe\n",
    "import pandas as pd\n",
    "\n",
    "# for offline ploting\n",
    "from plotly.offline import plot, iplot, init_notebook_mode\n",
    "init_notebook_mode(connected=True)\n",
    "import plotly.express as px\n",
    "# converter\n",
    "# from pandas.plotting import register_matplotlib_converters\n",
    "# register_matplotlib_converters()   \n",
    "\n",
    "# hide warnings\n",
    "import warnings\n",
    "warnings.filterwarnings('ignore')\n",
    "\n",
    "# to USA states details\n",
    "# import us\n",
    "\n",
    "DEPARTMENTS = {\n",
    "    '1': 'Ain', \n",
    "    '2': 'Aisne', \n",
    "    '3': 'Allier', \n",
    "    '4': 'Alpes-de-Haute-Provence', \n",
    "    '5': 'Hautes-Alpes',\n",
    "    '6': 'Alpes-Maritimes', \n",
    "    '7': 'Ardèche', \n",
    "    '8': 'Ardennes', \n",
    "    '9': 'Ariège', \n",
    "    '10': 'Aube', \n",
    "    '11': 'Aude',\n",
    "    '12': 'Aveyron', \n",
    "    '13': 'Bouches-du-Rhône', \n",
    "    '14': 'Calvados', \n",
    "    '15': 'Cantal', \n",
    "    '16': 'Charente',\n",
    "    '17': 'Charente-Maritime', \n",
    "    '18': 'Cher', \n",
    "    '19': 'Corrèze', \n",
    "    '2A': 'Corse-du-Sud', \n",
    "    '2B': 'Haute-Corse',\n",
    "    '21': 'Côte-d\\'Or', \n",
    "    '22': 'Côtes-d\\'Armor', \n",
    "    '23': 'Creuse', \n",
    "    '24': 'Dordogne', \n",
    "    '25': 'Doubs', \n",
    "    '26': 'Drôme',\n",
    "    '27': 'Eure', \n",
    "    '28': 'Eure-et-Loir', \n",
    "    '29': 'Finistère', \n",
    "    '30': 'Gard', \n",
    "    '31': 'Haute-Garonne', \n",
    "    '32': 'Gers',\n",
    "    '33': 'Gironde', \n",
    "    '34': 'Hérault', \n",
    "    '35': 'Ille-et-Vilaine', \n",
    "    '36': 'Indre', \n",
    "    '37': 'Indre-et-Loire',\n",
    "    '38': 'Isère', \n",
    "    '39': 'Jura', \n",
    "    '40': 'Landes', \n",
    "    '41': 'Loir-et-Cher', \n",
    "    '42': 'Loire', \n",
    "    '43': 'Haute-Loire',\n",
    "    '44': 'Loire-Atlantique', \n",
    "    '45': 'Loiret', \n",
    "    '46': 'Lot', \n",
    "    '47': 'Lot-et-Garonne', \n",
    "    '48': 'Lozère',\n",
    "    '49': 'Maine-et-Loire', \n",
    "    '50': 'Manche', \n",
    "    '51': 'Marne', \n",
    "    '52': 'Haute-Marne', \n",
    "    '53': 'Mayenne',\n",
    "    '54': 'Meurthe-et-Moselle', \n",
    "    '55': 'Meuse', \n",
    "    '56': 'Morbihan', \n",
    "    '57': 'Moselle', \n",
    "    '58': 'Nièvre', \n",
    "    '59': 'Nord',\n",
    "    '60': 'Oise', \n",
    "    '61': 'Orne', \n",
    "    '62': 'Pas-de-Calais', \n",
    "    '63': 'Puy-de-Dôme', \n",
    "    '64': 'Pyrénées-Atlantiques',\n",
    "    '65': 'Hautes-Pyrénées', \n",
    "    '66': 'Pyrénées-Orientales', \n",
    "    '67': 'Bas-Rhin', \n",
    "    '68': 'Haut-Rhin', \n",
    "    '69': 'Rhône',\n",
    "    '70': 'Haute-Saône', \n",
    "    '71': 'Saône-et-Loire', \n",
    "    '72': 'Sarthe', \n",
    "    '73': 'Savoie', \n",
    "    '74': 'Haute-Savoie',\n",
    "    '75': 'Paris', \n",
    "    '76': 'Seine-Maritime', \n",
    "    '77': 'Seine-et-Marne', \n",
    "    '78': 'Yvelines', \n",
    "    '79': 'Deux-Sèvres',\n",
    "    '80': 'Somme', \n",
    "    '81': 'Tarn', \n",
    "    '82': 'Tarn-et-Garonne', \n",
    "    '83': 'Var', \n",
    "    '84': 'Vaucluse', \n",
    "    '85': 'Vendée',\n",
    "    '86': 'Vienne', \n",
    "    '87': 'Haute-Vienne', \n",
    "    '88': 'Vosges', \n",
    "    '89': 'Yonne', \n",
    "    '90': 'Territoire de Belfort',\n",
    "    '91': 'Essonne', \n",
    "    '92': 'Hauts-de-Seine', \n",
    "    '93': 'Seine-Saint-Denis', \n",
    "    '94': 'Val-de-Marne', \n",
    "    '95': 'Val-d\\'Oise',\n",
    "    '971': 'Guadeloupe', \n",
    "    '972': 'Martinique', \n",
    "    '973': 'Guyane', \n",
    "    '974': 'La Réunion', \n",
    "    '976': 'Mayotte',\n",
    "}"
   ]
  },
  {
   "cell_type": "code",
   "execution_count": 17,
   "metadata": {},
   "outputs": [],
   "source": [
    "data = pd.read_csv(r\"../data/annee_traitee/2022.csv\",low_memory=False,sep=\";\",index_col=0)\n",
    "data[\"Date mutation\"] = pd.to_datetime(data[\"Date mutation\"], format=\"%Y-%m-%d\")"
   ]
  },
  {
   "cell_type": "markdown",
   "metadata": {},
   "source": [
    "def departement(row):\n",
    "    row[\"Département\"] = DEPARTMENTS.get(str(row[\"Code departement\"]))\n",
    "\n",
    "data[\"Département\"] = data.apply(lambda x: departement(x),axis=1)"
   ]
  },
  {
   "cell_type": "code",
   "execution_count": 117,
   "metadata": {},
   "outputs": [
    {
     "data": {
      "text/html": [
       "<div>\n",
       "<style scoped>\n",
       "    .dataframe tbody tr th:only-of-type {\n",
       "        vertical-align: middle;\n",
       "    }\n",
       "\n",
       "    .dataframe tbody tr th {\n",
       "        vertical-align: top;\n",
       "    }\n",
       "\n",
       "    .dataframe thead th {\n",
       "        text-align: right;\n",
       "    }\n",
       "</style>\n",
       "<table border=\"1\" class=\"dataframe\">\n",
       "  <thead>\n",
       "    <tr style=\"text-align: right;\">\n",
       "      <th></th>\n",
       "      <th>Date mutation</th>\n",
       "      <th>Valeur fonciere</th>\n",
       "      <th>No voie</th>\n",
       "      <th>Type de voie</th>\n",
       "      <th>Code voie</th>\n",
       "      <th>Voie</th>\n",
       "      <th>Code postal</th>\n",
       "      <th>Code departement</th>\n",
       "      <th>Code commune</th>\n",
       "      <th>Section</th>\n",
       "      <th>...</th>\n",
       "      <th>1er lot</th>\n",
       "      <th>Surface Carrez du 1er lot</th>\n",
       "      <th>Nombre de lots</th>\n",
       "      <th>Code type local</th>\n",
       "      <th>Type local</th>\n",
       "      <th>Surface reelle bati</th>\n",
       "      <th>Nombre pieces principales</th>\n",
       "      <th>Nature culture</th>\n",
       "      <th>Surface terrain</th>\n",
       "      <th>Month mutation</th>\n",
       "    </tr>\n",
       "  </thead>\n",
       "  <tbody>\n",
       "    <tr>\n",
       "      <th>0</th>\n",
       "      <td>2022-01-03</td>\n",
       "      <td>55000.0</td>\n",
       "      <td>13.0</td>\n",
       "      <td>RUE</td>\n",
       "      <td>2280</td>\n",
       "      <td>DE LA LIBERTE</td>\n",
       "      <td>1000.0</td>\n",
       "      <td>1</td>\n",
       "      <td>53</td>\n",
       "      <td>AM</td>\n",
       "      <td>...</td>\n",
       "      <td>7.0</td>\n",
       "      <td>24.10</td>\n",
       "      <td>1</td>\n",
       "      <td>2.0</td>\n",
       "      <td>Appartement</td>\n",
       "      <td>24.0</td>\n",
       "      <td>1.0</td>\n",
       "      <td>NaN</td>\n",
       "      <td>NaN</td>\n",
       "      <td>1</td>\n",
       "    </tr>\n",
       "    <tr>\n",
       "      <th>1</th>\n",
       "      <td>2022-01-03</td>\n",
       "      <td>143000.0</td>\n",
       "      <td>NaN</td>\n",
       "      <td>NaN</td>\n",
       "      <td>B010</td>\n",
       "      <td>CHAMP COCHET</td>\n",
       "      <td>1480.0</td>\n",
       "      <td>1</td>\n",
       "      <td>398</td>\n",
       "      <td>ZE</td>\n",
       "      <td>...</td>\n",
       "      <td>NaN</td>\n",
       "      <td>NaN</td>\n",
       "      <td>0</td>\n",
       "      <td>NaN</td>\n",
       "      <td>NaN</td>\n",
       "      <td>NaN</td>\n",
       "      <td>NaN</td>\n",
       "      <td>S</td>\n",
       "      <td>84.0</td>\n",
       "      <td>1</td>\n",
       "    </tr>\n",
       "    <tr>\n",
       "      <th>2</th>\n",
       "      <td>2022-01-03</td>\n",
       "      <td>143000.0</td>\n",
       "      <td>NaN</td>\n",
       "      <td>NaN</td>\n",
       "      <td>B010</td>\n",
       "      <td>CHAMP COCHET</td>\n",
       "      <td>1480.0</td>\n",
       "      <td>1</td>\n",
       "      <td>398</td>\n",
       "      <td>ZE</td>\n",
       "      <td>...</td>\n",
       "      <td>NaN</td>\n",
       "      <td>NaN</td>\n",
       "      <td>0</td>\n",
       "      <td>NaN</td>\n",
       "      <td>NaN</td>\n",
       "      <td>NaN</td>\n",
       "      <td>NaN</td>\n",
       "      <td>S</td>\n",
       "      <td>88.0</td>\n",
       "      <td>1</td>\n",
       "    </tr>\n",
       "    <tr>\n",
       "      <th>3</th>\n",
       "      <td>2022-01-03</td>\n",
       "      <td>143000.0</td>\n",
       "      <td>98.0</td>\n",
       "      <td>RTE</td>\n",
       "      <td>0055</td>\n",
       "      <td>DE LA DOMBES</td>\n",
       "      <td>1480.0</td>\n",
       "      <td>1</td>\n",
       "      <td>398</td>\n",
       "      <td>ZE</td>\n",
       "      <td>...</td>\n",
       "      <td>1.0</td>\n",
       "      <td>123.23</td>\n",
       "      <td>1</td>\n",
       "      <td>2.0</td>\n",
       "      <td>Appartement</td>\n",
       "      <td>140.0</td>\n",
       "      <td>3.0</td>\n",
       "      <td>NaN</td>\n",
       "      <td>NaN</td>\n",
       "      <td>1</td>\n",
       "    </tr>\n",
       "    <tr>\n",
       "      <th>4</th>\n",
       "      <td>2022-01-04</td>\n",
       "      <td>300.0</td>\n",
       "      <td>NaN</td>\n",
       "      <td>NaN</td>\n",
       "      <td>B031</td>\n",
       "      <td>AUX PIERRES</td>\n",
       "      <td>1480.0</td>\n",
       "      <td>1</td>\n",
       "      <td>243</td>\n",
       "      <td>A</td>\n",
       "      <td>...</td>\n",
       "      <td>NaN</td>\n",
       "      <td>NaN</td>\n",
       "      <td>0</td>\n",
       "      <td>NaN</td>\n",
       "      <td>NaN</td>\n",
       "      <td>NaN</td>\n",
       "      <td>NaN</td>\n",
       "      <td>T</td>\n",
       "      <td>510.0</td>\n",
       "      <td>1</td>\n",
       "    </tr>\n",
       "    <tr>\n",
       "      <th>...</th>\n",
       "      <td>...</td>\n",
       "      <td>...</td>\n",
       "      <td>...</td>\n",
       "      <td>...</td>\n",
       "      <td>...</td>\n",
       "      <td>...</td>\n",
       "      <td>...</td>\n",
       "      <td>...</td>\n",
       "      <td>...</td>\n",
       "      <td>...</td>\n",
       "      <td>...</td>\n",
       "      <td>...</td>\n",
       "      <td>...</td>\n",
       "      <td>...</td>\n",
       "      <td>...</td>\n",
       "      <td>...</td>\n",
       "      <td>...</td>\n",
       "      <td>...</td>\n",
       "      <td>...</td>\n",
       "      <td>...</td>\n",
       "      <td>...</td>\n",
       "    </tr>\n",
       "    <tr>\n",
       "      <th>3803880</th>\n",
       "      <td>2022-12-30</td>\n",
       "      <td>3500000.0</td>\n",
       "      <td>19.0</td>\n",
       "      <td>RUE</td>\n",
       "      <td>4879</td>\n",
       "      <td>JEAN DOLENT</td>\n",
       "      <td>75014.0</td>\n",
       "      <td>75</td>\n",
       "      <td>114</td>\n",
       "      <td>AS</td>\n",
       "      <td>...</td>\n",
       "      <td>3</td>\n",
       "      <td>NaN</td>\n",
       "      <td>1</td>\n",
       "      <td>4.0</td>\n",
       "      <td>Local industriel. commercial ou assimilé</td>\n",
       "      <td>327.0</td>\n",
       "      <td>0.0</td>\n",
       "      <td>NaN</td>\n",
       "      <td>NaN</td>\n",
       "      <td>12</td>\n",
       "    </tr>\n",
       "    <tr>\n",
       "      <th>3803881</th>\n",
       "      <td>2022-12-19</td>\n",
       "      <td>525000.0</td>\n",
       "      <td>3.0</td>\n",
       "      <td>RUE</td>\n",
       "      <td>3842</td>\n",
       "      <td>FREDERIC MAGISSON</td>\n",
       "      <td>75015.0</td>\n",
       "      <td>75</td>\n",
       "      <td>115</td>\n",
       "      <td>EJ</td>\n",
       "      <td>...</td>\n",
       "      <td>49</td>\n",
       "      <td>46.65</td>\n",
       "      <td>2</td>\n",
       "      <td>3.0</td>\n",
       "      <td>Dépendance</td>\n",
       "      <td>0.0</td>\n",
       "      <td>0.0</td>\n",
       "      <td>NaN</td>\n",
       "      <td>NaN</td>\n",
       "      <td>12</td>\n",
       "    </tr>\n",
       "    <tr>\n",
       "      <th>3803882</th>\n",
       "      <td>2022-12-19</td>\n",
       "      <td>525000.0</td>\n",
       "      <td>3.0</td>\n",
       "      <td>RUE</td>\n",
       "      <td>3842</td>\n",
       "      <td>FREDERIC MAGISSON</td>\n",
       "      <td>75015.0</td>\n",
       "      <td>75</td>\n",
       "      <td>115</td>\n",
       "      <td>EJ</td>\n",
       "      <td>...</td>\n",
       "      <td>49</td>\n",
       "      <td>46.65</td>\n",
       "      <td>2</td>\n",
       "      <td>2.0</td>\n",
       "      <td>Appartement</td>\n",
       "      <td>40.0</td>\n",
       "      <td>3.0</td>\n",
       "      <td>NaN</td>\n",
       "      <td>NaN</td>\n",
       "      <td>12</td>\n",
       "    </tr>\n",
       "    <tr>\n",
       "      <th>3803883</th>\n",
       "      <td>2022-12-30</td>\n",
       "      <td>15500.0</td>\n",
       "      <td>69.0</td>\n",
       "      <td>RUE</td>\n",
       "      <td>0679</td>\n",
       "      <td>BARRAULT</td>\n",
       "      <td>75013.0</td>\n",
       "      <td>75</td>\n",
       "      <td>113</td>\n",
       "      <td>DM</td>\n",
       "      <td>...</td>\n",
       "      <td>244</td>\n",
       "      <td>NaN</td>\n",
       "      <td>1</td>\n",
       "      <td>3.0</td>\n",
       "      <td>Dépendance</td>\n",
       "      <td>0.0</td>\n",
       "      <td>0.0</td>\n",
       "      <td>NaN</td>\n",
       "      <td>NaN</td>\n",
       "      <td>12</td>\n",
       "    </tr>\n",
       "    <tr>\n",
       "      <th>3803884</th>\n",
       "      <td>2022-11-21</td>\n",
       "      <td>30000.0</td>\n",
       "      <td>48.0</td>\n",
       "      <td>RUE</td>\n",
       "      <td>8358</td>\n",
       "      <td>DE LA ROQUETTE</td>\n",
       "      <td>75011.0</td>\n",
       "      <td>75</td>\n",
       "      <td>111</td>\n",
       "      <td>CD</td>\n",
       "      <td>...</td>\n",
       "      <td>516</td>\n",
       "      <td>NaN</td>\n",
       "      <td>1</td>\n",
       "      <td>3.0</td>\n",
       "      <td>Dépendance</td>\n",
       "      <td>0.0</td>\n",
       "      <td>0.0</td>\n",
       "      <td>NaN</td>\n",
       "      <td>NaN</td>\n",
       "      <td>11</td>\n",
       "    </tr>\n",
       "  </tbody>\n",
       "</table>\n",
       "<p>3803885 rows × 21 columns</p>\n",
       "</div>"
      ],
      "text/plain": [
       "        Date mutation  Valeur fonciere  No voie Type de voie Code voie  \\\n",
       "0          2022-01-03          55000.0     13.0          RUE      2280   \n",
       "1          2022-01-03         143000.0      NaN          NaN      B010   \n",
       "2          2022-01-03         143000.0      NaN          NaN      B010   \n",
       "3          2022-01-03         143000.0     98.0          RTE      0055   \n",
       "4          2022-01-04            300.0      NaN          NaN      B031   \n",
       "...               ...              ...      ...          ...       ...   \n",
       "3803880    2022-12-30        3500000.0     19.0          RUE      4879   \n",
       "3803881    2022-12-19         525000.0      3.0          RUE      3842   \n",
       "3803882    2022-12-19         525000.0      3.0          RUE      3842   \n",
       "3803883    2022-12-30          15500.0     69.0          RUE      0679   \n",
       "3803884    2022-11-21          30000.0     48.0          RUE      8358   \n",
       "\n",
       "                      Voie  Code postal Code departement  Code commune  \\\n",
       "0            DE LA LIBERTE       1000.0                1            53   \n",
       "1             CHAMP COCHET       1480.0                1           398   \n",
       "2             CHAMP COCHET       1480.0                1           398   \n",
       "3             DE LA DOMBES       1480.0                1           398   \n",
       "4              AUX PIERRES       1480.0                1           243   \n",
       "...                    ...          ...              ...           ...   \n",
       "3803880        JEAN DOLENT      75014.0               75           114   \n",
       "3803881  FREDERIC MAGISSON      75015.0               75           115   \n",
       "3803882  FREDERIC MAGISSON      75015.0               75           115   \n",
       "3803883           BARRAULT      75013.0               75           113   \n",
       "3803884     DE LA ROQUETTE      75011.0               75           111   \n",
       "\n",
       "        Section  ...  1er lot Surface Carrez du 1er lot  Nombre de lots  \\\n",
       "0            AM  ...      7.0                     24.10               1   \n",
       "1            ZE  ...      NaN                       NaN               0   \n",
       "2            ZE  ...      NaN                       NaN               0   \n",
       "3            ZE  ...      1.0                    123.23               1   \n",
       "4             A  ...      NaN                       NaN               0   \n",
       "...         ...  ...      ...                       ...             ...   \n",
       "3803880      AS  ...        3                       NaN               1   \n",
       "3803881      EJ  ...       49                     46.65               2   \n",
       "3803882      EJ  ...       49                     46.65               2   \n",
       "3803883      DM  ...      244                       NaN               1   \n",
       "3803884      CD  ...      516                       NaN               1   \n",
       "\n",
       "         Code type local                                Type local  \\\n",
       "0                    2.0                               Appartement   \n",
       "1                    NaN                                       NaN   \n",
       "2                    NaN                                       NaN   \n",
       "3                    2.0                               Appartement   \n",
       "4                    NaN                                       NaN   \n",
       "...                  ...                                       ...   \n",
       "3803880              4.0  Local industriel. commercial ou assimilé   \n",
       "3803881              3.0                                Dépendance   \n",
       "3803882              2.0                               Appartement   \n",
       "3803883              3.0                                Dépendance   \n",
       "3803884              3.0                                Dépendance   \n",
       "\n",
       "        Surface reelle bati  Nombre pieces principales  Nature culture  \\\n",
       "0                      24.0                        1.0             NaN   \n",
       "1                       NaN                        NaN               S   \n",
       "2                       NaN                        NaN               S   \n",
       "3                     140.0                        3.0             NaN   \n",
       "4                       NaN                        NaN               T   \n",
       "...                     ...                        ...             ...   \n",
       "3803880               327.0                        0.0             NaN   \n",
       "3803881                 0.0                        0.0             NaN   \n",
       "3803882                40.0                        3.0             NaN   \n",
       "3803883                 0.0                        0.0             NaN   \n",
       "3803884                 0.0                        0.0             NaN   \n",
       "\n",
       "        Surface terrain  Month mutation  \n",
       "0                   NaN               1  \n",
       "1                  84.0               1  \n",
       "2                  88.0               1  \n",
       "3                   NaN               1  \n",
       "4                 510.0               1  \n",
       "...                 ...             ...  \n",
       "3803880             NaN              12  \n",
       "3803881             NaN              12  \n",
       "3803882             NaN              12  \n",
       "3803883             NaN              12  \n",
       "3803884             NaN              11  \n",
       "\n",
       "[3803885 rows x 21 columns]"
      ]
     },
     "metadata": {},
     "output_type": "display_data"
    },
    {
     "name": "stdout",
     "output_type": "stream",
     "text": [
      "Date mutation                datetime64[ns]\n",
      "Valeur fonciere                     float64\n",
      "No voie                             float64\n",
      "Type de voie                         object\n",
      "Code voie                            object\n",
      "Voie                                 object\n",
      "Code postal                         float64\n",
      "Code departement                     object\n",
      "Code commune                          int64\n",
      "Section                              object\n",
      "No plan                               int64\n",
      "1er lot                              object\n",
      "Surface Carrez du 1er lot           float64\n",
      "Nombre de lots                        int64\n",
      "Code type local                     float64\n",
      "Type local                           object\n",
      "Surface reelle bati                 float64\n",
      "Nombre pieces principales           float64\n",
      "Nature culture                       object\n",
      "Surface terrain                     float64\n",
      "Month mutation                        int64\n",
      "dtype: object\n"
     ]
    }
   ],
   "source": [
    "display(data)"
   ]
  },
  {
   "cell_type": "code",
   "execution_count": 119,
   "metadata": {},
   "outputs": [
    {
     "data": {
      "text/html": [
       "<div>\n",
       "<style scoped>\n",
       "    .dataframe tbody tr th:only-of-type {\n",
       "        vertical-align: middle;\n",
       "    }\n",
       "\n",
       "    .dataframe tbody tr th {\n",
       "        vertical-align: top;\n",
       "    }\n",
       "\n",
       "    .dataframe thead th {\n",
       "        text-align: right;\n",
       "    }\n",
       "</style>\n",
       "<table border=\"1\" class=\"dataframe\">\n",
       "  <thead>\n",
       "    <tr style=\"text-align: right;\">\n",
       "      <th></th>\n",
       "      <th>Date mutation</th>\n",
       "      <th>Valeur fonciere</th>\n",
       "      <th>No voie</th>\n",
       "      <th>Type de voie</th>\n",
       "      <th>Code voie</th>\n",
       "      <th>Voie</th>\n",
       "      <th>Code postal</th>\n",
       "      <th>Code departement</th>\n",
       "      <th>Code commune</th>\n",
       "      <th>Section</th>\n",
       "      <th>...</th>\n",
       "      <th>Surface Carrez du 1er lot</th>\n",
       "      <th>Nombre de lots</th>\n",
       "      <th>Code type local</th>\n",
       "      <th>Type local</th>\n",
       "      <th>Surface reelle bati</th>\n",
       "      <th>Nombre pieces principales</th>\n",
       "      <th>Nature culture</th>\n",
       "      <th>Surface terrain</th>\n",
       "      <th>Month mutation</th>\n",
       "      <th>Prix mètre carré</th>\n",
       "    </tr>\n",
       "  </thead>\n",
       "  <tbody>\n",
       "    <tr>\n",
       "      <th>0</th>\n",
       "      <td>2022-01-04</td>\n",
       "      <td>580000.0</td>\n",
       "      <td>13.0</td>\n",
       "      <td>RUE</td>\n",
       "      <td>9002</td>\n",
       "      <td>DE SOFIA</td>\n",
       "      <td>75018.0</td>\n",
       "      <td>75</td>\n",
       "      <td>118</td>\n",
       "      <td>BR</td>\n",
       "      <td>...</td>\n",
       "      <td>NaN</td>\n",
       "      <td>2</td>\n",
       "      <td>2.0</td>\n",
       "      <td>Appartement</td>\n",
       "      <td>20.0</td>\n",
       "      <td>2.0</td>\n",
       "      <td>NaN</td>\n",
       "      <td>NaN</td>\n",
       "      <td>1</td>\n",
       "      <td>29000.000000</td>\n",
       "    </tr>\n",
       "    <tr>\n",
       "      <th>1</th>\n",
       "      <td>2022-01-04</td>\n",
       "      <td>580000.0</td>\n",
       "      <td>13.0</td>\n",
       "      <td>RUE</td>\n",
       "      <td>9002</td>\n",
       "      <td>DE SOFIA</td>\n",
       "      <td>75018.0</td>\n",
       "      <td>75</td>\n",
       "      <td>118</td>\n",
       "      <td>BR</td>\n",
       "      <td>...</td>\n",
       "      <td>61.00</td>\n",
       "      <td>3</td>\n",
       "      <td>2.0</td>\n",
       "      <td>Appartement</td>\n",
       "      <td>25.0</td>\n",
       "      <td>2.0</td>\n",
       "      <td>NaN</td>\n",
       "      <td>NaN</td>\n",
       "      <td>1</td>\n",
       "      <td>23200.000000</td>\n",
       "    </tr>\n",
       "    <tr>\n",
       "      <th>2</th>\n",
       "      <td>2022-01-06</td>\n",
       "      <td>605000.0</td>\n",
       "      <td>51.0</td>\n",
       "      <td>RUE</td>\n",
       "      <td>1880</td>\n",
       "      <td>CHARLOT</td>\n",
       "      <td>75003.0</td>\n",
       "      <td>75</td>\n",
       "      <td>103</td>\n",
       "      <td>AH</td>\n",
       "      <td>...</td>\n",
       "      <td>40.66</td>\n",
       "      <td>1</td>\n",
       "      <td>2.0</td>\n",
       "      <td>Appartement</td>\n",
       "      <td>42.0</td>\n",
       "      <td>3.0</td>\n",
       "      <td>NaN</td>\n",
       "      <td>NaN</td>\n",
       "      <td>1</td>\n",
       "      <td>14404.761905</td>\n",
       "    </tr>\n",
       "    <tr>\n",
       "      <th>3</th>\n",
       "      <td>2022-01-05</td>\n",
       "      <td>716250.0</td>\n",
       "      <td>6.0</td>\n",
       "      <td>RUE</td>\n",
       "      <td>7155</td>\n",
       "      <td>PAUL ESCUDIER</td>\n",
       "      <td>75009.0</td>\n",
       "      <td>75</td>\n",
       "      <td>109</td>\n",
       "      <td>AC</td>\n",
       "      <td>...</td>\n",
       "      <td>NaN</td>\n",
       "      <td>3</td>\n",
       "      <td>2.0</td>\n",
       "      <td>Appartement</td>\n",
       "      <td>69.0</td>\n",
       "      <td>3.0</td>\n",
       "      <td>NaN</td>\n",
       "      <td>NaN</td>\n",
       "      <td>1</td>\n",
       "      <td>10380.434783</td>\n",
       "    </tr>\n",
       "    <tr>\n",
       "      <th>4</th>\n",
       "      <td>2022-01-05</td>\n",
       "      <td>320000.0</td>\n",
       "      <td>4.0</td>\n",
       "      <td>RUE</td>\n",
       "      <td>1924</td>\n",
       "      <td>DU CHATEAU LANDON</td>\n",
       "      <td>75010.0</td>\n",
       "      <td>75</td>\n",
       "      <td>110</td>\n",
       "      <td>AG</td>\n",
       "      <td>...</td>\n",
       "      <td>NaN</td>\n",
       "      <td>2</td>\n",
       "      <td>2.0</td>\n",
       "      <td>Appartement</td>\n",
       "      <td>33.0</td>\n",
       "      <td>2.0</td>\n",
       "      <td>NaN</td>\n",
       "      <td>NaN</td>\n",
       "      <td>1</td>\n",
       "      <td>9696.969697</td>\n",
       "    </tr>\n",
       "    <tr>\n",
       "      <th>...</th>\n",
       "      <td>...</td>\n",
       "      <td>...</td>\n",
       "      <td>...</td>\n",
       "      <td>...</td>\n",
       "      <td>...</td>\n",
       "      <td>...</td>\n",
       "      <td>...</td>\n",
       "      <td>...</td>\n",
       "      <td>...</td>\n",
       "      <td>...</td>\n",
       "      <td>...</td>\n",
       "      <td>...</td>\n",
       "      <td>...</td>\n",
       "      <td>...</td>\n",
       "      <td>...</td>\n",
       "      <td>...</td>\n",
       "      <td>...</td>\n",
       "      <td>...</td>\n",
       "      <td>...</td>\n",
       "      <td>...</td>\n",
       "      <td>...</td>\n",
       "    </tr>\n",
       "    <tr>\n",
       "      <th>51338</th>\n",
       "      <td>2022-11-03</td>\n",
       "      <td>291000.0</td>\n",
       "      <td>128.0</td>\n",
       "      <td>RUE</td>\n",
       "      <td>0012</td>\n",
       "      <td>DE L ABBE GROULT</td>\n",
       "      <td>75015.0</td>\n",
       "      <td>75</td>\n",
       "      <td>115</td>\n",
       "      <td>AE</td>\n",
       "      <td>...</td>\n",
       "      <td>NaN</td>\n",
       "      <td>1</td>\n",
       "      <td>2.0</td>\n",
       "      <td>Appartement</td>\n",
       "      <td>35.0</td>\n",
       "      <td>2.0</td>\n",
       "      <td>NaN</td>\n",
       "      <td>NaN</td>\n",
       "      <td>11</td>\n",
       "      <td>8314.285714</td>\n",
       "    </tr>\n",
       "    <tr>\n",
       "      <th>51339</th>\n",
       "      <td>2022-12-23</td>\n",
       "      <td>934000.0</td>\n",
       "      <td>5.0</td>\n",
       "      <td>VLA</td>\n",
       "      <td>3488</td>\n",
       "      <td>FAISANDERIE</td>\n",
       "      <td>75016.0</td>\n",
       "      <td>75</td>\n",
       "      <td>116</td>\n",
       "      <td>EE</td>\n",
       "      <td>...</td>\n",
       "      <td>NaN</td>\n",
       "      <td>2</td>\n",
       "      <td>2.0</td>\n",
       "      <td>Appartement</td>\n",
       "      <td>58.0</td>\n",
       "      <td>2.0</td>\n",
       "      <td>NaN</td>\n",
       "      <td>NaN</td>\n",
       "      <td>12</td>\n",
       "      <td>16103.448276</td>\n",
       "    </tr>\n",
       "    <tr>\n",
       "      <th>51340</th>\n",
       "      <td>2022-12-23</td>\n",
       "      <td>70000.0</td>\n",
       "      <td>67.0</td>\n",
       "      <td>RUE</td>\n",
       "      <td>1255</td>\n",
       "      <td>BRANCION</td>\n",
       "      <td>75015.0</td>\n",
       "      <td>75</td>\n",
       "      <td>115</td>\n",
       "      <td>AJ</td>\n",
       "      <td>...</td>\n",
       "      <td>NaN</td>\n",
       "      <td>2</td>\n",
       "      <td>2.0</td>\n",
       "      <td>Appartement</td>\n",
       "      <td>15.0</td>\n",
       "      <td>1.0</td>\n",
       "      <td>NaN</td>\n",
       "      <td>NaN</td>\n",
       "      <td>12</td>\n",
       "      <td>4666.666667</td>\n",
       "    </tr>\n",
       "    <tr>\n",
       "      <th>51341</th>\n",
       "      <td>2022-12-30</td>\n",
       "      <td>3500000.0</td>\n",
       "      <td>19.0</td>\n",
       "      <td>RUE</td>\n",
       "      <td>4879</td>\n",
       "      <td>JEAN DOLENT</td>\n",
       "      <td>75014.0</td>\n",
       "      <td>75</td>\n",
       "      <td>114</td>\n",
       "      <td>AS</td>\n",
       "      <td>...</td>\n",
       "      <td>NaN</td>\n",
       "      <td>1</td>\n",
       "      <td>4.0</td>\n",
       "      <td>Local industriel. commercial ou assimilé</td>\n",
       "      <td>327.0</td>\n",
       "      <td>0.0</td>\n",
       "      <td>NaN</td>\n",
       "      <td>NaN</td>\n",
       "      <td>12</td>\n",
       "      <td>10703.363914</td>\n",
       "    </tr>\n",
       "    <tr>\n",
       "      <th>51342</th>\n",
       "      <td>2022-12-19</td>\n",
       "      <td>525000.0</td>\n",
       "      <td>3.0</td>\n",
       "      <td>RUE</td>\n",
       "      <td>3842</td>\n",
       "      <td>FREDERIC MAGISSON</td>\n",
       "      <td>75015.0</td>\n",
       "      <td>75</td>\n",
       "      <td>115</td>\n",
       "      <td>EJ</td>\n",
       "      <td>...</td>\n",
       "      <td>46.65</td>\n",
       "      <td>2</td>\n",
       "      <td>2.0</td>\n",
       "      <td>Appartement</td>\n",
       "      <td>40.0</td>\n",
       "      <td>3.0</td>\n",
       "      <td>NaN</td>\n",
       "      <td>NaN</td>\n",
       "      <td>12</td>\n",
       "      <td>13125.000000</td>\n",
       "    </tr>\n",
       "  </tbody>\n",
       "</table>\n",
       "<p>51343 rows × 22 columns</p>\n",
       "</div>"
      ],
      "text/plain": [
       "      Date mutation  Valeur fonciere  No voie Type de voie Code voie  \\\n",
       "0        2022-01-04         580000.0     13.0          RUE      9002   \n",
       "1        2022-01-04         580000.0     13.0          RUE      9002   \n",
       "2        2022-01-06         605000.0     51.0          RUE      1880   \n",
       "3        2022-01-05         716250.0      6.0          RUE      7155   \n",
       "4        2022-01-05         320000.0      4.0          RUE      1924   \n",
       "...             ...              ...      ...          ...       ...   \n",
       "51338    2022-11-03         291000.0    128.0          RUE      0012   \n",
       "51339    2022-12-23         934000.0      5.0          VLA      3488   \n",
       "51340    2022-12-23          70000.0     67.0          RUE      1255   \n",
       "51341    2022-12-30        3500000.0     19.0          RUE      4879   \n",
       "51342    2022-12-19         525000.0      3.0          RUE      3842   \n",
       "\n",
       "                    Voie  Code postal Code departement  Code commune Section  \\\n",
       "0               DE SOFIA      75018.0               75           118      BR   \n",
       "1               DE SOFIA      75018.0               75           118      BR   \n",
       "2                CHARLOT      75003.0               75           103      AH   \n",
       "3          PAUL ESCUDIER      75009.0               75           109      AC   \n",
       "4      DU CHATEAU LANDON      75010.0               75           110      AG   \n",
       "...                  ...          ...              ...           ...     ...   \n",
       "51338   DE L ABBE GROULT      75015.0               75           115      AE   \n",
       "51339        FAISANDERIE      75016.0               75           116      EE   \n",
       "51340           BRANCION      75015.0               75           115      AJ   \n",
       "51341        JEAN DOLENT      75014.0               75           114      AS   \n",
       "51342  FREDERIC MAGISSON      75015.0               75           115      EJ   \n",
       "\n",
       "       ...  Surface Carrez du 1er lot Nombre de lots  Code type local  \\\n",
       "0      ...                        NaN              2              2.0   \n",
       "1      ...                      61.00              3              2.0   \n",
       "2      ...                      40.66              1              2.0   \n",
       "3      ...                        NaN              3              2.0   \n",
       "4      ...                        NaN              2              2.0   \n",
       "...    ...                        ...            ...              ...   \n",
       "51338  ...                        NaN              1              2.0   \n",
       "51339  ...                        NaN              2              2.0   \n",
       "51340  ...                        NaN              2              2.0   \n",
       "51341  ...                        NaN              1              4.0   \n",
       "51342  ...                      46.65              2              2.0   \n",
       "\n",
       "                                     Type local  Surface reelle bati  \\\n",
       "0                                   Appartement                 20.0   \n",
       "1                                   Appartement                 25.0   \n",
       "2                                   Appartement                 42.0   \n",
       "3                                   Appartement                 69.0   \n",
       "4                                   Appartement                 33.0   \n",
       "...                                         ...                  ...   \n",
       "51338                               Appartement                 35.0   \n",
       "51339                               Appartement                 58.0   \n",
       "51340                               Appartement                 15.0   \n",
       "51341  Local industriel. commercial ou assimilé                327.0   \n",
       "51342                               Appartement                 40.0   \n",
       "\n",
       "      Nombre pieces principales  Nature culture  Surface terrain  \\\n",
       "0                           2.0             NaN              NaN   \n",
       "1                           2.0             NaN              NaN   \n",
       "2                           3.0             NaN              NaN   \n",
       "3                           3.0             NaN              NaN   \n",
       "4                           2.0             NaN              NaN   \n",
       "...                         ...             ...              ...   \n",
       "51338                       2.0             NaN              NaN   \n",
       "51339                       2.0             NaN              NaN   \n",
       "51340                       1.0             NaN              NaN   \n",
       "51341                       0.0             NaN              NaN   \n",
       "51342                       3.0             NaN              NaN   \n",
       "\n",
       "      Month mutation  Prix mètre carré  \n",
       "0                  1      29000.000000  \n",
       "1                  1      23200.000000  \n",
       "2                  1      14404.761905  \n",
       "3                  1      10380.434783  \n",
       "4                  1       9696.969697  \n",
       "...              ...               ...  \n",
       "51338             11       8314.285714  \n",
       "51339             12      16103.448276  \n",
       "51340             12       4666.666667  \n",
       "51341             12      10703.363914  \n",
       "51342             12      13125.000000  \n",
       "\n",
       "[51343 rows x 22 columns]"
      ]
     },
     "metadata": {},
     "output_type": "display_data"
    }
   ],
   "source": [
    "paris = data[(data[\"Code departement\"] == '75') & (data[\"Type local\"] != \"Dépendance\")].reset_index(drop = True)\n",
    "paris[\"Prix mètre carré\"] = paris[\"Valeur fonciere\"]/paris[\"Surface reelle bati\"]\n",
    "display(paris)"
   ]
  },
  {
   "cell_type": "code",
   "execution_count": 10,
   "metadata": {},
   "outputs": [
    {
     "data": {
      "application/vnd.plotly.v1+json": {
       "config": {
        "plotlyServerURL": "https://plot.ly"
       },
       "data": [
        {
         "alignmentgroup": "True",
         "hovertemplate": "Nombre de ventes=%{text}<br>Département=%{y}<extra></extra>",
         "legendgroup": "",
         "marker": {
          "color": "#fe9801",
          "pattern": {
           "shape": ""
          }
         },
         "name": "",
         "offsetgroup": "",
         "opacity": 0.6,
         "orientation": "h",
         "showlegend": false,
         "text": [
          79563,
          83751,
          86463,
          86496,
          97517,
          100291,
          104649,
          104664,
          119574,
          121489
         ],
         "textposition": "outside",
         "type": "bar",
         "x": [
          79563,
          83751,
          86463,
          86496,
          97517,
          100291,
          104649,
          104664,
          119574,
          121489
         ],
         "xaxis": "x",
         "y": [
          "Hauts-de-Seine",
          "Seine-et-Marne",
          "Haute-Garonne",
          "Hérault",
          "Paris",
          "Loire-Atlantique",
          "Rhône",
          "Alpes-Maritimes",
          "Gironde",
          "Nord"
         ],
         "yaxis": "y"
        }
       ],
       "layout": {
        "barmode": "relative",
        "height": 600,
        "legend": {
         "tracegroupgap": 0
        },
        "template": {
         "data": {
          "bar": [
           {
            "error_x": {
             "color": "#2a3f5f"
            },
            "error_y": {
             "color": "#2a3f5f"
            },
            "marker": {
             "line": {
              "color": "#E5ECF6",
              "width": 0.5
             },
             "pattern": {
              "fillmode": "overlay",
              "size": 10,
              "solidity": 0.2
             }
            },
            "type": "bar"
           }
          ],
          "barpolar": [
           {
            "marker": {
             "line": {
              "color": "#E5ECF6",
              "width": 0.5
             },
             "pattern": {
              "fillmode": "overlay",
              "size": 10,
              "solidity": 0.2
             }
            },
            "type": "barpolar"
           }
          ],
          "carpet": [
           {
            "aaxis": {
             "endlinecolor": "#2a3f5f",
             "gridcolor": "white",
             "linecolor": "white",
             "minorgridcolor": "white",
             "startlinecolor": "#2a3f5f"
            },
            "baxis": {
             "endlinecolor": "#2a3f5f",
             "gridcolor": "white",
             "linecolor": "white",
             "minorgridcolor": "white",
             "startlinecolor": "#2a3f5f"
            },
            "type": "carpet"
           }
          ],
          "choropleth": [
           {
            "colorbar": {
             "outlinewidth": 0,
             "ticks": ""
            },
            "type": "choropleth"
           }
          ],
          "contour": [
           {
            "colorbar": {
             "outlinewidth": 0,
             "ticks": ""
            },
            "colorscale": [
             [
              0,
              "#0d0887"
             ],
             [
              0.1111111111111111,
              "#46039f"
             ],
             [
              0.2222222222222222,
              "#7201a8"
             ],
             [
              0.3333333333333333,
              "#9c179e"
             ],
             [
              0.4444444444444444,
              "#bd3786"
             ],
             [
              0.5555555555555556,
              "#d8576b"
             ],
             [
              0.6666666666666666,
              "#ed7953"
             ],
             [
              0.7777777777777778,
              "#fb9f3a"
             ],
             [
              0.8888888888888888,
              "#fdca26"
             ],
             [
              1,
              "#f0f921"
             ]
            ],
            "type": "contour"
           }
          ],
          "contourcarpet": [
           {
            "colorbar": {
             "outlinewidth": 0,
             "ticks": ""
            },
            "type": "contourcarpet"
           }
          ],
          "heatmap": [
           {
            "colorbar": {
             "outlinewidth": 0,
             "ticks": ""
            },
            "colorscale": [
             [
              0,
              "#0d0887"
             ],
             [
              0.1111111111111111,
              "#46039f"
             ],
             [
              0.2222222222222222,
              "#7201a8"
             ],
             [
              0.3333333333333333,
              "#9c179e"
             ],
             [
              0.4444444444444444,
              "#bd3786"
             ],
             [
              0.5555555555555556,
              "#d8576b"
             ],
             [
              0.6666666666666666,
              "#ed7953"
             ],
             [
              0.7777777777777778,
              "#fb9f3a"
             ],
             [
              0.8888888888888888,
              "#fdca26"
             ],
             [
              1,
              "#f0f921"
             ]
            ],
            "type": "heatmap"
           }
          ],
          "heatmapgl": [
           {
            "colorbar": {
             "outlinewidth": 0,
             "ticks": ""
            },
            "colorscale": [
             [
              0,
              "#0d0887"
             ],
             [
              0.1111111111111111,
              "#46039f"
             ],
             [
              0.2222222222222222,
              "#7201a8"
             ],
             [
              0.3333333333333333,
              "#9c179e"
             ],
             [
              0.4444444444444444,
              "#bd3786"
             ],
             [
              0.5555555555555556,
              "#d8576b"
             ],
             [
              0.6666666666666666,
              "#ed7953"
             ],
             [
              0.7777777777777778,
              "#fb9f3a"
             ],
             [
              0.8888888888888888,
              "#fdca26"
             ],
             [
              1,
              "#f0f921"
             ]
            ],
            "type": "heatmapgl"
           }
          ],
          "histogram": [
           {
            "marker": {
             "pattern": {
              "fillmode": "overlay",
              "size": 10,
              "solidity": 0.2
             }
            },
            "type": "histogram"
           }
          ],
          "histogram2d": [
           {
            "colorbar": {
             "outlinewidth": 0,
             "ticks": ""
            },
            "colorscale": [
             [
              0,
              "#0d0887"
             ],
             [
              0.1111111111111111,
              "#46039f"
             ],
             [
              0.2222222222222222,
              "#7201a8"
             ],
             [
              0.3333333333333333,
              "#9c179e"
             ],
             [
              0.4444444444444444,
              "#bd3786"
             ],
             [
              0.5555555555555556,
              "#d8576b"
             ],
             [
              0.6666666666666666,
              "#ed7953"
             ],
             [
              0.7777777777777778,
              "#fb9f3a"
             ],
             [
              0.8888888888888888,
              "#fdca26"
             ],
             [
              1,
              "#f0f921"
             ]
            ],
            "type": "histogram2d"
           }
          ],
          "histogram2dcontour": [
           {
            "colorbar": {
             "outlinewidth": 0,
             "ticks": ""
            },
            "colorscale": [
             [
              0,
              "#0d0887"
             ],
             [
              0.1111111111111111,
              "#46039f"
             ],
             [
              0.2222222222222222,
              "#7201a8"
             ],
             [
              0.3333333333333333,
              "#9c179e"
             ],
             [
              0.4444444444444444,
              "#bd3786"
             ],
             [
              0.5555555555555556,
              "#d8576b"
             ],
             [
              0.6666666666666666,
              "#ed7953"
             ],
             [
              0.7777777777777778,
              "#fb9f3a"
             ],
             [
              0.8888888888888888,
              "#fdca26"
             ],
             [
              1,
              "#f0f921"
             ]
            ],
            "type": "histogram2dcontour"
           }
          ],
          "mesh3d": [
           {
            "colorbar": {
             "outlinewidth": 0,
             "ticks": ""
            },
            "type": "mesh3d"
           }
          ],
          "parcoords": [
           {
            "line": {
             "colorbar": {
              "outlinewidth": 0,
              "ticks": ""
             }
            },
            "type": "parcoords"
           }
          ],
          "pie": [
           {
            "automargin": true,
            "type": "pie"
           }
          ],
          "scatter": [
           {
            "fillpattern": {
             "fillmode": "overlay",
             "size": 10,
             "solidity": 0.2
            },
            "type": "scatter"
           }
          ],
          "scatter3d": [
           {
            "line": {
             "colorbar": {
              "outlinewidth": 0,
              "ticks": ""
             }
            },
            "marker": {
             "colorbar": {
              "outlinewidth": 0,
              "ticks": ""
             }
            },
            "type": "scatter3d"
           }
          ],
          "scattercarpet": [
           {
            "marker": {
             "colorbar": {
              "outlinewidth": 0,
              "ticks": ""
             }
            },
            "type": "scattercarpet"
           }
          ],
          "scattergeo": [
           {
            "marker": {
             "colorbar": {
              "outlinewidth": 0,
              "ticks": ""
             }
            },
            "type": "scattergeo"
           }
          ],
          "scattergl": [
           {
            "marker": {
             "colorbar": {
              "outlinewidth": 0,
              "ticks": ""
             }
            },
            "type": "scattergl"
           }
          ],
          "scattermapbox": [
           {
            "marker": {
             "colorbar": {
              "outlinewidth": 0,
              "ticks": ""
             }
            },
            "type": "scattermapbox"
           }
          ],
          "scatterpolar": [
           {
            "marker": {
             "colorbar": {
              "outlinewidth": 0,
              "ticks": ""
             }
            },
            "type": "scatterpolar"
           }
          ],
          "scatterpolargl": [
           {
            "marker": {
             "colorbar": {
              "outlinewidth": 0,
              "ticks": ""
             }
            },
            "type": "scatterpolargl"
           }
          ],
          "scatterternary": [
           {
            "marker": {
             "colorbar": {
              "outlinewidth": 0,
              "ticks": ""
             }
            },
            "type": "scatterternary"
           }
          ],
          "surface": [
           {
            "colorbar": {
             "outlinewidth": 0,
             "ticks": ""
            },
            "colorscale": [
             [
              0,
              "#0d0887"
             ],
             [
              0.1111111111111111,
              "#46039f"
             ],
             [
              0.2222222222222222,
              "#7201a8"
             ],
             [
              0.3333333333333333,
              "#9c179e"
             ],
             [
              0.4444444444444444,
              "#bd3786"
             ],
             [
              0.5555555555555556,
              "#d8576b"
             ],
             [
              0.6666666666666666,
              "#ed7953"
             ],
             [
              0.7777777777777778,
              "#fb9f3a"
             ],
             [
              0.8888888888888888,
              "#fdca26"
             ],
             [
              1,
              "#f0f921"
             ]
            ],
            "type": "surface"
           }
          ],
          "table": [
           {
            "cells": {
             "fill": {
              "color": "#EBF0F8"
             },
             "line": {
              "color": "white"
             }
            },
            "header": {
             "fill": {
              "color": "#C8D4E3"
             },
             "line": {
              "color": "white"
             }
            },
            "type": "table"
           }
          ]
         },
         "layout": {
          "annotationdefaults": {
           "arrowcolor": "#2a3f5f",
           "arrowhead": 0,
           "arrowwidth": 1
          },
          "autotypenumbers": "strict",
          "coloraxis": {
           "colorbar": {
            "outlinewidth": 0,
            "ticks": ""
           }
          },
          "colorscale": {
           "diverging": [
            [
             0,
             "#8e0152"
            ],
            [
             0.1,
             "#c51b7d"
            ],
            [
             0.2,
             "#de77ae"
            ],
            [
             0.3,
             "#f1b6da"
            ],
            [
             0.4,
             "#fde0ef"
            ],
            [
             0.5,
             "#f7f7f7"
            ],
            [
             0.6,
             "#e6f5d0"
            ],
            [
             0.7,
             "#b8e186"
            ],
            [
             0.8,
             "#7fbc41"
            ],
            [
             0.9,
             "#4d9221"
            ],
            [
             1,
             "#276419"
            ]
           ],
           "sequential": [
            [
             0,
             "#0d0887"
            ],
            [
             0.1111111111111111,
             "#46039f"
            ],
            [
             0.2222222222222222,
             "#7201a8"
            ],
            [
             0.3333333333333333,
             "#9c179e"
            ],
            [
             0.4444444444444444,
             "#bd3786"
            ],
            [
             0.5555555555555556,
             "#d8576b"
            ],
            [
             0.6666666666666666,
             "#ed7953"
            ],
            [
             0.7777777777777778,
             "#fb9f3a"
            ],
            [
             0.8888888888888888,
             "#fdca26"
            ],
            [
             1,
             "#f0f921"
            ]
           ],
           "sequentialminus": [
            [
             0,
             "#0d0887"
            ],
            [
             0.1111111111111111,
             "#46039f"
            ],
            [
             0.2222222222222222,
             "#7201a8"
            ],
            [
             0.3333333333333333,
             "#9c179e"
            ],
            [
             0.4444444444444444,
             "#bd3786"
            ],
            [
             0.5555555555555556,
             "#d8576b"
            ],
            [
             0.6666666666666666,
             "#ed7953"
            ],
            [
             0.7777777777777778,
             "#fb9f3a"
            ],
            [
             0.8888888888888888,
             "#fdca26"
            ],
            [
             1,
             "#f0f921"
            ]
           ]
          },
          "colorway": [
           "#636efa",
           "#EF553B",
           "#00cc96",
           "#ab63fa",
           "#FFA15A",
           "#19d3f3",
           "#FF6692",
           "#B6E880",
           "#FF97FF",
           "#FECB52"
          ],
          "font": {
           "color": "#2a3f5f"
          },
          "geo": {
           "bgcolor": "white",
           "lakecolor": "white",
           "landcolor": "#E5ECF6",
           "showlakes": true,
           "showland": true,
           "subunitcolor": "white"
          },
          "hoverlabel": {
           "align": "left"
          },
          "hovermode": "closest",
          "mapbox": {
           "style": "light"
          },
          "paper_bgcolor": "white",
          "plot_bgcolor": "#E5ECF6",
          "polar": {
           "angularaxis": {
            "gridcolor": "white",
            "linecolor": "white",
            "ticks": ""
           },
           "bgcolor": "#E5ECF6",
           "radialaxis": {
            "gridcolor": "white",
            "linecolor": "white",
            "ticks": ""
           }
          },
          "scene": {
           "xaxis": {
            "backgroundcolor": "#E5ECF6",
            "gridcolor": "white",
            "gridwidth": 2,
            "linecolor": "white",
            "showbackground": true,
            "ticks": "",
            "zerolinecolor": "white"
           },
           "yaxis": {
            "backgroundcolor": "#E5ECF6",
            "gridcolor": "white",
            "gridwidth": 2,
            "linecolor": "white",
            "showbackground": true,
            "ticks": "",
            "zerolinecolor": "white"
           },
           "zaxis": {
            "backgroundcolor": "#E5ECF6",
            "gridcolor": "white",
            "gridwidth": 2,
            "linecolor": "white",
            "showbackground": true,
            "ticks": "",
            "zerolinecolor": "white"
           }
          },
          "shapedefaults": {
           "line": {
            "color": "#2a3f5f"
           }
          },
          "ternary": {
           "aaxis": {
            "gridcolor": "white",
            "linecolor": "white",
            "ticks": ""
           },
           "baxis": {
            "gridcolor": "white",
            "linecolor": "white",
            "ticks": ""
           },
           "bgcolor": "#E5ECF6",
           "caxis": {
            "gridcolor": "white",
            "linecolor": "white",
            "ticks": ""
           }
          },
          "title": {
           "x": 0.05
          },
          "xaxis": {
           "automargin": true,
           "gridcolor": "white",
           "linecolor": "white",
           "ticks": "",
           "title": {
            "standoff": 15
           },
           "zerolinecolor": "white",
           "zerolinewidth": 2
          },
          "yaxis": {
           "automargin": true,
           "gridcolor": "white",
           "linecolor": "white",
           "ticks": "",
           "title": {
            "standoff": 15
           },
           "zerolinecolor": "white",
           "zerolinewidth": 2
          }
         }
        },
        "title": {
         "text": "Nombre de ventes par département"
        },
        "width": 700,
        "xaxis": {
         "anchor": "y",
         "domain": [
          0,
          1
         ],
         "range": [
          0,
          150000
         ],
         "title": {
          "text": "Nombre de ventes"
         }
        },
        "yaxis": {
         "anchor": "x",
         "domain": [
          0,
          1
         ],
         "title": {
          "text": "Département"
         }
        }
       }
      },
      "text/html": [
       "<div>                            <div id=\"9eed1091-e693-4b9d-9753-d3dc9e573491\" class=\"plotly-graph-div\" style=\"height:600px; width:700px;\"></div>            <script type=\"text/javascript\">                require([\"plotly\"], function(Plotly) {                    window.PLOTLYENV=window.PLOTLYENV || {};                                    if (document.getElementById(\"9eed1091-e693-4b9d-9753-d3dc9e573491\")) {                    Plotly.newPlot(                        \"9eed1091-e693-4b9d-9753-d3dc9e573491\",                        [{\"alignmentgroup\":\"True\",\"hovertemplate\":\"Nombre de ventes=%{text}<br>D\\u00e9partement=%{y}<extra></extra>\",\"legendgroup\":\"\",\"marker\":{\"color\":\"#fe9801\",\"pattern\":{\"shape\":\"\"}},\"name\":\"\",\"offsetgroup\":\"\",\"orientation\":\"h\",\"showlegend\":false,\"text\":[79563.0,83751.0,86463.0,86496.0,97517.0,100291.0,104649.0,104664.0,119574.0,121489.0],\"textposition\":\"outside\",\"x\":[79563,83751,86463,86496,97517,100291,104649,104664,119574,121489],\"xaxis\":\"x\",\"y\":[\"Hauts-de-Seine\",\"Seine-et-Marne\",\"Haute-Garonne\",\"H\\u00e9rault\",\"Paris\",\"Loire-Atlantique\",\"Rh\\u00f4ne\",\"Alpes-Maritimes\",\"Gironde\",\"Nord\"],\"yaxis\":\"y\",\"type\":\"bar\",\"opacity\":0.6}],                        {\"template\":{\"data\":{\"histogram2dcontour\":[{\"type\":\"histogram2dcontour\",\"colorbar\":{\"outlinewidth\":0,\"ticks\":\"\"},\"colorscale\":[[0.0,\"#0d0887\"],[0.1111111111111111,\"#46039f\"],[0.2222222222222222,\"#7201a8\"],[0.3333333333333333,\"#9c179e\"],[0.4444444444444444,\"#bd3786\"],[0.5555555555555556,\"#d8576b\"],[0.6666666666666666,\"#ed7953\"],[0.7777777777777778,\"#fb9f3a\"],[0.8888888888888888,\"#fdca26\"],[1.0,\"#f0f921\"]]}],\"choropleth\":[{\"type\":\"choropleth\",\"colorbar\":{\"outlinewidth\":0,\"ticks\":\"\"}}],\"histogram2d\":[{\"type\":\"histogram2d\",\"colorbar\":{\"outlinewidth\":0,\"ticks\":\"\"},\"colorscale\":[[0.0,\"#0d0887\"],[0.1111111111111111,\"#46039f\"],[0.2222222222222222,\"#7201a8\"],[0.3333333333333333,\"#9c179e\"],[0.4444444444444444,\"#bd3786\"],[0.5555555555555556,\"#d8576b\"],[0.6666666666666666,\"#ed7953\"],[0.7777777777777778,\"#fb9f3a\"],[0.8888888888888888,\"#fdca26\"],[1.0,\"#f0f921\"]]}],\"heatmap\":[{\"type\":\"heatmap\",\"colorbar\":{\"outlinewidth\":0,\"ticks\":\"\"},\"colorscale\":[[0.0,\"#0d0887\"],[0.1111111111111111,\"#46039f\"],[0.2222222222222222,\"#7201a8\"],[0.3333333333333333,\"#9c179e\"],[0.4444444444444444,\"#bd3786\"],[0.5555555555555556,\"#d8576b\"],[0.6666666666666666,\"#ed7953\"],[0.7777777777777778,\"#fb9f3a\"],[0.8888888888888888,\"#fdca26\"],[1.0,\"#f0f921\"]]}],\"heatmapgl\":[{\"type\":\"heatmapgl\",\"colorbar\":{\"outlinewidth\":0,\"ticks\":\"\"},\"colorscale\":[[0.0,\"#0d0887\"],[0.1111111111111111,\"#46039f\"],[0.2222222222222222,\"#7201a8\"],[0.3333333333333333,\"#9c179e\"],[0.4444444444444444,\"#bd3786\"],[0.5555555555555556,\"#d8576b\"],[0.6666666666666666,\"#ed7953\"],[0.7777777777777778,\"#fb9f3a\"],[0.8888888888888888,\"#fdca26\"],[1.0,\"#f0f921\"]]}],\"contourcarpet\":[{\"type\":\"contourcarpet\",\"colorbar\":{\"outlinewidth\":0,\"ticks\":\"\"}}],\"contour\":[{\"type\":\"contour\",\"colorbar\":{\"outlinewidth\":0,\"ticks\":\"\"},\"colorscale\":[[0.0,\"#0d0887\"],[0.1111111111111111,\"#46039f\"],[0.2222222222222222,\"#7201a8\"],[0.3333333333333333,\"#9c179e\"],[0.4444444444444444,\"#bd3786\"],[0.5555555555555556,\"#d8576b\"],[0.6666666666666666,\"#ed7953\"],[0.7777777777777778,\"#fb9f3a\"],[0.8888888888888888,\"#fdca26\"],[1.0,\"#f0f921\"]]}],\"surface\":[{\"type\":\"surface\",\"colorbar\":{\"outlinewidth\":0,\"ticks\":\"\"},\"colorscale\":[[0.0,\"#0d0887\"],[0.1111111111111111,\"#46039f\"],[0.2222222222222222,\"#7201a8\"],[0.3333333333333333,\"#9c179e\"],[0.4444444444444444,\"#bd3786\"],[0.5555555555555556,\"#d8576b\"],[0.6666666666666666,\"#ed7953\"],[0.7777777777777778,\"#fb9f3a\"],[0.8888888888888888,\"#fdca26\"],[1.0,\"#f0f921\"]]}],\"mesh3d\":[{\"type\":\"mesh3d\",\"colorbar\":{\"outlinewidth\":0,\"ticks\":\"\"}}],\"scatter\":[{\"fillpattern\":{\"fillmode\":\"overlay\",\"size\":10,\"solidity\":0.2},\"type\":\"scatter\"}],\"parcoords\":[{\"type\":\"parcoords\",\"line\":{\"colorbar\":{\"outlinewidth\":0,\"ticks\":\"\"}}}],\"scatterpolargl\":[{\"type\":\"scatterpolargl\",\"marker\":{\"colorbar\":{\"outlinewidth\":0,\"ticks\":\"\"}}}],\"bar\":[{\"error_x\":{\"color\":\"#2a3f5f\"},\"error_y\":{\"color\":\"#2a3f5f\"},\"marker\":{\"line\":{\"color\":\"#E5ECF6\",\"width\":0.5},\"pattern\":{\"fillmode\":\"overlay\",\"size\":10,\"solidity\":0.2}},\"type\":\"bar\"}],\"scattergeo\":[{\"type\":\"scattergeo\",\"marker\":{\"colorbar\":{\"outlinewidth\":0,\"ticks\":\"\"}}}],\"scatterpolar\":[{\"type\":\"scatterpolar\",\"marker\":{\"colorbar\":{\"outlinewidth\":0,\"ticks\":\"\"}}}],\"histogram\":[{\"marker\":{\"pattern\":{\"fillmode\":\"overlay\",\"size\":10,\"solidity\":0.2}},\"type\":\"histogram\"}],\"scattergl\":[{\"type\":\"scattergl\",\"marker\":{\"colorbar\":{\"outlinewidth\":0,\"ticks\":\"\"}}}],\"scatter3d\":[{\"type\":\"scatter3d\",\"line\":{\"colorbar\":{\"outlinewidth\":0,\"ticks\":\"\"}},\"marker\":{\"colorbar\":{\"outlinewidth\":0,\"ticks\":\"\"}}}],\"scattermapbox\":[{\"type\":\"scattermapbox\",\"marker\":{\"colorbar\":{\"outlinewidth\":0,\"ticks\":\"\"}}}],\"scatterternary\":[{\"type\":\"scatterternary\",\"marker\":{\"colorbar\":{\"outlinewidth\":0,\"ticks\":\"\"}}}],\"scattercarpet\":[{\"type\":\"scattercarpet\",\"marker\":{\"colorbar\":{\"outlinewidth\":0,\"ticks\":\"\"}}}],\"carpet\":[{\"aaxis\":{\"endlinecolor\":\"#2a3f5f\",\"gridcolor\":\"white\",\"linecolor\":\"white\",\"minorgridcolor\":\"white\",\"startlinecolor\":\"#2a3f5f\"},\"baxis\":{\"endlinecolor\":\"#2a3f5f\",\"gridcolor\":\"white\",\"linecolor\":\"white\",\"minorgridcolor\":\"white\",\"startlinecolor\":\"#2a3f5f\"},\"type\":\"carpet\"}],\"table\":[{\"cells\":{\"fill\":{\"color\":\"#EBF0F8\"},\"line\":{\"color\":\"white\"}},\"header\":{\"fill\":{\"color\":\"#C8D4E3\"},\"line\":{\"color\":\"white\"}},\"type\":\"table\"}],\"barpolar\":[{\"marker\":{\"line\":{\"color\":\"#E5ECF6\",\"width\":0.5},\"pattern\":{\"fillmode\":\"overlay\",\"size\":10,\"solidity\":0.2}},\"type\":\"barpolar\"}],\"pie\":[{\"automargin\":true,\"type\":\"pie\"}]},\"layout\":{\"autotypenumbers\":\"strict\",\"colorway\":[\"#636efa\",\"#EF553B\",\"#00cc96\",\"#ab63fa\",\"#FFA15A\",\"#19d3f3\",\"#FF6692\",\"#B6E880\",\"#FF97FF\",\"#FECB52\"],\"font\":{\"color\":\"#2a3f5f\"},\"hovermode\":\"closest\",\"hoverlabel\":{\"align\":\"left\"},\"paper_bgcolor\":\"white\",\"plot_bgcolor\":\"#E5ECF6\",\"polar\":{\"bgcolor\":\"#E5ECF6\",\"angularaxis\":{\"gridcolor\":\"white\",\"linecolor\":\"white\",\"ticks\":\"\"},\"radialaxis\":{\"gridcolor\":\"white\",\"linecolor\":\"white\",\"ticks\":\"\"}},\"ternary\":{\"bgcolor\":\"#E5ECF6\",\"aaxis\":{\"gridcolor\":\"white\",\"linecolor\":\"white\",\"ticks\":\"\"},\"baxis\":{\"gridcolor\":\"white\",\"linecolor\":\"white\",\"ticks\":\"\"},\"caxis\":{\"gridcolor\":\"white\",\"linecolor\":\"white\",\"ticks\":\"\"}},\"coloraxis\":{\"colorbar\":{\"outlinewidth\":0,\"ticks\":\"\"}},\"colorscale\":{\"sequential\":[[0.0,\"#0d0887\"],[0.1111111111111111,\"#46039f\"],[0.2222222222222222,\"#7201a8\"],[0.3333333333333333,\"#9c179e\"],[0.4444444444444444,\"#bd3786\"],[0.5555555555555556,\"#d8576b\"],[0.6666666666666666,\"#ed7953\"],[0.7777777777777778,\"#fb9f3a\"],[0.8888888888888888,\"#fdca26\"],[1.0,\"#f0f921\"]],\"sequentialminus\":[[0.0,\"#0d0887\"],[0.1111111111111111,\"#46039f\"],[0.2222222222222222,\"#7201a8\"],[0.3333333333333333,\"#9c179e\"],[0.4444444444444444,\"#bd3786\"],[0.5555555555555556,\"#d8576b\"],[0.6666666666666666,\"#ed7953\"],[0.7777777777777778,\"#fb9f3a\"],[0.8888888888888888,\"#fdca26\"],[1.0,\"#f0f921\"]],\"diverging\":[[0,\"#8e0152\"],[0.1,\"#c51b7d\"],[0.2,\"#de77ae\"],[0.3,\"#f1b6da\"],[0.4,\"#fde0ef\"],[0.5,\"#f7f7f7\"],[0.6,\"#e6f5d0\"],[0.7,\"#b8e186\"],[0.8,\"#7fbc41\"],[0.9,\"#4d9221\"],[1,\"#276419\"]]},\"xaxis\":{\"gridcolor\":\"white\",\"linecolor\":\"white\",\"ticks\":\"\",\"title\":{\"standoff\":15},\"zerolinecolor\":\"white\",\"automargin\":true,\"zerolinewidth\":2},\"yaxis\":{\"gridcolor\":\"white\",\"linecolor\":\"white\",\"ticks\":\"\",\"title\":{\"standoff\":15},\"zerolinecolor\":\"white\",\"automargin\":true,\"zerolinewidth\":2},\"scene\":{\"xaxis\":{\"backgroundcolor\":\"#E5ECF6\",\"gridcolor\":\"white\",\"linecolor\":\"white\",\"showbackground\":true,\"ticks\":\"\",\"zerolinecolor\":\"white\",\"gridwidth\":2},\"yaxis\":{\"backgroundcolor\":\"#E5ECF6\",\"gridcolor\":\"white\",\"linecolor\":\"white\",\"showbackground\":true,\"ticks\":\"\",\"zerolinecolor\":\"white\",\"gridwidth\":2},\"zaxis\":{\"backgroundcolor\":\"#E5ECF6\",\"gridcolor\":\"white\",\"linecolor\":\"white\",\"showbackground\":true,\"ticks\":\"\",\"zerolinecolor\":\"white\",\"gridwidth\":2}},\"shapedefaults\":{\"line\":{\"color\":\"#2a3f5f\"}},\"annotationdefaults\":{\"arrowcolor\":\"#2a3f5f\",\"arrowhead\":0,\"arrowwidth\":1},\"geo\":{\"bgcolor\":\"white\",\"landcolor\":\"#E5ECF6\",\"subunitcolor\":\"white\",\"showland\":true,\"showlakes\":true,\"lakecolor\":\"white\"},\"title\":{\"x\":0.05},\"mapbox\":{\"style\":\"light\"}}},\"xaxis\":{\"anchor\":\"y\",\"domain\":[0.0,1.0],\"title\":{\"text\":\"Nombre de ventes\"},\"range\":[0,150000]},\"yaxis\":{\"anchor\":\"x\",\"domain\":[0.0,1.0],\"title\":{\"text\":\"D\\u00e9partement\"}},\"legend\":{\"tracegroupgap\":0},\"title\":{\"text\":\"Nombre de ventes par d\\u00e9partement\"},\"barmode\":\"relative\",\"height\":600,\"width\":700},                        {\"responsive\": true}                    ).then(function(){\n",
       "                            \n",
       "var gd = document.getElementById('9eed1091-e693-4b9d-9753-d3dc9e573491');\n",
       "var x = new MutationObserver(function (mutations, observer) {{\n",
       "        var display = window.getComputedStyle(gd).display;\n",
       "        if (!display || display === 'none') {{\n",
       "            console.log([gd, 'removed!']);\n",
       "            Plotly.purge(gd);\n",
       "            observer.disconnect();\n",
       "        }}\n",
       "}});\n",
       "\n",
       "// Listen for the removal of the full notebook cells\n",
       "var notebookContainer = gd.closest('#notebook-container');\n",
       "if (notebookContainer) {{\n",
       "    x.observe(notebookContainer, {childList: true});\n",
       "}}\n",
       "\n",
       "// Listen for the clearing of the current output cell\n",
       "var outputEl = gd.closest('.output');\n",
       "if (outputEl) {{\n",
       "    x.observe(outputEl, {childList: true});\n",
       "}}\n",
       "\n",
       "                        })                };                });            </script>        </div>"
      ]
     },
     "metadata": {},
     "output_type": "display_data"
    }
   ],
   "source": [
    "dict_nb_ventes = pd.DataFrame(data[\"Code departement\"].value_counts().head(10)).reset_index()\n",
    "dict_nb_ventes.columns = [\"Code departement\",\"Nombre de ventes\"]\n",
    "for i in dict_nb_ventes[\"Code departement\"]:\n",
    "    dict_nb_ventes.loc[dict_nb_ventes[\"Code departement\"]== i,\"Département\"] = DEPARTMENTS.get(str(i))\n",
    "   \n",
    "dict_nb_ventes\n",
    "\n",
    "# (Only countries with more than 100 case are considered)\n",
    "\n",
    "act = '#fe9801'\n",
    "temp = dict_nb_ventes\n",
    "temp = temp.sort_values('Code departement', ascending=False)\n",
    "\n",
    "fig = px.bar(temp.sort_values('Nombre de ventes', ascending=False).head(10).sort_values('Nombre de ventes', ascending=True), \n",
    "             x=\"Nombre de ventes\", y=\"Département\", text='Nombre de ventes', orientation='h', \n",
    "             width=700, height=600, range_x = [0, 150000], title='Nombre de ventes par département')\n",
    "fig.update_traces(marker_color=act, opacity=0.6, textposition='outside')\n",
    "fig.show()"
   ]
  },
  {
   "cell_type": "code",
   "execution_count": 118,
   "metadata": {},
   "outputs": [
    {
     "data": {
      "text/html": [
       "<div>\n",
       "<style scoped>\n",
       "    .dataframe tbody tr th:only-of-type {\n",
       "        vertical-align: middle;\n",
       "    }\n",
       "\n",
       "    .dataframe tbody tr th {\n",
       "        vertical-align: top;\n",
       "    }\n",
       "\n",
       "    .dataframe thead th {\n",
       "        text-align: right;\n",
       "    }\n",
       "</style>\n",
       "<table border=\"1\" class=\"dataframe\">\n",
       "  <thead>\n",
       "    <tr style=\"text-align: right;\">\n",
       "      <th></th>\n",
       "      <th>Code departement</th>\n",
       "      <th>Volume monétaire</th>\n",
       "      <th>Département</th>\n",
       "    </tr>\n",
       "  </thead>\n",
       "  <tbody>\n",
       "    <tr>\n",
       "      <th>0</th>\n",
       "      <td>1</td>\n",
       "      <td>11.46</td>\n",
       "      <td>Ain</td>\n",
       "    </tr>\n",
       "    <tr>\n",
       "      <th>1</th>\n",
       "      <td>10</td>\n",
       "      <td>3.60</td>\n",
       "      <td>Aube</td>\n",
       "    </tr>\n",
       "    <tr>\n",
       "      <th>2</th>\n",
       "      <td>11</td>\n",
       "      <td>5.93</td>\n",
       "      <td>Aude</td>\n",
       "    </tr>\n",
       "    <tr>\n",
       "      <th>3</th>\n",
       "      <td>12</td>\n",
       "      <td>2.27</td>\n",
       "      <td>Aveyron</td>\n",
       "    </tr>\n",
       "    <tr>\n",
       "      <th>4</th>\n",
       "      <td>13</td>\n",
       "      <td>48.03</td>\n",
       "      <td>Bouches-du-Rhône</td>\n",
       "    </tr>\n",
       "    <tr>\n",
       "      <th>...</th>\n",
       "      <td>...</td>\n",
       "      <td>...</td>\n",
       "      <td>...</td>\n",
       "    </tr>\n",
       "    <tr>\n",
       "      <th>92</th>\n",
       "      <td>95</td>\n",
       "      <td>29.73</td>\n",
       "      <td>Val-d'Oise</td>\n",
       "    </tr>\n",
       "    <tr>\n",
       "      <th>93</th>\n",
       "      <td>971</td>\n",
       "      <td>2.45</td>\n",
       "      <td>Guadeloupe</td>\n",
       "    </tr>\n",
       "    <tr>\n",
       "      <th>94</th>\n",
       "      <td>972</td>\n",
       "      <td>5.19</td>\n",
       "      <td>Martinique</td>\n",
       "    </tr>\n",
       "    <tr>\n",
       "      <th>95</th>\n",
       "      <td>973</td>\n",
       "      <td>10.39</td>\n",
       "      <td>Guyane</td>\n",
       "    </tr>\n",
       "    <tr>\n",
       "      <th>96</th>\n",
       "      <td>974</td>\n",
       "      <td>11.39</td>\n",
       "      <td>La Réunion</td>\n",
       "    </tr>\n",
       "  </tbody>\n",
       "</table>\n",
       "<p>97 rows × 3 columns</p>\n",
       "</div>"
      ],
      "text/plain": [
       "   Code departement  Volume monétaire       Département\n",
       "0                 1             11.46               Ain\n",
       "1                10              3.60              Aube\n",
       "2                11              5.93              Aude\n",
       "3                12              2.27           Aveyron\n",
       "4                13             48.03  Bouches-du-Rhône\n",
       "..              ...               ...               ...\n",
       "92               95             29.73        Val-d'Oise\n",
       "93              971              2.45        Guadeloupe\n",
       "94              972              5.19        Martinique\n",
       "95              973             10.39            Guyane\n",
       "96              974             11.39        La Réunion\n",
       "\n",
       "[97 rows x 3 columns]"
      ]
     },
     "execution_count": 118,
     "metadata": {},
     "output_type": "execute_result"
    }
   ],
   "source": [
    "dict_vol_ventes = data.groupby([\"Code departement\"])[\"Valeur fonciere\"].sum().reset_index()\n",
    "dict_vol_ventes.columns = [\"Code departement\",\"Volume monétaire\"]\n",
    "dict_vol_ventes[\"Volume monétaire\"] = round(dict_vol_ventes[\"Volume monétaire\"]/1000000000,2)\n",
    "for i in dict_vol_ventes[\"Code departement\"]:\n",
    "    dict_vol_ventes.loc[dict_vol_ventes[\"Code departement\"] == i,\"Département\"] = DEPARTMENTS.get(str(i))\n",
    "    \n",
    "dict_vol_ventes"
   ]
  },
  {
   "cell_type": "code",
   "execution_count": 12,
   "metadata": {},
   "outputs": [
    {
     "data": {
      "application/vnd.plotly.v1+json": {
       "config": {
        "plotlyServerURL": "https://plot.ly"
       },
       "data": [
        {
         "alignmentgroup": "True",
         "hovertemplate": "Volume monétaire=%{text}<br>Département=%{y}<extra></extra>",
         "legendgroup": "",
         "marker": {
          "color": "#fe9801",
          "pattern": {
           "shape": ""
          }
         },
         "name": "",
         "offsetgroup": "",
         "opacity": 0.6,
         "orientation": "h",
         "showlegend": false,
         "text": [
          71.25,
          73.02,
          74.32,
          76.65,
          82.74,
          83.79,
          128.14,
          314.93,
          329.49,
          460.25
         ],
         "textposition": "outside",
         "type": "bar",
         "x": [
          71.25,
          73.02,
          74.32,
          76.65,
          82.74,
          83.79,
          128.14,
          314.93,
          329.49,
          460.25
         ],
         "xaxis": "x",
         "y": [
          "Seine-et-Marne",
          "Val-de-Marne",
          "Alpes-Maritimes",
          "Nord",
          "Rhône",
          "Gironde",
          "Seine-Saint-Denis",
          "Hauts-de-Seine",
          "Paris",
          "Côtes-d'Armor"
         ],
         "yaxis": "y"
        }
       ],
       "layout": {
        "barmode": "relative",
        "height": 600,
        "legend": {
         "tracegroupgap": 0
        },
        "template": {
         "data": {
          "bar": [
           {
            "error_x": {
             "color": "#2a3f5f"
            },
            "error_y": {
             "color": "#2a3f5f"
            },
            "marker": {
             "line": {
              "color": "#E5ECF6",
              "width": 0.5
             },
             "pattern": {
              "fillmode": "overlay",
              "size": 10,
              "solidity": 0.2
             }
            },
            "type": "bar"
           }
          ],
          "barpolar": [
           {
            "marker": {
             "line": {
              "color": "#E5ECF6",
              "width": 0.5
             },
             "pattern": {
              "fillmode": "overlay",
              "size": 10,
              "solidity": 0.2
             }
            },
            "type": "barpolar"
           }
          ],
          "carpet": [
           {
            "aaxis": {
             "endlinecolor": "#2a3f5f",
             "gridcolor": "white",
             "linecolor": "white",
             "minorgridcolor": "white",
             "startlinecolor": "#2a3f5f"
            },
            "baxis": {
             "endlinecolor": "#2a3f5f",
             "gridcolor": "white",
             "linecolor": "white",
             "minorgridcolor": "white",
             "startlinecolor": "#2a3f5f"
            },
            "type": "carpet"
           }
          ],
          "choropleth": [
           {
            "colorbar": {
             "outlinewidth": 0,
             "ticks": ""
            },
            "type": "choropleth"
           }
          ],
          "contour": [
           {
            "colorbar": {
             "outlinewidth": 0,
             "ticks": ""
            },
            "colorscale": [
             [
              0,
              "#0d0887"
             ],
             [
              0.1111111111111111,
              "#46039f"
             ],
             [
              0.2222222222222222,
              "#7201a8"
             ],
             [
              0.3333333333333333,
              "#9c179e"
             ],
             [
              0.4444444444444444,
              "#bd3786"
             ],
             [
              0.5555555555555556,
              "#d8576b"
             ],
             [
              0.6666666666666666,
              "#ed7953"
             ],
             [
              0.7777777777777778,
              "#fb9f3a"
             ],
             [
              0.8888888888888888,
              "#fdca26"
             ],
             [
              1,
              "#f0f921"
             ]
            ],
            "type": "contour"
           }
          ],
          "contourcarpet": [
           {
            "colorbar": {
             "outlinewidth": 0,
             "ticks": ""
            },
            "type": "contourcarpet"
           }
          ],
          "heatmap": [
           {
            "colorbar": {
             "outlinewidth": 0,
             "ticks": ""
            },
            "colorscale": [
             [
              0,
              "#0d0887"
             ],
             [
              0.1111111111111111,
              "#46039f"
             ],
             [
              0.2222222222222222,
              "#7201a8"
             ],
             [
              0.3333333333333333,
              "#9c179e"
             ],
             [
              0.4444444444444444,
              "#bd3786"
             ],
             [
              0.5555555555555556,
              "#d8576b"
             ],
             [
              0.6666666666666666,
              "#ed7953"
             ],
             [
              0.7777777777777778,
              "#fb9f3a"
             ],
             [
              0.8888888888888888,
              "#fdca26"
             ],
             [
              1,
              "#f0f921"
             ]
            ],
            "type": "heatmap"
           }
          ],
          "heatmapgl": [
           {
            "colorbar": {
             "outlinewidth": 0,
             "ticks": ""
            },
            "colorscale": [
             [
              0,
              "#0d0887"
             ],
             [
              0.1111111111111111,
              "#46039f"
             ],
             [
              0.2222222222222222,
              "#7201a8"
             ],
             [
              0.3333333333333333,
              "#9c179e"
             ],
             [
              0.4444444444444444,
              "#bd3786"
             ],
             [
              0.5555555555555556,
              "#d8576b"
             ],
             [
              0.6666666666666666,
              "#ed7953"
             ],
             [
              0.7777777777777778,
              "#fb9f3a"
             ],
             [
              0.8888888888888888,
              "#fdca26"
             ],
             [
              1,
              "#f0f921"
             ]
            ],
            "type": "heatmapgl"
           }
          ],
          "histogram": [
           {
            "marker": {
             "pattern": {
              "fillmode": "overlay",
              "size": 10,
              "solidity": 0.2
             }
            },
            "type": "histogram"
           }
          ],
          "histogram2d": [
           {
            "colorbar": {
             "outlinewidth": 0,
             "ticks": ""
            },
            "colorscale": [
             [
              0,
              "#0d0887"
             ],
             [
              0.1111111111111111,
              "#46039f"
             ],
             [
              0.2222222222222222,
              "#7201a8"
             ],
             [
              0.3333333333333333,
              "#9c179e"
             ],
             [
              0.4444444444444444,
              "#bd3786"
             ],
             [
              0.5555555555555556,
              "#d8576b"
             ],
             [
              0.6666666666666666,
              "#ed7953"
             ],
             [
              0.7777777777777778,
              "#fb9f3a"
             ],
             [
              0.8888888888888888,
              "#fdca26"
             ],
             [
              1,
              "#f0f921"
             ]
            ],
            "type": "histogram2d"
           }
          ],
          "histogram2dcontour": [
           {
            "colorbar": {
             "outlinewidth": 0,
             "ticks": ""
            },
            "colorscale": [
             [
              0,
              "#0d0887"
             ],
             [
              0.1111111111111111,
              "#46039f"
             ],
             [
              0.2222222222222222,
              "#7201a8"
             ],
             [
              0.3333333333333333,
              "#9c179e"
             ],
             [
              0.4444444444444444,
              "#bd3786"
             ],
             [
              0.5555555555555556,
              "#d8576b"
             ],
             [
              0.6666666666666666,
              "#ed7953"
             ],
             [
              0.7777777777777778,
              "#fb9f3a"
             ],
             [
              0.8888888888888888,
              "#fdca26"
             ],
             [
              1,
              "#f0f921"
             ]
            ],
            "type": "histogram2dcontour"
           }
          ],
          "mesh3d": [
           {
            "colorbar": {
             "outlinewidth": 0,
             "ticks": ""
            },
            "type": "mesh3d"
           }
          ],
          "parcoords": [
           {
            "line": {
             "colorbar": {
              "outlinewidth": 0,
              "ticks": ""
             }
            },
            "type": "parcoords"
           }
          ],
          "pie": [
           {
            "automargin": true,
            "type": "pie"
           }
          ],
          "scatter": [
           {
            "fillpattern": {
             "fillmode": "overlay",
             "size": 10,
             "solidity": 0.2
            },
            "type": "scatter"
           }
          ],
          "scatter3d": [
           {
            "line": {
             "colorbar": {
              "outlinewidth": 0,
              "ticks": ""
             }
            },
            "marker": {
             "colorbar": {
              "outlinewidth": 0,
              "ticks": ""
             }
            },
            "type": "scatter3d"
           }
          ],
          "scattercarpet": [
           {
            "marker": {
             "colorbar": {
              "outlinewidth": 0,
              "ticks": ""
             }
            },
            "type": "scattercarpet"
           }
          ],
          "scattergeo": [
           {
            "marker": {
             "colorbar": {
              "outlinewidth": 0,
              "ticks": ""
             }
            },
            "type": "scattergeo"
           }
          ],
          "scattergl": [
           {
            "marker": {
             "colorbar": {
              "outlinewidth": 0,
              "ticks": ""
             }
            },
            "type": "scattergl"
           }
          ],
          "scattermapbox": [
           {
            "marker": {
             "colorbar": {
              "outlinewidth": 0,
              "ticks": ""
             }
            },
            "type": "scattermapbox"
           }
          ],
          "scatterpolar": [
           {
            "marker": {
             "colorbar": {
              "outlinewidth": 0,
              "ticks": ""
             }
            },
            "type": "scatterpolar"
           }
          ],
          "scatterpolargl": [
           {
            "marker": {
             "colorbar": {
              "outlinewidth": 0,
              "ticks": ""
             }
            },
            "type": "scatterpolargl"
           }
          ],
          "scatterternary": [
           {
            "marker": {
             "colorbar": {
              "outlinewidth": 0,
              "ticks": ""
             }
            },
            "type": "scatterternary"
           }
          ],
          "surface": [
           {
            "colorbar": {
             "outlinewidth": 0,
             "ticks": ""
            },
            "colorscale": [
             [
              0,
              "#0d0887"
             ],
             [
              0.1111111111111111,
              "#46039f"
             ],
             [
              0.2222222222222222,
              "#7201a8"
             ],
             [
              0.3333333333333333,
              "#9c179e"
             ],
             [
              0.4444444444444444,
              "#bd3786"
             ],
             [
              0.5555555555555556,
              "#d8576b"
             ],
             [
              0.6666666666666666,
              "#ed7953"
             ],
             [
              0.7777777777777778,
              "#fb9f3a"
             ],
             [
              0.8888888888888888,
              "#fdca26"
             ],
             [
              1,
              "#f0f921"
             ]
            ],
            "type": "surface"
           }
          ],
          "table": [
           {
            "cells": {
             "fill": {
              "color": "#EBF0F8"
             },
             "line": {
              "color": "white"
             }
            },
            "header": {
             "fill": {
              "color": "#C8D4E3"
             },
             "line": {
              "color": "white"
             }
            },
            "type": "table"
           }
          ]
         },
         "layout": {
          "annotationdefaults": {
           "arrowcolor": "#2a3f5f",
           "arrowhead": 0,
           "arrowwidth": 1
          },
          "autotypenumbers": "strict",
          "coloraxis": {
           "colorbar": {
            "outlinewidth": 0,
            "ticks": ""
           }
          },
          "colorscale": {
           "diverging": [
            [
             0,
             "#8e0152"
            ],
            [
             0.1,
             "#c51b7d"
            ],
            [
             0.2,
             "#de77ae"
            ],
            [
             0.3,
             "#f1b6da"
            ],
            [
             0.4,
             "#fde0ef"
            ],
            [
             0.5,
             "#f7f7f7"
            ],
            [
             0.6,
             "#e6f5d0"
            ],
            [
             0.7,
             "#b8e186"
            ],
            [
             0.8,
             "#7fbc41"
            ],
            [
             0.9,
             "#4d9221"
            ],
            [
             1,
             "#276419"
            ]
           ],
           "sequential": [
            [
             0,
             "#0d0887"
            ],
            [
             0.1111111111111111,
             "#46039f"
            ],
            [
             0.2222222222222222,
             "#7201a8"
            ],
            [
             0.3333333333333333,
             "#9c179e"
            ],
            [
             0.4444444444444444,
             "#bd3786"
            ],
            [
             0.5555555555555556,
             "#d8576b"
            ],
            [
             0.6666666666666666,
             "#ed7953"
            ],
            [
             0.7777777777777778,
             "#fb9f3a"
            ],
            [
             0.8888888888888888,
             "#fdca26"
            ],
            [
             1,
             "#f0f921"
            ]
           ],
           "sequentialminus": [
            [
             0,
             "#0d0887"
            ],
            [
             0.1111111111111111,
             "#46039f"
            ],
            [
             0.2222222222222222,
             "#7201a8"
            ],
            [
             0.3333333333333333,
             "#9c179e"
            ],
            [
             0.4444444444444444,
             "#bd3786"
            ],
            [
             0.5555555555555556,
             "#d8576b"
            ],
            [
             0.6666666666666666,
             "#ed7953"
            ],
            [
             0.7777777777777778,
             "#fb9f3a"
            ],
            [
             0.8888888888888888,
             "#fdca26"
            ],
            [
             1,
             "#f0f921"
            ]
           ]
          },
          "colorway": [
           "#636efa",
           "#EF553B",
           "#00cc96",
           "#ab63fa",
           "#FFA15A",
           "#19d3f3",
           "#FF6692",
           "#B6E880",
           "#FF97FF",
           "#FECB52"
          ],
          "font": {
           "color": "#2a3f5f"
          },
          "geo": {
           "bgcolor": "white",
           "lakecolor": "white",
           "landcolor": "#E5ECF6",
           "showlakes": true,
           "showland": true,
           "subunitcolor": "white"
          },
          "hoverlabel": {
           "align": "left"
          },
          "hovermode": "closest",
          "mapbox": {
           "style": "light"
          },
          "paper_bgcolor": "white",
          "plot_bgcolor": "#E5ECF6",
          "polar": {
           "angularaxis": {
            "gridcolor": "white",
            "linecolor": "white",
            "ticks": ""
           },
           "bgcolor": "#E5ECF6",
           "radialaxis": {
            "gridcolor": "white",
            "linecolor": "white",
            "ticks": ""
           }
          },
          "scene": {
           "xaxis": {
            "backgroundcolor": "#E5ECF6",
            "gridcolor": "white",
            "gridwidth": 2,
            "linecolor": "white",
            "showbackground": true,
            "ticks": "",
            "zerolinecolor": "white"
           },
           "yaxis": {
            "backgroundcolor": "#E5ECF6",
            "gridcolor": "white",
            "gridwidth": 2,
            "linecolor": "white",
            "showbackground": true,
            "ticks": "",
            "zerolinecolor": "white"
           },
           "zaxis": {
            "backgroundcolor": "#E5ECF6",
            "gridcolor": "white",
            "gridwidth": 2,
            "linecolor": "white",
            "showbackground": true,
            "ticks": "",
            "zerolinecolor": "white"
           }
          },
          "shapedefaults": {
           "line": {
            "color": "#2a3f5f"
           }
          },
          "ternary": {
           "aaxis": {
            "gridcolor": "white",
            "linecolor": "white",
            "ticks": ""
           },
           "baxis": {
            "gridcolor": "white",
            "linecolor": "white",
            "ticks": ""
           },
           "bgcolor": "#E5ECF6",
           "caxis": {
            "gridcolor": "white",
            "linecolor": "white",
            "ticks": ""
           }
          },
          "title": {
           "x": 0.05
          },
          "xaxis": {
           "automargin": true,
           "gridcolor": "white",
           "linecolor": "white",
           "ticks": "",
           "title": {
            "standoff": 15
           },
           "zerolinecolor": "white",
           "zerolinewidth": 2
          },
          "yaxis": {
           "automargin": true,
           "gridcolor": "white",
           "linecolor": "white",
           "ticks": "",
           "title": {
            "standoff": 15
           },
           "zerolinecolor": "white",
           "zerolinewidth": 2
          }
         }
        },
        "title": {
         "text": "Volume monétaire par département en Milliards"
        },
        "width": 700,
        "xaxis": {
         "anchor": "y",
         "domain": [
          0,
          1
         ],
         "range": [
          0,
          500
         ],
         "title": {
          "text": "Volume monétaire"
         }
        },
        "yaxis": {
         "anchor": "x",
         "domain": [
          0,
          1
         ],
         "title": {
          "text": "Département"
         }
        }
       }
      },
      "text/html": [
       "<div>                            <div id=\"4110aa08-c9f4-41f7-b32a-e4bf585b5e5a\" class=\"plotly-graph-div\" style=\"height:600px; width:700px;\"></div>            <script type=\"text/javascript\">                require([\"plotly\"], function(Plotly) {                    window.PLOTLYENV=window.PLOTLYENV || {};                                    if (document.getElementById(\"4110aa08-c9f4-41f7-b32a-e4bf585b5e5a\")) {                    Plotly.newPlot(                        \"4110aa08-c9f4-41f7-b32a-e4bf585b5e5a\",                        [{\"alignmentgroup\":\"True\",\"hovertemplate\":\"Volume mon\\u00e9taire=%{text}<br>D\\u00e9partement=%{y}<extra></extra>\",\"legendgroup\":\"\",\"marker\":{\"color\":\"#fe9801\",\"pattern\":{\"shape\":\"\"}},\"name\":\"\",\"offsetgroup\":\"\",\"orientation\":\"h\",\"showlegend\":false,\"text\":[71.25,73.02,74.32,76.65,82.74,83.79,128.14,314.93,329.49,460.25],\"textposition\":\"outside\",\"x\":[71.25,73.02,74.32,76.65,82.74,83.79,128.14,314.93,329.49,460.25],\"xaxis\":\"x\",\"y\":[\"Seine-et-Marne\",\"Val-de-Marne\",\"Alpes-Maritimes\",\"Nord\",\"Rh\\u00f4ne\",\"Gironde\",\"Seine-Saint-Denis\",\"Hauts-de-Seine\",\"Paris\",\"C\\u00f4tes-d'Armor\"],\"yaxis\":\"y\",\"type\":\"bar\",\"opacity\":0.6}],                        {\"template\":{\"data\":{\"histogram2dcontour\":[{\"type\":\"histogram2dcontour\",\"colorbar\":{\"outlinewidth\":0,\"ticks\":\"\"},\"colorscale\":[[0.0,\"#0d0887\"],[0.1111111111111111,\"#46039f\"],[0.2222222222222222,\"#7201a8\"],[0.3333333333333333,\"#9c179e\"],[0.4444444444444444,\"#bd3786\"],[0.5555555555555556,\"#d8576b\"],[0.6666666666666666,\"#ed7953\"],[0.7777777777777778,\"#fb9f3a\"],[0.8888888888888888,\"#fdca26\"],[1.0,\"#f0f921\"]]}],\"choropleth\":[{\"type\":\"choropleth\",\"colorbar\":{\"outlinewidth\":0,\"ticks\":\"\"}}],\"histogram2d\":[{\"type\":\"histogram2d\",\"colorbar\":{\"outlinewidth\":0,\"ticks\":\"\"},\"colorscale\":[[0.0,\"#0d0887\"],[0.1111111111111111,\"#46039f\"],[0.2222222222222222,\"#7201a8\"],[0.3333333333333333,\"#9c179e\"],[0.4444444444444444,\"#bd3786\"],[0.5555555555555556,\"#d8576b\"],[0.6666666666666666,\"#ed7953\"],[0.7777777777777778,\"#fb9f3a\"],[0.8888888888888888,\"#fdca26\"],[1.0,\"#f0f921\"]]}],\"heatmap\":[{\"type\":\"heatmap\",\"colorbar\":{\"outlinewidth\":0,\"ticks\":\"\"},\"colorscale\":[[0.0,\"#0d0887\"],[0.1111111111111111,\"#46039f\"],[0.2222222222222222,\"#7201a8\"],[0.3333333333333333,\"#9c179e\"],[0.4444444444444444,\"#bd3786\"],[0.5555555555555556,\"#d8576b\"],[0.6666666666666666,\"#ed7953\"],[0.7777777777777778,\"#fb9f3a\"],[0.8888888888888888,\"#fdca26\"],[1.0,\"#f0f921\"]]}],\"heatmapgl\":[{\"type\":\"heatmapgl\",\"colorbar\":{\"outlinewidth\":0,\"ticks\":\"\"},\"colorscale\":[[0.0,\"#0d0887\"],[0.1111111111111111,\"#46039f\"],[0.2222222222222222,\"#7201a8\"],[0.3333333333333333,\"#9c179e\"],[0.4444444444444444,\"#bd3786\"],[0.5555555555555556,\"#d8576b\"],[0.6666666666666666,\"#ed7953\"],[0.7777777777777778,\"#fb9f3a\"],[0.8888888888888888,\"#fdca26\"],[1.0,\"#f0f921\"]]}],\"contourcarpet\":[{\"type\":\"contourcarpet\",\"colorbar\":{\"outlinewidth\":0,\"ticks\":\"\"}}],\"contour\":[{\"type\":\"contour\",\"colorbar\":{\"outlinewidth\":0,\"ticks\":\"\"},\"colorscale\":[[0.0,\"#0d0887\"],[0.1111111111111111,\"#46039f\"],[0.2222222222222222,\"#7201a8\"],[0.3333333333333333,\"#9c179e\"],[0.4444444444444444,\"#bd3786\"],[0.5555555555555556,\"#d8576b\"],[0.6666666666666666,\"#ed7953\"],[0.7777777777777778,\"#fb9f3a\"],[0.8888888888888888,\"#fdca26\"],[1.0,\"#f0f921\"]]}],\"surface\":[{\"type\":\"surface\",\"colorbar\":{\"outlinewidth\":0,\"ticks\":\"\"},\"colorscale\":[[0.0,\"#0d0887\"],[0.1111111111111111,\"#46039f\"],[0.2222222222222222,\"#7201a8\"],[0.3333333333333333,\"#9c179e\"],[0.4444444444444444,\"#bd3786\"],[0.5555555555555556,\"#d8576b\"],[0.6666666666666666,\"#ed7953\"],[0.7777777777777778,\"#fb9f3a\"],[0.8888888888888888,\"#fdca26\"],[1.0,\"#f0f921\"]]}],\"mesh3d\":[{\"type\":\"mesh3d\",\"colorbar\":{\"outlinewidth\":0,\"ticks\":\"\"}}],\"scatter\":[{\"fillpattern\":{\"fillmode\":\"overlay\",\"size\":10,\"solidity\":0.2},\"type\":\"scatter\"}],\"parcoords\":[{\"type\":\"parcoords\",\"line\":{\"colorbar\":{\"outlinewidth\":0,\"ticks\":\"\"}}}],\"scatterpolargl\":[{\"type\":\"scatterpolargl\",\"marker\":{\"colorbar\":{\"outlinewidth\":0,\"ticks\":\"\"}}}],\"bar\":[{\"error_x\":{\"color\":\"#2a3f5f\"},\"error_y\":{\"color\":\"#2a3f5f\"},\"marker\":{\"line\":{\"color\":\"#E5ECF6\",\"width\":0.5},\"pattern\":{\"fillmode\":\"overlay\",\"size\":10,\"solidity\":0.2}},\"type\":\"bar\"}],\"scattergeo\":[{\"type\":\"scattergeo\",\"marker\":{\"colorbar\":{\"outlinewidth\":0,\"ticks\":\"\"}}}],\"scatterpolar\":[{\"type\":\"scatterpolar\",\"marker\":{\"colorbar\":{\"outlinewidth\":0,\"ticks\":\"\"}}}],\"histogram\":[{\"marker\":{\"pattern\":{\"fillmode\":\"overlay\",\"size\":10,\"solidity\":0.2}},\"type\":\"histogram\"}],\"scattergl\":[{\"type\":\"scattergl\",\"marker\":{\"colorbar\":{\"outlinewidth\":0,\"ticks\":\"\"}}}],\"scatter3d\":[{\"type\":\"scatter3d\",\"line\":{\"colorbar\":{\"outlinewidth\":0,\"ticks\":\"\"}},\"marker\":{\"colorbar\":{\"outlinewidth\":0,\"ticks\":\"\"}}}],\"scattermapbox\":[{\"type\":\"scattermapbox\",\"marker\":{\"colorbar\":{\"outlinewidth\":0,\"ticks\":\"\"}}}],\"scatterternary\":[{\"type\":\"scatterternary\",\"marker\":{\"colorbar\":{\"outlinewidth\":0,\"ticks\":\"\"}}}],\"scattercarpet\":[{\"type\":\"scattercarpet\",\"marker\":{\"colorbar\":{\"outlinewidth\":0,\"ticks\":\"\"}}}],\"carpet\":[{\"aaxis\":{\"endlinecolor\":\"#2a3f5f\",\"gridcolor\":\"white\",\"linecolor\":\"white\",\"minorgridcolor\":\"white\",\"startlinecolor\":\"#2a3f5f\"},\"baxis\":{\"endlinecolor\":\"#2a3f5f\",\"gridcolor\":\"white\",\"linecolor\":\"white\",\"minorgridcolor\":\"white\",\"startlinecolor\":\"#2a3f5f\"},\"type\":\"carpet\"}],\"table\":[{\"cells\":{\"fill\":{\"color\":\"#EBF0F8\"},\"line\":{\"color\":\"white\"}},\"header\":{\"fill\":{\"color\":\"#C8D4E3\"},\"line\":{\"color\":\"white\"}},\"type\":\"table\"}],\"barpolar\":[{\"marker\":{\"line\":{\"color\":\"#E5ECF6\",\"width\":0.5},\"pattern\":{\"fillmode\":\"overlay\",\"size\":10,\"solidity\":0.2}},\"type\":\"barpolar\"}],\"pie\":[{\"automargin\":true,\"type\":\"pie\"}]},\"layout\":{\"autotypenumbers\":\"strict\",\"colorway\":[\"#636efa\",\"#EF553B\",\"#00cc96\",\"#ab63fa\",\"#FFA15A\",\"#19d3f3\",\"#FF6692\",\"#B6E880\",\"#FF97FF\",\"#FECB52\"],\"font\":{\"color\":\"#2a3f5f\"},\"hovermode\":\"closest\",\"hoverlabel\":{\"align\":\"left\"},\"paper_bgcolor\":\"white\",\"plot_bgcolor\":\"#E5ECF6\",\"polar\":{\"bgcolor\":\"#E5ECF6\",\"angularaxis\":{\"gridcolor\":\"white\",\"linecolor\":\"white\",\"ticks\":\"\"},\"radialaxis\":{\"gridcolor\":\"white\",\"linecolor\":\"white\",\"ticks\":\"\"}},\"ternary\":{\"bgcolor\":\"#E5ECF6\",\"aaxis\":{\"gridcolor\":\"white\",\"linecolor\":\"white\",\"ticks\":\"\"},\"baxis\":{\"gridcolor\":\"white\",\"linecolor\":\"white\",\"ticks\":\"\"},\"caxis\":{\"gridcolor\":\"white\",\"linecolor\":\"white\",\"ticks\":\"\"}},\"coloraxis\":{\"colorbar\":{\"outlinewidth\":0,\"ticks\":\"\"}},\"colorscale\":{\"sequential\":[[0.0,\"#0d0887\"],[0.1111111111111111,\"#46039f\"],[0.2222222222222222,\"#7201a8\"],[0.3333333333333333,\"#9c179e\"],[0.4444444444444444,\"#bd3786\"],[0.5555555555555556,\"#d8576b\"],[0.6666666666666666,\"#ed7953\"],[0.7777777777777778,\"#fb9f3a\"],[0.8888888888888888,\"#fdca26\"],[1.0,\"#f0f921\"]],\"sequentialminus\":[[0.0,\"#0d0887\"],[0.1111111111111111,\"#46039f\"],[0.2222222222222222,\"#7201a8\"],[0.3333333333333333,\"#9c179e\"],[0.4444444444444444,\"#bd3786\"],[0.5555555555555556,\"#d8576b\"],[0.6666666666666666,\"#ed7953\"],[0.7777777777777778,\"#fb9f3a\"],[0.8888888888888888,\"#fdca26\"],[1.0,\"#f0f921\"]],\"diverging\":[[0,\"#8e0152\"],[0.1,\"#c51b7d\"],[0.2,\"#de77ae\"],[0.3,\"#f1b6da\"],[0.4,\"#fde0ef\"],[0.5,\"#f7f7f7\"],[0.6,\"#e6f5d0\"],[0.7,\"#b8e186\"],[0.8,\"#7fbc41\"],[0.9,\"#4d9221\"],[1,\"#276419\"]]},\"xaxis\":{\"gridcolor\":\"white\",\"linecolor\":\"white\",\"ticks\":\"\",\"title\":{\"standoff\":15},\"zerolinecolor\":\"white\",\"automargin\":true,\"zerolinewidth\":2},\"yaxis\":{\"gridcolor\":\"white\",\"linecolor\":\"white\",\"ticks\":\"\",\"title\":{\"standoff\":15},\"zerolinecolor\":\"white\",\"automargin\":true,\"zerolinewidth\":2},\"scene\":{\"xaxis\":{\"backgroundcolor\":\"#E5ECF6\",\"gridcolor\":\"white\",\"linecolor\":\"white\",\"showbackground\":true,\"ticks\":\"\",\"zerolinecolor\":\"white\",\"gridwidth\":2},\"yaxis\":{\"backgroundcolor\":\"#E5ECF6\",\"gridcolor\":\"white\",\"linecolor\":\"white\",\"showbackground\":true,\"ticks\":\"\",\"zerolinecolor\":\"white\",\"gridwidth\":2},\"zaxis\":{\"backgroundcolor\":\"#E5ECF6\",\"gridcolor\":\"white\",\"linecolor\":\"white\",\"showbackground\":true,\"ticks\":\"\",\"zerolinecolor\":\"white\",\"gridwidth\":2}},\"shapedefaults\":{\"line\":{\"color\":\"#2a3f5f\"}},\"annotationdefaults\":{\"arrowcolor\":\"#2a3f5f\",\"arrowhead\":0,\"arrowwidth\":1},\"geo\":{\"bgcolor\":\"white\",\"landcolor\":\"#E5ECF6\",\"subunitcolor\":\"white\",\"showland\":true,\"showlakes\":true,\"lakecolor\":\"white\"},\"title\":{\"x\":0.05},\"mapbox\":{\"style\":\"light\"}}},\"xaxis\":{\"anchor\":\"y\",\"domain\":[0.0,1.0],\"title\":{\"text\":\"Volume mon\\u00e9taire\"},\"range\":[0,500]},\"yaxis\":{\"anchor\":\"x\",\"domain\":[0.0,1.0],\"title\":{\"text\":\"D\\u00e9partement\"}},\"legend\":{\"tracegroupgap\":0},\"title\":{\"text\":\"Volume mon\\u00e9taire par d\\u00e9partement en Milliards\"},\"barmode\":\"relative\",\"height\":600,\"width\":700},                        {\"responsive\": true}                    ).then(function(){\n",
       "                            \n",
       "var gd = document.getElementById('4110aa08-c9f4-41f7-b32a-e4bf585b5e5a');\n",
       "var x = new MutationObserver(function (mutations, observer) {{\n",
       "        var display = window.getComputedStyle(gd).display;\n",
       "        if (!display || display === 'none') {{\n",
       "            console.log([gd, 'removed!']);\n",
       "            Plotly.purge(gd);\n",
       "            observer.disconnect();\n",
       "        }}\n",
       "}});\n",
       "\n",
       "// Listen for the removal of the full notebook cells\n",
       "var notebookContainer = gd.closest('#notebook-container');\n",
       "if (notebookContainer) {{\n",
       "    x.observe(notebookContainer, {childList: true});\n",
       "}}\n",
       "\n",
       "// Listen for the clearing of the current output cell\n",
       "var outputEl = gd.closest('.output');\n",
       "if (outputEl) {{\n",
       "    x.observe(outputEl, {childList: true});\n",
       "}}\n",
       "\n",
       "                        })                };                });            </script>        </div>"
      ]
     },
     "metadata": {},
     "output_type": "display_data"
    }
   ],
   "source": [
    "# (Only countries with more than 100 case are considered)\n",
    "\n",
    "act = '#fe9801'\n",
    "temp = dict_vol_ventes\n",
    "temp = temp.sort_values('Code departement', ascending=False)\n",
    "\n",
    "fig = px.bar(temp.sort_values('Volume monétaire', ascending=False).head(10).sort_values('Volume monétaire', ascending=True), \n",
    "             x=\"Volume monétaire\", y=\"Département\", text='Volume monétaire', orientation='h', \n",
    "             width=700, height=600, range_x = [0, 500], title='Volume monétaire par département en Milliards')\n",
    "fig.update_traces(marker_color=act, opacity=0.6, textposition='outside')\n",
    "fig.show()"
   ]
  },
  {
   "cell_type": "code",
   "execution_count": 27,
   "metadata": {},
   "outputs": [
    {
     "data": {
      "text/html": [
       "<div>\n",
       "<style scoped>\n",
       "    .dataframe tbody tr th:only-of-type {\n",
       "        vertical-align: middle;\n",
       "    }\n",
       "\n",
       "    .dataframe tbody tr th {\n",
       "        vertical-align: top;\n",
       "    }\n",
       "\n",
       "    .dataframe thead th {\n",
       "        text-align: right;\n",
       "    }\n",
       "</style>\n",
       "<table border=\"1\" class=\"dataframe\">\n",
       "  <thead>\n",
       "    <tr style=\"text-align: right;\">\n",
       "      <th></th>\n",
       "      <th>Date mutation</th>\n",
       "      <th>Valeur fonciere</th>\n",
       "      <th>No voie</th>\n",
       "      <th>Type de voie</th>\n",
       "      <th>Code voie</th>\n",
       "      <th>Voie</th>\n",
       "      <th>Code postal</th>\n",
       "      <th>Code departement</th>\n",
       "      <th>Code commune</th>\n",
       "      <th>Section</th>\n",
       "      <th>...</th>\n",
       "      <th>Surface Carrez du 1er lot</th>\n",
       "      <th>Nombre de lots</th>\n",
       "      <th>Code type local</th>\n",
       "      <th>Type local</th>\n",
       "      <th>Surface reelle bati</th>\n",
       "      <th>Nombre pieces principales</th>\n",
       "      <th>Nature culture</th>\n",
       "      <th>Surface terrain</th>\n",
       "      <th>Month mutation</th>\n",
       "      <th>Prix mètre carré</th>\n",
       "    </tr>\n",
       "  </thead>\n",
       "  <tbody>\n",
       "    <tr>\n",
       "      <th>0</th>\n",
       "      <td>2022-01-03</td>\n",
       "      <td>55000.0</td>\n",
       "      <td>13.0</td>\n",
       "      <td>RUE</td>\n",
       "      <td>2280</td>\n",
       "      <td>DE LA LIBERTE</td>\n",
       "      <td>1000.0</td>\n",
       "      <td>1</td>\n",
       "      <td>53</td>\n",
       "      <td>AM</td>\n",
       "      <td>...</td>\n",
       "      <td>24.10</td>\n",
       "      <td>1</td>\n",
       "      <td>2.0</td>\n",
       "      <td>Appartement</td>\n",
       "      <td>24.0</td>\n",
       "      <td>1.0</td>\n",
       "      <td>NaN</td>\n",
       "      <td>NaN</td>\n",
       "      <td>1</td>\n",
       "      <td>2291.666667</td>\n",
       "    </tr>\n",
       "    <tr>\n",
       "      <th>3</th>\n",
       "      <td>2022-01-03</td>\n",
       "      <td>143000.0</td>\n",
       "      <td>98.0</td>\n",
       "      <td>RTE</td>\n",
       "      <td>0055</td>\n",
       "      <td>DE LA DOMBES</td>\n",
       "      <td>1480.0</td>\n",
       "      <td>1</td>\n",
       "      <td>398</td>\n",
       "      <td>ZE</td>\n",
       "      <td>...</td>\n",
       "      <td>123.23</td>\n",
       "      <td>1</td>\n",
       "      <td>2.0</td>\n",
       "      <td>Appartement</td>\n",
       "      <td>140.0</td>\n",
       "      <td>3.0</td>\n",
       "      <td>NaN</td>\n",
       "      <td>NaN</td>\n",
       "      <td>1</td>\n",
       "      <td>1021.428571</td>\n",
       "    </tr>\n",
       "    <tr>\n",
       "      <th>5</th>\n",
       "      <td>2022-01-06</td>\n",
       "      <td>255000.0</td>\n",
       "      <td>282.0</td>\n",
       "      <td>RTE</td>\n",
       "      <td>0130</td>\n",
       "      <td>DE POISATON</td>\n",
       "      <td>1560.0</td>\n",
       "      <td>1</td>\n",
       "      <td>230</td>\n",
       "      <td>ZM</td>\n",
       "      <td>...</td>\n",
       "      <td>NaN</td>\n",
       "      <td>0</td>\n",
       "      <td>1.0</td>\n",
       "      <td>Maison</td>\n",
       "      <td>108.0</td>\n",
       "      <td>5.0</td>\n",
       "      <td>S</td>\n",
       "      <td>649.0</td>\n",
       "      <td>1</td>\n",
       "      <td>2361.111111</td>\n",
       "    </tr>\n",
       "    <tr>\n",
       "      <th>8</th>\n",
       "      <td>2022-01-03</td>\n",
       "      <td>525000.0</td>\n",
       "      <td>217.0</td>\n",
       "      <td>PL</td>\n",
       "      <td>0300</td>\n",
       "      <td>DE LA CROIX BLANCHE</td>\n",
       "      <td>1390.0</td>\n",
       "      <td>1</td>\n",
       "      <td>333</td>\n",
       "      <td>AN</td>\n",
       "      <td>...</td>\n",
       "      <td>NaN</td>\n",
       "      <td>0</td>\n",
       "      <td>4.0</td>\n",
       "      <td>Local industriel. commercial ou assimilé</td>\n",
       "      <td>424.0</td>\n",
       "      <td>0.0</td>\n",
       "      <td>S</td>\n",
       "      <td>628.0</td>\n",
       "      <td>1</td>\n",
       "      <td>1238.207547</td>\n",
       "    </tr>\n",
       "    <tr>\n",
       "      <th>9</th>\n",
       "      <td>2022-01-03</td>\n",
       "      <td>525000.0</td>\n",
       "      <td>217.0</td>\n",
       "      <td>PL</td>\n",
       "      <td>0300</td>\n",
       "      <td>DE LA CROIX BLANCHE</td>\n",
       "      <td>1390.0</td>\n",
       "      <td>1</td>\n",
       "      <td>333</td>\n",
       "      <td>AN</td>\n",
       "      <td>...</td>\n",
       "      <td>NaN</td>\n",
       "      <td>0</td>\n",
       "      <td>2.0</td>\n",
       "      <td>Appartement</td>\n",
       "      <td>126.0</td>\n",
       "      <td>4.0</td>\n",
       "      <td>S</td>\n",
       "      <td>628.0</td>\n",
       "      <td>1</td>\n",
       "      <td>4166.666667</td>\n",
       "    </tr>\n",
       "    <tr>\n",
       "      <th>...</th>\n",
       "      <td>...</td>\n",
       "      <td>...</td>\n",
       "      <td>...</td>\n",
       "      <td>...</td>\n",
       "      <td>...</td>\n",
       "      <td>...</td>\n",
       "      <td>...</td>\n",
       "      <td>...</td>\n",
       "      <td>...</td>\n",
       "      <td>...</td>\n",
       "      <td>...</td>\n",
       "      <td>...</td>\n",
       "      <td>...</td>\n",
       "      <td>...</td>\n",
       "      <td>...</td>\n",
       "      <td>...</td>\n",
       "      <td>...</td>\n",
       "      <td>...</td>\n",
       "      <td>...</td>\n",
       "      <td>...</td>\n",
       "      <td>...</td>\n",
       "    </tr>\n",
       "    <tr>\n",
       "      <th>2796877</th>\n",
       "      <td>2022-11-03</td>\n",
       "      <td>291000.0</td>\n",
       "      <td>128.0</td>\n",
       "      <td>RUE</td>\n",
       "      <td>0012</td>\n",
       "      <td>DE L ABBE GROULT</td>\n",
       "      <td>75015.0</td>\n",
       "      <td>75</td>\n",
       "      <td>115</td>\n",
       "      <td>AE</td>\n",
       "      <td>...</td>\n",
       "      <td>NaN</td>\n",
       "      <td>1</td>\n",
       "      <td>2.0</td>\n",
       "      <td>Appartement</td>\n",
       "      <td>35.0</td>\n",
       "      <td>2.0</td>\n",
       "      <td>NaN</td>\n",
       "      <td>NaN</td>\n",
       "      <td>11</td>\n",
       "      <td>8314.285714</td>\n",
       "    </tr>\n",
       "    <tr>\n",
       "      <th>2796878</th>\n",
       "      <td>2022-12-23</td>\n",
       "      <td>934000.0</td>\n",
       "      <td>5.0</td>\n",
       "      <td>VLA</td>\n",
       "      <td>3488</td>\n",
       "      <td>FAISANDERIE</td>\n",
       "      <td>75016.0</td>\n",
       "      <td>75</td>\n",
       "      <td>116</td>\n",
       "      <td>EE</td>\n",
       "      <td>...</td>\n",
       "      <td>NaN</td>\n",
       "      <td>2</td>\n",
       "      <td>2.0</td>\n",
       "      <td>Appartement</td>\n",
       "      <td>58.0</td>\n",
       "      <td>2.0</td>\n",
       "      <td>NaN</td>\n",
       "      <td>NaN</td>\n",
       "      <td>12</td>\n",
       "      <td>16103.448276</td>\n",
       "    </tr>\n",
       "    <tr>\n",
       "      <th>2796879</th>\n",
       "      <td>2022-12-23</td>\n",
       "      <td>70000.0</td>\n",
       "      <td>67.0</td>\n",
       "      <td>RUE</td>\n",
       "      <td>1255</td>\n",
       "      <td>BRANCION</td>\n",
       "      <td>75015.0</td>\n",
       "      <td>75</td>\n",
       "      <td>115</td>\n",
       "      <td>AJ</td>\n",
       "      <td>...</td>\n",
       "      <td>NaN</td>\n",
       "      <td>2</td>\n",
       "      <td>2.0</td>\n",
       "      <td>Appartement</td>\n",
       "      <td>15.0</td>\n",
       "      <td>1.0</td>\n",
       "      <td>NaN</td>\n",
       "      <td>NaN</td>\n",
       "      <td>12</td>\n",
       "      <td>4666.666667</td>\n",
       "    </tr>\n",
       "    <tr>\n",
       "      <th>2796880</th>\n",
       "      <td>2022-12-30</td>\n",
       "      <td>3500000.0</td>\n",
       "      <td>19.0</td>\n",
       "      <td>RUE</td>\n",
       "      <td>4879</td>\n",
       "      <td>JEAN DOLENT</td>\n",
       "      <td>75014.0</td>\n",
       "      <td>75</td>\n",
       "      <td>114</td>\n",
       "      <td>AS</td>\n",
       "      <td>...</td>\n",
       "      <td>NaN</td>\n",
       "      <td>1</td>\n",
       "      <td>4.0</td>\n",
       "      <td>Local industriel. commercial ou assimilé</td>\n",
       "      <td>327.0</td>\n",
       "      <td>0.0</td>\n",
       "      <td>NaN</td>\n",
       "      <td>NaN</td>\n",
       "      <td>12</td>\n",
       "      <td>10703.363914</td>\n",
       "    </tr>\n",
       "    <tr>\n",
       "      <th>2796881</th>\n",
       "      <td>2022-12-19</td>\n",
       "      <td>525000.0</td>\n",
       "      <td>3.0</td>\n",
       "      <td>RUE</td>\n",
       "      <td>3842</td>\n",
       "      <td>FREDERIC MAGISSON</td>\n",
       "      <td>75015.0</td>\n",
       "      <td>75</td>\n",
       "      <td>115</td>\n",
       "      <td>EJ</td>\n",
       "      <td>...</td>\n",
       "      <td>46.65</td>\n",
       "      <td>2</td>\n",
       "      <td>2.0</td>\n",
       "      <td>Appartement</td>\n",
       "      <td>40.0</td>\n",
       "      <td>3.0</td>\n",
       "      <td>NaN</td>\n",
       "      <td>NaN</td>\n",
       "      <td>12</td>\n",
       "      <td>13125.000000</td>\n",
       "    </tr>\n",
       "  </tbody>\n",
       "</table>\n",
       "<p>1278429 rows × 22 columns</p>\n",
       "</div>"
      ],
      "text/plain": [
       "        Date mutation  Valeur fonciere  No voie Type de voie Code voie  \\\n",
       "0          2022-01-03          55000.0     13.0          RUE      2280   \n",
       "3          2022-01-03         143000.0     98.0          RTE      0055   \n",
       "5          2022-01-06         255000.0    282.0          RTE      0130   \n",
       "8          2022-01-03         525000.0    217.0           PL      0300   \n",
       "9          2022-01-03         525000.0    217.0           PL      0300   \n",
       "...               ...              ...      ...          ...       ...   \n",
       "2796877    2022-11-03         291000.0    128.0          RUE      0012   \n",
       "2796878    2022-12-23         934000.0      5.0          VLA      3488   \n",
       "2796879    2022-12-23          70000.0     67.0          RUE      1255   \n",
       "2796880    2022-12-30        3500000.0     19.0          RUE      4879   \n",
       "2796881    2022-12-19         525000.0      3.0          RUE      3842   \n",
       "\n",
       "                        Voie  Code postal Code departement  Code commune  \\\n",
       "0              DE LA LIBERTE       1000.0                1            53   \n",
       "3               DE LA DOMBES       1480.0                1           398   \n",
       "5                DE POISATON       1560.0                1           230   \n",
       "8        DE LA CROIX BLANCHE       1390.0                1           333   \n",
       "9        DE LA CROIX BLANCHE       1390.0                1           333   \n",
       "...                      ...          ...              ...           ...   \n",
       "2796877     DE L ABBE GROULT      75015.0               75           115   \n",
       "2796878          FAISANDERIE      75016.0               75           116   \n",
       "2796879             BRANCION      75015.0               75           115   \n",
       "2796880          JEAN DOLENT      75014.0               75           114   \n",
       "2796881    FREDERIC MAGISSON      75015.0               75           115   \n",
       "\n",
       "        Section  ...  Surface Carrez du 1er lot Nombre de lots  \\\n",
       "0            AM  ...                      24.10              1   \n",
       "3            ZE  ...                     123.23              1   \n",
       "5            ZM  ...                        NaN              0   \n",
       "8            AN  ...                        NaN              0   \n",
       "9            AN  ...                        NaN              0   \n",
       "...         ...  ...                        ...            ...   \n",
       "2796877      AE  ...                        NaN              1   \n",
       "2796878      EE  ...                        NaN              2   \n",
       "2796879      AJ  ...                        NaN              2   \n",
       "2796880      AS  ...                        NaN              1   \n",
       "2796881      EJ  ...                      46.65              2   \n",
       "\n",
       "         Code type local                                Type local  \\\n",
       "0                    2.0                               Appartement   \n",
       "3                    2.0                               Appartement   \n",
       "5                    1.0                                    Maison   \n",
       "8                    4.0  Local industriel. commercial ou assimilé   \n",
       "9                    2.0                               Appartement   \n",
       "...                  ...                                       ...   \n",
       "2796877              2.0                               Appartement   \n",
       "2796878              2.0                               Appartement   \n",
       "2796879              2.0                               Appartement   \n",
       "2796880              4.0  Local industriel. commercial ou assimilé   \n",
       "2796881              2.0                               Appartement   \n",
       "\n",
       "         Surface reelle bati Nombre pieces principales  Nature culture  \\\n",
       "0                       24.0                       1.0             NaN   \n",
       "3                      140.0                       3.0             NaN   \n",
       "5                      108.0                       5.0               S   \n",
       "8                      424.0                       0.0               S   \n",
       "9                      126.0                       4.0               S   \n",
       "...                      ...                       ...             ...   \n",
       "2796877                 35.0                       2.0             NaN   \n",
       "2796878                 58.0                       2.0             NaN   \n",
       "2796879                 15.0                       1.0             NaN   \n",
       "2796880                327.0                       0.0             NaN   \n",
       "2796881                 40.0                       3.0             NaN   \n",
       "\n",
       "         Surface terrain Month mutation  Prix mètre carré  \n",
       "0                    NaN              1       2291.666667  \n",
       "3                    NaN              1       1021.428571  \n",
       "5                  649.0              1       2361.111111  \n",
       "8                  628.0              1       1238.207547  \n",
       "9                  628.0              1       4166.666667  \n",
       "...                  ...            ...               ...  \n",
       "2796877              NaN             11       8314.285714  \n",
       "2796878              NaN             12      16103.448276  \n",
       "2796879              NaN             12       4666.666667  \n",
       "2796880              NaN             12      10703.363914  \n",
       "2796881              NaN             12      13125.000000  \n",
       "\n",
       "[1278429 rows x 22 columns]"
      ]
     },
     "metadata": {},
     "output_type": "display_data"
    }
   ],
   "source": [
    "data[\"Month mutation\"] = data[\"Date mutation\"].dt.month\n",
    "prix_metre_carre = data[(data[\"Type local\"] != \"Dépendance\")].reset_index(drop = True)\n",
    "prix_metre_carre = prix_metre_carre.dropna(subset=['Type local'])\n",
    "\n",
    "prix_metre_carre[\"Prix mètre carré\"] = prix_metre_carre[\"Valeur fonciere\"]/prix_metre_carre[\"Surface reelle bati\"]\n",
    "display(prix_metre_carre)"
   ]
  },
  {
   "cell_type": "code",
   "execution_count": 142,
   "metadata": {},
   "outputs": [
    {
     "data": {
      "text/plain": [
       "99252.1702544064"
      ]
     },
     "metadata": {},
     "output_type": "display_data"
    },
    {
     "data": {
      "application/vnd.plotly.v1+json": {
       "config": {
        "plotlyServerURL": "https://plot.ly"
       },
       "data": [
        {
         "hovertemplate": "Departements=Prix mètre carré Paris<br>Month mutation=%{x}<br>Value=%{y}<extra></extra>",
         "legendgroup": "Prix mètre carré Paris",
         "line": {
          "color": "#ff2e63",
          "dash": "solid"
         },
         "marker": {
          "symbol": "circle"
         },
         "mode": "lines",
         "name": "Prix mètre carré Paris",
         "orientation": "v",
         "showlegend": true,
         "type": "scatter",
         "x": [
          1,
          2,
          3,
          4,
          5,
          6,
          7,
          8,
          9,
          10,
          11,
          12
         ],
         "xaxis": "x",
         "y": [
          49321.2538173134,
          106317.35021746549,
          42292.0359421194,
          265379.3373708568,
          21838.15074453742,
          39833.69834946443,
          267750.40080378036,
          22885.414842816586,
          90423.81082823777,
          34673.946220795864,
          48259.20965089774,
          93115.47372509542
         ],
         "yaxis": "y"
        },
        {
         "hovertemplate": "Departements=Prix mètre carré Nord<br>Month mutation=%{x}<br>Value=%{y}<extra></extra>",
         "legendgroup": "Prix mètre carré Nord",
         "line": {
          "color": "#21bf73",
          "dash": "solid"
         },
         "marker": {
          "symbol": "circle"
         },
         "mode": "lines",
         "name": "Prix mètre carré Nord",
         "orientation": "v",
         "showlegend": true,
         "type": "scatter",
         "x": [
          1,
          2,
          3,
          4,
          5,
          6,
          7,
          8,
          9,
          10,
          11,
          12
         ],
         "xaxis": "x",
         "y": [
          4230.548033417938,
          3441.8908995369884,
          5841.420874432776,
          4723.801176578809,
          10770.16619384028,
          54204.37635009705,
          5577.688332718192,
          30492.098971260748,
          28101.72285103787,
          6730.788802840584,
          7068.359973551611,
          7740.838782683829
         ],
         "yaxis": "y"
        },
        {
         "hovertemplate": "Departements=Prix mètre carré Alpes-Maritimes<br>Month mutation=%{x}<br>Value=%{y}<extra></extra>",
         "legendgroup": "Prix mètre carré Alpes-Maritimes",
         "line": {
          "color": "#fe9801",
          "dash": "solid"
         },
         "marker": {
          "symbol": "circle"
         },
         "mode": "lines",
         "name": "Prix mètre carré Alpes-Maritimes",
         "orientation": "v",
         "showlegend": true,
         "type": "scatter",
         "x": [
          1,
          2,
          3,
          4,
          5,
          6,
          7,
          8,
          9,
          10,
          11,
          12
         ],
         "xaxis": "x",
         "y": [
          7812.562538890123,
          9794.776309124563,
          7960.01681810819,
          12362.722776979721,
          7615.015114704868,
          20168.31351998085,
          17082.350998461494,
          7355.931547157566,
          9863.443227428936,
          10022.56702390797,
          28607.5973856957,
          29788.039322122935
         ],
         "yaxis": "y"
        }
       ],
       "layout": {
        "legend": {
         "title": {
          "text": "Departements"
         },
         "tracegroupgap": 0
        },
        "template": {
         "data": {
          "bar": [
           {
            "error_x": {
             "color": "#2a3f5f"
            },
            "error_y": {
             "color": "#2a3f5f"
            },
            "marker": {
             "line": {
              "color": "#E5ECF6",
              "width": 0.5
             },
             "pattern": {
              "fillmode": "overlay",
              "size": 10,
              "solidity": 0.2
             }
            },
            "type": "bar"
           }
          ],
          "barpolar": [
           {
            "marker": {
             "line": {
              "color": "#E5ECF6",
              "width": 0.5
             },
             "pattern": {
              "fillmode": "overlay",
              "size": 10,
              "solidity": 0.2
             }
            },
            "type": "barpolar"
           }
          ],
          "carpet": [
           {
            "aaxis": {
             "endlinecolor": "#2a3f5f",
             "gridcolor": "white",
             "linecolor": "white",
             "minorgridcolor": "white",
             "startlinecolor": "#2a3f5f"
            },
            "baxis": {
             "endlinecolor": "#2a3f5f",
             "gridcolor": "white",
             "linecolor": "white",
             "minorgridcolor": "white",
             "startlinecolor": "#2a3f5f"
            },
            "type": "carpet"
           }
          ],
          "choropleth": [
           {
            "colorbar": {
             "outlinewidth": 0,
             "ticks": ""
            },
            "type": "choropleth"
           }
          ],
          "contour": [
           {
            "colorbar": {
             "outlinewidth": 0,
             "ticks": ""
            },
            "colorscale": [
             [
              0,
              "#0d0887"
             ],
             [
              0.1111111111111111,
              "#46039f"
             ],
             [
              0.2222222222222222,
              "#7201a8"
             ],
             [
              0.3333333333333333,
              "#9c179e"
             ],
             [
              0.4444444444444444,
              "#bd3786"
             ],
             [
              0.5555555555555556,
              "#d8576b"
             ],
             [
              0.6666666666666666,
              "#ed7953"
             ],
             [
              0.7777777777777778,
              "#fb9f3a"
             ],
             [
              0.8888888888888888,
              "#fdca26"
             ],
             [
              1,
              "#f0f921"
             ]
            ],
            "type": "contour"
           }
          ],
          "contourcarpet": [
           {
            "colorbar": {
             "outlinewidth": 0,
             "ticks": ""
            },
            "type": "contourcarpet"
           }
          ],
          "heatmap": [
           {
            "colorbar": {
             "outlinewidth": 0,
             "ticks": ""
            },
            "colorscale": [
             [
              0,
              "#0d0887"
             ],
             [
              0.1111111111111111,
              "#46039f"
             ],
             [
              0.2222222222222222,
              "#7201a8"
             ],
             [
              0.3333333333333333,
              "#9c179e"
             ],
             [
              0.4444444444444444,
              "#bd3786"
             ],
             [
              0.5555555555555556,
              "#d8576b"
             ],
             [
              0.6666666666666666,
              "#ed7953"
             ],
             [
              0.7777777777777778,
              "#fb9f3a"
             ],
             [
              0.8888888888888888,
              "#fdca26"
             ],
             [
              1,
              "#f0f921"
             ]
            ],
            "type": "heatmap"
           }
          ],
          "heatmapgl": [
           {
            "colorbar": {
             "outlinewidth": 0,
             "ticks": ""
            },
            "colorscale": [
             [
              0,
              "#0d0887"
             ],
             [
              0.1111111111111111,
              "#46039f"
             ],
             [
              0.2222222222222222,
              "#7201a8"
             ],
             [
              0.3333333333333333,
              "#9c179e"
             ],
             [
              0.4444444444444444,
              "#bd3786"
             ],
             [
              0.5555555555555556,
              "#d8576b"
             ],
             [
              0.6666666666666666,
              "#ed7953"
             ],
             [
              0.7777777777777778,
              "#fb9f3a"
             ],
             [
              0.8888888888888888,
              "#fdca26"
             ],
             [
              1,
              "#f0f921"
             ]
            ],
            "type": "heatmapgl"
           }
          ],
          "histogram": [
           {
            "marker": {
             "pattern": {
              "fillmode": "overlay",
              "size": 10,
              "solidity": 0.2
             }
            },
            "type": "histogram"
           }
          ],
          "histogram2d": [
           {
            "colorbar": {
             "outlinewidth": 0,
             "ticks": ""
            },
            "colorscale": [
             [
              0,
              "#0d0887"
             ],
             [
              0.1111111111111111,
              "#46039f"
             ],
             [
              0.2222222222222222,
              "#7201a8"
             ],
             [
              0.3333333333333333,
              "#9c179e"
             ],
             [
              0.4444444444444444,
              "#bd3786"
             ],
             [
              0.5555555555555556,
              "#d8576b"
             ],
             [
              0.6666666666666666,
              "#ed7953"
             ],
             [
              0.7777777777777778,
              "#fb9f3a"
             ],
             [
              0.8888888888888888,
              "#fdca26"
             ],
             [
              1,
              "#f0f921"
             ]
            ],
            "type": "histogram2d"
           }
          ],
          "histogram2dcontour": [
           {
            "colorbar": {
             "outlinewidth": 0,
             "ticks": ""
            },
            "colorscale": [
             [
              0,
              "#0d0887"
             ],
             [
              0.1111111111111111,
              "#46039f"
             ],
             [
              0.2222222222222222,
              "#7201a8"
             ],
             [
              0.3333333333333333,
              "#9c179e"
             ],
             [
              0.4444444444444444,
              "#bd3786"
             ],
             [
              0.5555555555555556,
              "#d8576b"
             ],
             [
              0.6666666666666666,
              "#ed7953"
             ],
             [
              0.7777777777777778,
              "#fb9f3a"
             ],
             [
              0.8888888888888888,
              "#fdca26"
             ],
             [
              1,
              "#f0f921"
             ]
            ],
            "type": "histogram2dcontour"
           }
          ],
          "mesh3d": [
           {
            "colorbar": {
             "outlinewidth": 0,
             "ticks": ""
            },
            "type": "mesh3d"
           }
          ],
          "parcoords": [
           {
            "line": {
             "colorbar": {
              "outlinewidth": 0,
              "ticks": ""
             }
            },
            "type": "parcoords"
           }
          ],
          "pie": [
           {
            "automargin": true,
            "type": "pie"
           }
          ],
          "scatter": [
           {
            "fillpattern": {
             "fillmode": "overlay",
             "size": 10,
             "solidity": 0.2
            },
            "type": "scatter"
           }
          ],
          "scatter3d": [
           {
            "line": {
             "colorbar": {
              "outlinewidth": 0,
              "ticks": ""
             }
            },
            "marker": {
             "colorbar": {
              "outlinewidth": 0,
              "ticks": ""
             }
            },
            "type": "scatter3d"
           }
          ],
          "scattercarpet": [
           {
            "marker": {
             "colorbar": {
              "outlinewidth": 0,
              "ticks": ""
             }
            },
            "type": "scattercarpet"
           }
          ],
          "scattergeo": [
           {
            "marker": {
             "colorbar": {
              "outlinewidth": 0,
              "ticks": ""
             }
            },
            "type": "scattergeo"
           }
          ],
          "scattergl": [
           {
            "marker": {
             "colorbar": {
              "outlinewidth": 0,
              "ticks": ""
             }
            },
            "type": "scattergl"
           }
          ],
          "scattermapbox": [
           {
            "marker": {
             "colorbar": {
              "outlinewidth": 0,
              "ticks": ""
             }
            },
            "type": "scattermapbox"
           }
          ],
          "scatterpolar": [
           {
            "marker": {
             "colorbar": {
              "outlinewidth": 0,
              "ticks": ""
             }
            },
            "type": "scatterpolar"
           }
          ],
          "scatterpolargl": [
           {
            "marker": {
             "colorbar": {
              "outlinewidth": 0,
              "ticks": ""
             }
            },
            "type": "scatterpolargl"
           }
          ],
          "scatterternary": [
           {
            "marker": {
             "colorbar": {
              "outlinewidth": 0,
              "ticks": ""
             }
            },
            "type": "scatterternary"
           }
          ],
          "surface": [
           {
            "colorbar": {
             "outlinewidth": 0,
             "ticks": ""
            },
            "colorscale": [
             [
              0,
              "#0d0887"
             ],
             [
              0.1111111111111111,
              "#46039f"
             ],
             [
              0.2222222222222222,
              "#7201a8"
             ],
             [
              0.3333333333333333,
              "#9c179e"
             ],
             [
              0.4444444444444444,
              "#bd3786"
             ],
             [
              0.5555555555555556,
              "#d8576b"
             ],
             [
              0.6666666666666666,
              "#ed7953"
             ],
             [
              0.7777777777777778,
              "#fb9f3a"
             ],
             [
              0.8888888888888888,
              "#fdca26"
             ],
             [
              1,
              "#f0f921"
             ]
            ],
            "type": "surface"
           }
          ],
          "table": [
           {
            "cells": {
             "fill": {
              "color": "#EBF0F8"
             },
             "line": {
              "color": "white"
             }
            },
            "header": {
             "fill": {
              "color": "#C8D4E3"
             },
             "line": {
              "color": "white"
             }
            },
            "type": "table"
           }
          ]
         },
         "layout": {
          "annotationdefaults": {
           "arrowcolor": "#2a3f5f",
           "arrowhead": 0,
           "arrowwidth": 1
          },
          "autotypenumbers": "strict",
          "coloraxis": {
           "colorbar": {
            "outlinewidth": 0,
            "ticks": ""
           }
          },
          "colorscale": {
           "diverging": [
            [
             0,
             "#8e0152"
            ],
            [
             0.1,
             "#c51b7d"
            ],
            [
             0.2,
             "#de77ae"
            ],
            [
             0.3,
             "#f1b6da"
            ],
            [
             0.4,
             "#fde0ef"
            ],
            [
             0.5,
             "#f7f7f7"
            ],
            [
             0.6,
             "#e6f5d0"
            ],
            [
             0.7,
             "#b8e186"
            ],
            [
             0.8,
             "#7fbc41"
            ],
            [
             0.9,
             "#4d9221"
            ],
            [
             1,
             "#276419"
            ]
           ],
           "sequential": [
            [
             0,
             "#0d0887"
            ],
            [
             0.1111111111111111,
             "#46039f"
            ],
            [
             0.2222222222222222,
             "#7201a8"
            ],
            [
             0.3333333333333333,
             "#9c179e"
            ],
            [
             0.4444444444444444,
             "#bd3786"
            ],
            [
             0.5555555555555556,
             "#d8576b"
            ],
            [
             0.6666666666666666,
             "#ed7953"
            ],
            [
             0.7777777777777778,
             "#fb9f3a"
            ],
            [
             0.8888888888888888,
             "#fdca26"
            ],
            [
             1,
             "#f0f921"
            ]
           ],
           "sequentialminus": [
            [
             0,
             "#0d0887"
            ],
            [
             0.1111111111111111,
             "#46039f"
            ],
            [
             0.2222222222222222,
             "#7201a8"
            ],
            [
             0.3333333333333333,
             "#9c179e"
            ],
            [
             0.4444444444444444,
             "#bd3786"
            ],
            [
             0.5555555555555556,
             "#d8576b"
            ],
            [
             0.6666666666666666,
             "#ed7953"
            ],
            [
             0.7777777777777778,
             "#fb9f3a"
            ],
            [
             0.8888888888888888,
             "#fdca26"
            ],
            [
             1,
             "#f0f921"
            ]
           ]
          },
          "colorway": [
           "#636efa",
           "#EF553B",
           "#00cc96",
           "#ab63fa",
           "#FFA15A",
           "#19d3f3",
           "#FF6692",
           "#B6E880",
           "#FF97FF",
           "#FECB52"
          ],
          "font": {
           "color": "#2a3f5f"
          },
          "geo": {
           "bgcolor": "white",
           "lakecolor": "white",
           "landcolor": "#E5ECF6",
           "showlakes": true,
           "showland": true,
           "subunitcolor": "white"
          },
          "hoverlabel": {
           "align": "left"
          },
          "hovermode": "closest",
          "mapbox": {
           "style": "light"
          },
          "paper_bgcolor": "white",
          "plot_bgcolor": "#E5ECF6",
          "polar": {
           "angularaxis": {
            "gridcolor": "white",
            "linecolor": "white",
            "ticks": ""
           },
           "bgcolor": "#E5ECF6",
           "radialaxis": {
            "gridcolor": "white",
            "linecolor": "white",
            "ticks": ""
           }
          },
          "scene": {
           "xaxis": {
            "backgroundcolor": "#E5ECF6",
            "gridcolor": "white",
            "gridwidth": 2,
            "linecolor": "white",
            "showbackground": true,
            "ticks": "",
            "zerolinecolor": "white"
           },
           "yaxis": {
            "backgroundcolor": "#E5ECF6",
            "gridcolor": "white",
            "gridwidth": 2,
            "linecolor": "white",
            "showbackground": true,
            "ticks": "",
            "zerolinecolor": "white"
           },
           "zaxis": {
            "backgroundcolor": "#E5ECF6",
            "gridcolor": "white",
            "gridwidth": 2,
            "linecolor": "white",
            "showbackground": true,
            "ticks": "",
            "zerolinecolor": "white"
           }
          },
          "shapedefaults": {
           "line": {
            "color": "#2a3f5f"
           }
          },
          "ternary": {
           "aaxis": {
            "gridcolor": "white",
            "linecolor": "white",
            "ticks": ""
           },
           "baxis": {
            "gridcolor": "white",
            "linecolor": "white",
            "ticks": ""
           },
           "bgcolor": "#E5ECF6",
           "caxis": {
            "gridcolor": "white",
            "linecolor": "white",
            "ticks": ""
           }
          },
          "title": {
           "x": 0.05
          },
          "xaxis": {
           "automargin": true,
           "gridcolor": "white",
           "linecolor": "white",
           "ticks": "",
           "title": {
            "standoff": 15
           },
           "zerolinecolor": "white",
           "zerolinewidth": 2
          },
          "yaxis": {
           "automargin": true,
           "gridcolor": "white",
           "linecolor": "white",
           "ticks": "",
           "title": {
            "standoff": 15
           },
           "zerolinecolor": "white",
           "zerolinewidth": 2
          }
         }
        },
        "title": {
         "text": "Recovery and Mortality Rate Over The Time"
        },
        "xaxis": {
         "anchor": "y",
         "domain": [
          0,
          1
         ],
         "title": {
          "text": "Month mutation"
         }
        },
        "yaxis": {
         "anchor": "x",
         "domain": [
          0,
          1
         ],
         "title": {
          "text": "Value"
         },
         "type": "log"
        }
       }
      },
      "text/html": [
       "<div>                            <div id=\"5292823a-33d5-41d5-8c37-ac9d429fcace\" class=\"plotly-graph-div\" style=\"height:525px; width:100%;\"></div>            <script type=\"text/javascript\">                require([\"plotly\"], function(Plotly) {                    window.PLOTLYENV=window.PLOTLYENV || {};                                    if (document.getElementById(\"5292823a-33d5-41d5-8c37-ac9d429fcace\")) {                    Plotly.newPlot(                        \"5292823a-33d5-41d5-8c37-ac9d429fcace\",                        [{\"hovertemplate\":\"Departements=Prix m\\u00e8tre carr\\u00e9 Paris<br>Month mutation=%{x}<br>Value=%{y}<extra></extra>\",\"legendgroup\":\"Prix m\\u00e8tre carr\\u00e9 Paris\",\"line\":{\"color\":\"#ff2e63\",\"dash\":\"solid\"},\"marker\":{\"symbol\":\"circle\"},\"mode\":\"lines\",\"name\":\"Prix m\\u00e8tre carr\\u00e9 Paris\",\"orientation\":\"v\",\"showlegend\":true,\"x\":[1,2,3,4,5,6,7,8,9,10,11,12],\"xaxis\":\"x\",\"y\":[49321.2538173134,106317.35021746549,42292.0359421194,265379.3373708568,21838.15074453742,39833.69834946443,267750.40080378036,22885.414842816586,90423.81082823777,34673.946220795864,48259.20965089774,93115.47372509542],\"yaxis\":\"y\",\"type\":\"scatter\"},{\"hovertemplate\":\"Departements=Prix m\\u00e8tre carr\\u00e9 Nord<br>Month mutation=%{x}<br>Value=%{y}<extra></extra>\",\"legendgroup\":\"Prix m\\u00e8tre carr\\u00e9 Nord\",\"line\":{\"color\":\"#21bf73\",\"dash\":\"solid\"},\"marker\":{\"symbol\":\"circle\"},\"mode\":\"lines\",\"name\":\"Prix m\\u00e8tre carr\\u00e9 Nord\",\"orientation\":\"v\",\"showlegend\":true,\"x\":[1,2,3,4,5,6,7,8,9,10,11,12],\"xaxis\":\"x\",\"y\":[4230.548033417938,3441.8908995369884,5841.420874432776,4723.801176578809,10770.16619384028,54204.37635009705,5577.688332718192,30492.098971260748,28101.72285103787,6730.788802840584,7068.359973551611,7740.838782683829],\"yaxis\":\"y\",\"type\":\"scatter\"},{\"hovertemplate\":\"Departements=Prix m\\u00e8tre carr\\u00e9 Alpes-Maritimes<br>Month mutation=%{x}<br>Value=%{y}<extra></extra>\",\"legendgroup\":\"Prix m\\u00e8tre carr\\u00e9 Alpes-Maritimes\",\"line\":{\"color\":\"#fe9801\",\"dash\":\"solid\"},\"marker\":{\"symbol\":\"circle\"},\"mode\":\"lines\",\"name\":\"Prix m\\u00e8tre carr\\u00e9 Alpes-Maritimes\",\"orientation\":\"v\",\"showlegend\":true,\"x\":[1,2,3,4,5,6,7,8,9,10,11,12],\"xaxis\":\"x\",\"y\":[7812.562538890123,9794.776309124563,7960.01681810819,12362.722776979721,7615.015114704868,20168.31351998085,17082.350998461494,7355.931547157566,9863.443227428936,10022.56702390797,28607.5973856957,29788.039322122935],\"yaxis\":\"y\",\"type\":\"scatter\"}],                        {\"template\":{\"data\":{\"histogram2dcontour\":[{\"type\":\"histogram2dcontour\",\"colorbar\":{\"outlinewidth\":0,\"ticks\":\"\"},\"colorscale\":[[0.0,\"#0d0887\"],[0.1111111111111111,\"#46039f\"],[0.2222222222222222,\"#7201a8\"],[0.3333333333333333,\"#9c179e\"],[0.4444444444444444,\"#bd3786\"],[0.5555555555555556,\"#d8576b\"],[0.6666666666666666,\"#ed7953\"],[0.7777777777777778,\"#fb9f3a\"],[0.8888888888888888,\"#fdca26\"],[1.0,\"#f0f921\"]]}],\"choropleth\":[{\"type\":\"choropleth\",\"colorbar\":{\"outlinewidth\":0,\"ticks\":\"\"}}],\"histogram2d\":[{\"type\":\"histogram2d\",\"colorbar\":{\"outlinewidth\":0,\"ticks\":\"\"},\"colorscale\":[[0.0,\"#0d0887\"],[0.1111111111111111,\"#46039f\"],[0.2222222222222222,\"#7201a8\"],[0.3333333333333333,\"#9c179e\"],[0.4444444444444444,\"#bd3786\"],[0.5555555555555556,\"#d8576b\"],[0.6666666666666666,\"#ed7953\"],[0.7777777777777778,\"#fb9f3a\"],[0.8888888888888888,\"#fdca26\"],[1.0,\"#f0f921\"]]}],\"heatmap\":[{\"type\":\"heatmap\",\"colorbar\":{\"outlinewidth\":0,\"ticks\":\"\"},\"colorscale\":[[0.0,\"#0d0887\"],[0.1111111111111111,\"#46039f\"],[0.2222222222222222,\"#7201a8\"],[0.3333333333333333,\"#9c179e\"],[0.4444444444444444,\"#bd3786\"],[0.5555555555555556,\"#d8576b\"],[0.6666666666666666,\"#ed7953\"],[0.7777777777777778,\"#fb9f3a\"],[0.8888888888888888,\"#fdca26\"],[1.0,\"#f0f921\"]]}],\"heatmapgl\":[{\"type\":\"heatmapgl\",\"colorbar\":{\"outlinewidth\":0,\"ticks\":\"\"},\"colorscale\":[[0.0,\"#0d0887\"],[0.1111111111111111,\"#46039f\"],[0.2222222222222222,\"#7201a8\"],[0.3333333333333333,\"#9c179e\"],[0.4444444444444444,\"#bd3786\"],[0.5555555555555556,\"#d8576b\"],[0.6666666666666666,\"#ed7953\"],[0.7777777777777778,\"#fb9f3a\"],[0.8888888888888888,\"#fdca26\"],[1.0,\"#f0f921\"]]}],\"contourcarpet\":[{\"type\":\"contourcarpet\",\"colorbar\":{\"outlinewidth\":0,\"ticks\":\"\"}}],\"contour\":[{\"type\":\"contour\",\"colorbar\":{\"outlinewidth\":0,\"ticks\":\"\"},\"colorscale\":[[0.0,\"#0d0887\"],[0.1111111111111111,\"#46039f\"],[0.2222222222222222,\"#7201a8\"],[0.3333333333333333,\"#9c179e\"],[0.4444444444444444,\"#bd3786\"],[0.5555555555555556,\"#d8576b\"],[0.6666666666666666,\"#ed7953\"],[0.7777777777777778,\"#fb9f3a\"],[0.8888888888888888,\"#fdca26\"],[1.0,\"#f0f921\"]]}],\"surface\":[{\"type\":\"surface\",\"colorbar\":{\"outlinewidth\":0,\"ticks\":\"\"},\"colorscale\":[[0.0,\"#0d0887\"],[0.1111111111111111,\"#46039f\"],[0.2222222222222222,\"#7201a8\"],[0.3333333333333333,\"#9c179e\"],[0.4444444444444444,\"#bd3786\"],[0.5555555555555556,\"#d8576b\"],[0.6666666666666666,\"#ed7953\"],[0.7777777777777778,\"#fb9f3a\"],[0.8888888888888888,\"#fdca26\"],[1.0,\"#f0f921\"]]}],\"mesh3d\":[{\"type\":\"mesh3d\",\"colorbar\":{\"outlinewidth\":0,\"ticks\":\"\"}}],\"scatter\":[{\"fillpattern\":{\"fillmode\":\"overlay\",\"size\":10,\"solidity\":0.2},\"type\":\"scatter\"}],\"parcoords\":[{\"type\":\"parcoords\",\"line\":{\"colorbar\":{\"outlinewidth\":0,\"ticks\":\"\"}}}],\"scatterpolargl\":[{\"type\":\"scatterpolargl\",\"marker\":{\"colorbar\":{\"outlinewidth\":0,\"ticks\":\"\"}}}],\"bar\":[{\"error_x\":{\"color\":\"#2a3f5f\"},\"error_y\":{\"color\":\"#2a3f5f\"},\"marker\":{\"line\":{\"color\":\"#E5ECF6\",\"width\":0.5},\"pattern\":{\"fillmode\":\"overlay\",\"size\":10,\"solidity\":0.2}},\"type\":\"bar\"}],\"scattergeo\":[{\"type\":\"scattergeo\",\"marker\":{\"colorbar\":{\"outlinewidth\":0,\"ticks\":\"\"}}}],\"scatterpolar\":[{\"type\":\"scatterpolar\",\"marker\":{\"colorbar\":{\"outlinewidth\":0,\"ticks\":\"\"}}}],\"histogram\":[{\"marker\":{\"pattern\":{\"fillmode\":\"overlay\",\"size\":10,\"solidity\":0.2}},\"type\":\"histogram\"}],\"scattergl\":[{\"type\":\"scattergl\",\"marker\":{\"colorbar\":{\"outlinewidth\":0,\"ticks\":\"\"}}}],\"scatter3d\":[{\"type\":\"scatter3d\",\"line\":{\"colorbar\":{\"outlinewidth\":0,\"ticks\":\"\"}},\"marker\":{\"colorbar\":{\"outlinewidth\":0,\"ticks\":\"\"}}}],\"scattermapbox\":[{\"type\":\"scattermapbox\",\"marker\":{\"colorbar\":{\"outlinewidth\":0,\"ticks\":\"\"}}}],\"scatterternary\":[{\"type\":\"scatterternary\",\"marker\":{\"colorbar\":{\"outlinewidth\":0,\"ticks\":\"\"}}}],\"scattercarpet\":[{\"type\":\"scattercarpet\",\"marker\":{\"colorbar\":{\"outlinewidth\":0,\"ticks\":\"\"}}}],\"carpet\":[{\"aaxis\":{\"endlinecolor\":\"#2a3f5f\",\"gridcolor\":\"white\",\"linecolor\":\"white\",\"minorgridcolor\":\"white\",\"startlinecolor\":\"#2a3f5f\"},\"baxis\":{\"endlinecolor\":\"#2a3f5f\",\"gridcolor\":\"white\",\"linecolor\":\"white\",\"minorgridcolor\":\"white\",\"startlinecolor\":\"#2a3f5f\"},\"type\":\"carpet\"}],\"table\":[{\"cells\":{\"fill\":{\"color\":\"#EBF0F8\"},\"line\":{\"color\":\"white\"}},\"header\":{\"fill\":{\"color\":\"#C8D4E3\"},\"line\":{\"color\":\"white\"}},\"type\":\"table\"}],\"barpolar\":[{\"marker\":{\"line\":{\"color\":\"#E5ECF6\",\"width\":0.5},\"pattern\":{\"fillmode\":\"overlay\",\"size\":10,\"solidity\":0.2}},\"type\":\"barpolar\"}],\"pie\":[{\"automargin\":true,\"type\":\"pie\"}]},\"layout\":{\"autotypenumbers\":\"strict\",\"colorway\":[\"#636efa\",\"#EF553B\",\"#00cc96\",\"#ab63fa\",\"#FFA15A\",\"#19d3f3\",\"#FF6692\",\"#B6E880\",\"#FF97FF\",\"#FECB52\"],\"font\":{\"color\":\"#2a3f5f\"},\"hovermode\":\"closest\",\"hoverlabel\":{\"align\":\"left\"},\"paper_bgcolor\":\"white\",\"plot_bgcolor\":\"#E5ECF6\",\"polar\":{\"bgcolor\":\"#E5ECF6\",\"angularaxis\":{\"gridcolor\":\"white\",\"linecolor\":\"white\",\"ticks\":\"\"},\"radialaxis\":{\"gridcolor\":\"white\",\"linecolor\":\"white\",\"ticks\":\"\"}},\"ternary\":{\"bgcolor\":\"#E5ECF6\",\"aaxis\":{\"gridcolor\":\"white\",\"linecolor\":\"white\",\"ticks\":\"\"},\"baxis\":{\"gridcolor\":\"white\",\"linecolor\":\"white\",\"ticks\":\"\"},\"caxis\":{\"gridcolor\":\"white\",\"linecolor\":\"white\",\"ticks\":\"\"}},\"coloraxis\":{\"colorbar\":{\"outlinewidth\":0,\"ticks\":\"\"}},\"colorscale\":{\"sequential\":[[0.0,\"#0d0887\"],[0.1111111111111111,\"#46039f\"],[0.2222222222222222,\"#7201a8\"],[0.3333333333333333,\"#9c179e\"],[0.4444444444444444,\"#bd3786\"],[0.5555555555555556,\"#d8576b\"],[0.6666666666666666,\"#ed7953\"],[0.7777777777777778,\"#fb9f3a\"],[0.8888888888888888,\"#fdca26\"],[1.0,\"#f0f921\"]],\"sequentialminus\":[[0.0,\"#0d0887\"],[0.1111111111111111,\"#46039f\"],[0.2222222222222222,\"#7201a8\"],[0.3333333333333333,\"#9c179e\"],[0.4444444444444444,\"#bd3786\"],[0.5555555555555556,\"#d8576b\"],[0.6666666666666666,\"#ed7953\"],[0.7777777777777778,\"#fb9f3a\"],[0.8888888888888888,\"#fdca26\"],[1.0,\"#f0f921\"]],\"diverging\":[[0,\"#8e0152\"],[0.1,\"#c51b7d\"],[0.2,\"#de77ae\"],[0.3,\"#f1b6da\"],[0.4,\"#fde0ef\"],[0.5,\"#f7f7f7\"],[0.6,\"#e6f5d0\"],[0.7,\"#b8e186\"],[0.8,\"#7fbc41\"],[0.9,\"#4d9221\"],[1,\"#276419\"]]},\"xaxis\":{\"gridcolor\":\"white\",\"linecolor\":\"white\",\"ticks\":\"\",\"title\":{\"standoff\":15},\"zerolinecolor\":\"white\",\"automargin\":true,\"zerolinewidth\":2},\"yaxis\":{\"gridcolor\":\"white\",\"linecolor\":\"white\",\"ticks\":\"\",\"title\":{\"standoff\":15},\"zerolinecolor\":\"white\",\"automargin\":true,\"zerolinewidth\":2},\"scene\":{\"xaxis\":{\"backgroundcolor\":\"#E5ECF6\",\"gridcolor\":\"white\",\"linecolor\":\"white\",\"showbackground\":true,\"ticks\":\"\",\"zerolinecolor\":\"white\",\"gridwidth\":2},\"yaxis\":{\"backgroundcolor\":\"#E5ECF6\",\"gridcolor\":\"white\",\"linecolor\":\"white\",\"showbackground\":true,\"ticks\":\"\",\"zerolinecolor\":\"white\",\"gridwidth\":2},\"zaxis\":{\"backgroundcolor\":\"#E5ECF6\",\"gridcolor\":\"white\",\"linecolor\":\"white\",\"showbackground\":true,\"ticks\":\"\",\"zerolinecolor\":\"white\",\"gridwidth\":2}},\"shapedefaults\":{\"line\":{\"color\":\"#2a3f5f\"}},\"annotationdefaults\":{\"arrowcolor\":\"#2a3f5f\",\"arrowhead\":0,\"arrowwidth\":1},\"geo\":{\"bgcolor\":\"white\",\"landcolor\":\"#E5ECF6\",\"subunitcolor\":\"white\",\"showland\":true,\"showlakes\":true,\"lakecolor\":\"white\"},\"title\":{\"x\":0.05},\"mapbox\":{\"style\":\"light\"}}},\"xaxis\":{\"anchor\":\"y\",\"domain\":[0.0,1.0],\"title\":{\"text\":\"Month mutation\"}},\"yaxis\":{\"anchor\":\"x\",\"domain\":[0.0,1.0],\"title\":{\"text\":\"Value\"},\"type\":\"log\"},\"legend\":{\"title\":{\"text\":\"Departements\"},\"tracegroupgap\":0},\"title\":{\"text\":\"Recovery and Mortality Rate Over The Time\"}},                        {\"responsive\": true}                    ).then(function(){\n",
       "                            \n",
       "var gd = document.getElementById('5292823a-33d5-41d5-8c37-ac9d429fcace');\n",
       "var x = new MutationObserver(function (mutations, observer) {{\n",
       "        var display = window.getComputedStyle(gd).display;\n",
       "        if (!display || display === 'none') {{\n",
       "            console.log([gd, 'removed!']);\n",
       "            Plotly.purge(gd);\n",
       "            observer.disconnect();\n",
       "        }}\n",
       "}});\n",
       "\n",
       "// Listen for the removal of the full notebook cells\n",
       "var notebookContainer = gd.closest('#notebook-container');\n",
       "if (notebookContainer) {{\n",
       "    x.observe(notebookContainer, {childList: true});\n",
       "}}\n",
       "\n",
       "// Listen for the clearing of the current output cell\n",
       "var outputEl = gd.closest('.output');\n",
       "if (outputEl) {{\n",
       "    x.observe(outputEl, {childList: true});\n",
       "}}\n",
       "\n",
       "                        })                };                });            </script>        </div>"
      ]
     },
     "metadata": {},
     "output_type": "display_data"
    }
   ],
   "source": [
    "temp = data[(data[\"Type local\"] != \"Dépendance\")].reset_index(drop = True)\n",
    "\n",
    "temp['Prix mètre carré Paris'] = temp[(temp[\"Code departement\"] == '75')][\"Valeur fonciere\"]/temp[(temp[\"Code departement\"] == '75')][\"Surface reelle bati\"]\n",
    "\n",
    "temp['Prix mètre carré Nord'] = temp[(temp[\"Code departement\"] == '59')][\"Valeur fonciere\"]/temp[(temp[\"Code departement\"] == '59')][\"Surface reelle bati\"]\n",
    "\n",
    "temp['Prix mètre carré Alpes-Maritimes'] = temp[(temp[\"Code departement\"] == '6')][\"Valeur fonciere\"]/temp[(temp[\"Code departement\"] == '6')][\"Surface reelle bati\"]\n",
    "temp =temp.replace(np.inf, np.nan)\n",
    "display(temp['Prix mètre carré Paris'].mean())\n",
    "\n",
    "\n",
    "# temp['No. of Recovered to 1 Death Case'] = round(temp['Recovered']/temp['Deaths'], 3)\n",
    "temp = temp.groupby('Month mutation')[\"Prix mètre carré Paris\",\"Prix mètre carré Nord\",\"Prix mètre carré Alpes-Maritimes\"].mean().reset_index()\n",
    "\n",
    "temp = temp.melt(id_vars='Month mutation', value_vars=['Prix mètre carré Paris','Prix mètre carré Nord','Prix mètre carré Alpes-Maritimes'], \n",
    "                 var_name='Departements', value_name='Value')\n",
    "dth = '#ff2e63' \n",
    "rec = '#21bf73'\n",
    "fig = px.line(temp, x=\"Month mutation\", y=\"Value\", color='Departements', log_y=True, \n",
    "              title='Recovery and Mortality Rate Over The Time', color_discrete_sequence=[dth, rec,act])\n",
    "fig.show()\n",
    "\n"
   ]
  },
  {
   "cell_type": "code",
   "execution_count": null,
   "metadata": {},
   "outputs": [],
   "source": [
    "# In China\n",
    "\n",
    "temp = data.groupby('Date'.month)['Confirmed', 'Deaths', 'Recovered'].sum().diff()\n",
    "temp = temp.reset_index()\n",
    "temp = temp.melt(id_vars=\"Date\", \n",
    "                 value_vars=['Confirmed', 'Deaths', 'Recovered'])\n",
    "\n",
    "fig = px.bar(temp, x=\"Date\", y=\"value\", color='variable', \n",
    "             title='In China',\n",
    "             color_discrete_sequence=[cnf, dth, rec])\n",
    "fig.update_layout(barmode='group')\n",
    "fig.show()\n",
    "\n",
    "#-----------------------------------------------------------------------------\n",
    "\n",
    "# ROW\n",
    "temp = row.groupby('Date')['Confirmed', 'Deaths', 'Recovered'].sum().diff()\n",
    "temp = temp.reset_index()\n",
    "temp = temp.melt(id_vars=\"Date\", \n",
    "                 value_vars=['Confirmed', 'Deaths', 'Recovered'])\n",
    "\n",
    "fig = px.bar(temp, x=\"Date\", y=\"value\", color='variable', \n",
    "             title='Outside China',\n",
    "             color_discrete_sequence=[cnf, dth, rec])\n",
    "fig.update_layout(barmode='group')\n",
    "fig.show()"
   ]
  },
  {
   "cell_type": "code",
   "execution_count": null,
   "metadata": {},
   "outputs": [],
   "source": []
  }
 ],
 "metadata": {
  "kernelspec": {
   "display_name": "Python 3 (ipykernel)",
   "language": "python",
   "name": "python3"
  },
  "language_info": {
   "codemirror_mode": {
    "name": "ipython",
    "version": 3
   },
   "file_extension": ".py",
   "mimetype": "text/x-python",
   "name": "python",
   "nbconvert_exporter": "python",
   "pygments_lexer": "ipython3",
   "version": "3.10.9"
  }
 },
 "nbformat": 4,
 "nbformat_minor": 2
}
