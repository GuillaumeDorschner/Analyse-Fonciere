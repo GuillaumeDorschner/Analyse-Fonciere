{
 "cells": [
  {
   "cell_type": "markdown",
   "id": "ad1b99d4",
   "metadata": {},
   "source": [
    "# Rapport "
   ]
  },
  {
   "cell_type": "markdown",
   "id": "77ce0df5",
   "metadata": {},
   "source": [
    "## Ratio contribution\n",
    "\n",
    "Guillaume : Django ( %) |  Traitement des données ( %) | Analyse des données/Graphes ( %) | Rapport ( %)\n",
    "\n",
    "Louis : Django ( %) |  Traitement des données ( %) | Analyse des données/Graphes ( %) | Rapport ( %)\n",
    "\n",
    "Valentin : Django ( %) |  Traitement des données ( %) | Analyse des données/Graphes ( %) | Rapport ( %)\n"
   ]
  },
  {
   "cell_type": "markdown",
   "id": "1da9b97b",
   "metadata": {},
   "source": [
    "## Avancement et difficultés\n",
    "\n",
    "### Traitement des données\n",
    "\n",
    "Lors de la lecture des données, la première chose à faire est de convertir aux bons types les valeurs donc la colonne « Date mutation » en DateTime ainsi que toutes les autres valeurs en float64. Ensuite on passe à l’analyse et au nettoyage. On utilise donc set_option('display.max_columns') afin de pouvoir observer toutes les colonnes en mêmes temps. On regarde ensuite quelles valeurs sont grandement manquante afin de les supprimer. Une fois les colonnes sélectionnées selon nos critères qui étaient le nombre de valeurs nulles, si la même valeur se répétait ou encore si nous ne comptions pas apporter d’importance à cette variable dans nos analyses. Notre DataFrame comporte donc 24 colonnes au lieu de 43 au départ. Enfin, nous nous sommes aperçus que des valeurs complètement incohérentes dans le département de Paris existaient et faussaient notre calcul du prix moyen du mètre carré. Nous avons donc supprimé de nos données celles qui dépassaient 100 000 000 euros de valeur foncière et qui n’avaient pas de « Type local ». Nous exportons donc au format csv ces DataFrame traitées afin de faire nos analyses. \n",
    "\n",
    "### Analyse des données/Graphes\n",
    "\n",
    "Concernant les analyses, nous avons décidé de faire des graphes assez diversifiés afin que la personne cherchant à en tirer une analyse puisse avoir plusieurs visualisations possibles et que cela lui permette donc de mieux observer ce qu’elle souhaite. La valeur la plus courante étant le prix du mètre carré, au début nous avions commis l’erreur de choix de calculer cette valeur avec la surface réelle bâti au lieu de la surface Carrez. Nous avons donc ensuite calculé cette valeur avec cette surface Carrez quand cela était possible. Cependant, certaines valeurs restent beaucoup trop grandes et c’est donc pour cela que nous avons décidé de supprimer dans certains graphes les valeurs du prix du mètre carré au-delà de 25 000 euros. Nous avons ensuite réalisé en utilisant ou non cette méthode afin de voir la différence de résultat que nous pouvions avoir sur les graphes représentant cette valeur du prix du mètre carré. Certains graphes ont des valeurs que nous savons fausses et c'est volontaire de les avoir laissé afin de montrer l'évolution de notre analyse des données au fur et à mesure des graphes que nous avons réalisés. Comme par exemple avec les deux cartes représentant le prix du mètre carré par départements. La première possède des valeurs faites avec la surface réelle bati et les valeurs trop grandes n'ont pas été retirées. Tandis que dans le second graphes, les valeurs sont calculées avec la surface Carrez si possible sinon avec la surface réelle bati et les valeurs beaucoup trop grandes pour être correctes ont été supprimées afin d'avoir une réelle observation. \n",
    "\n",
    "### Réalisation du site en Django \n",
    "\n",
    "\n",
    "Au démarrage, le serveur charge toutes les données nécessaires en mémoire. Cela peut prendre un certain temps en fonction de la taille des données. C'est une étape essentielle pour garantir des temps de réponse rapides lorsque les utilisateurs demandent des graphiques ou des analyses.\n",
    "Ensuite, nous avons qui représente le REST du server. Chaque vue est responsable de traiter une demande HTTP. Les fonctions index / about / analyse_intra / analyse_inter affiche les pages / template html. Mais y il a aussi get_graph qui permet d’afficher les graphs. Pour rendre les interactions utilisateur plus fluides et éviter que le client attend une pages longtemps, le serveur envoye la pages, puis recuppe les graphique petit à petit avec Ajax. Cette approche permet à l'utilisateur de continuer à interagir avec la page pendant que les graphiques sont chargés, évitant ainsi une attente prolongée et améliorant l'expérience utilisateur globale.\n",
    "Nous utilisons a bibliothèque mpld3 pour convertir les graphiques Matplotlib en HTML."
   ]
  }
 ],
 "metadata": {
  "kernelspec": {
   "display_name": "Python 3 (ipykernel)",
   "language": "python",
   "name": "python3"
  },
  "language_info": {
   "codemirror_mode": {
    "name": "ipython",
    "version": 3
   },
   "file_extension": ".py",
   "mimetype": "text/x-python",
   "name": "python",
   "nbconvert_exporter": "python",
   "pygments_lexer": "ipython3",
   "version": "3.10.9"
  }
 },
 "nbformat": 4,
 "nbformat_minor": 5
}
