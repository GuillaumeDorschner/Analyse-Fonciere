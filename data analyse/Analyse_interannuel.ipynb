{
 "cells": [
  {
   "cell_type": "markdown",
   "metadata": {},
   "source": [
    "# Analyse foncière Inter-Annuel"
   ]
  },
  {
   "cell_type": "markdown",
   "metadata": {},
   "source": [
    "Importation des librairies et des données ainsi que l'import des dapartements et des régions\n"
   ]
  },
  {
   "cell_type": "code",
   "execution_count": 20,
   "metadata": {},
   "outputs": [
    {
     "data": {
      "text/html": [
       "        <script type=\"text/javascript\">\n",
       "        window.PlotlyConfig = {MathJaxConfig: 'local'};\n",
       "        if (window.MathJax && window.MathJax.Hub && window.MathJax.Hub.Config) {window.MathJax.Hub.Config({SVG: {font: \"STIX-Web\"}});}\n",
       "        if (typeof require !== 'undefined') {\n",
       "        require.undef(\"plotly\");\n",
       "        requirejs.config({\n",
       "            paths: {\n",
       "                'plotly': ['https://cdn.plot.ly/plotly-2.20.0.min']\n",
       "            }\n",
       "        });\n",
       "        require(['plotly'], function(Plotly) {\n",
       "            window._Plotly = Plotly;\n",
       "        });\n",
       "        }\n",
       "        </script>\n",
       "        "
      ]
     },
     "metadata": {},
     "output_type": "display_data"
    }
   ],
   "source": [
    "import pandas as pd\n",
    "import numpy as np\n",
    "import re\n",
    "import matplotlib.pyplot as plt\n",
    "import datetime\n",
    "import json\n",
    "import folium\n",
    "import json\n",
    "import pandas as pd\n",
    "import numpy as np\n",
    "from branca.colormap import linear\n",
    "from datetime import timedelta\n",
    "from urllib.request import urlopen\n",
    "import numpy as np\n",
    "import pandas as pd\n",
    "from plotly.offline import plot, iplot, init_notebook_mode\n",
    "init_notebook_mode(connected=True)\n",
    "import plotly.graph_objects as go\n",
    "import plotly.express as px\n",
    "import plotly.subplots as sp\n",
    "import warnings\n",
    "warnings.filterwarnings('ignore')\n",
    "\n",
    "DEPARTMENTS = {\n",
    "    '1': 'Ain', \n",
    "    '2': 'Aisne', \n",
    "    '3': 'Allier', \n",
    "    '4': 'Alpes-de-Haute-Provence', \n",
    "    '5': 'Hautes-Alpes',\n",
    "    '6': 'Alpes-Maritimes', \n",
    "    '7': 'Ardèche', \n",
    "    '8': 'Ardennes', \n",
    "    '9': 'Ariège', \n",
    "    '10': 'Aube', \n",
    "    '11': 'Aude',\n",
    "    '12': 'Aveyron', \n",
    "    '13': 'Bouches-du-Rhône', \n",
    "    '14': 'Calvados', \n",
    "    '15': 'Cantal', \n",
    "    '16': 'Charente',\n",
    "    '17': 'Charente-Maritime', \n",
    "    '18': 'Cher', \n",
    "    '19': 'Corrèze', \n",
    "    '2A': 'Corse-du-Sud', \n",
    "    '2B': 'Haute-Corse',\n",
    "    '21': 'Côte-d\\'Or', \n",
    "    '22': 'Côtes-d\\'Armor', \n",
    "    '23': 'Creuse', \n",
    "    '24': 'Dordogne', \n",
    "    '25': 'Doubs', \n",
    "    '26': 'Drôme',\n",
    "    '27': 'Eure', \n",
    "    '28': 'Eure-et-Loir', \n",
    "    '29': 'Finistère', \n",
    "    '30': 'Gard', \n",
    "    '31': 'Haute-Garonne', \n",
    "    '32': 'Gers',\n",
    "    '33': 'Gironde', \n",
    "    '34': 'Hérault', \n",
    "    '35': 'Ille-et-Vilaine', \n",
    "    '36': 'Indre', \n",
    "    '37': 'Indre-et-Loire',\n",
    "    '38': 'Isère', \n",
    "    '39': 'Jura', \n",
    "    '40': 'Landes', \n",
    "    '41': 'Loir-et-Cher', \n",
    "    '42': 'Loire', \n",
    "    '43': 'Haute-Loire',\n",
    "    '44': 'Loire-Atlantique', \n",
    "    '45': 'Loiret', \n",
    "    '46': 'Lot', \n",
    "    '47': 'Lot-et-Garonne', \n",
    "    '48': 'Lozère',\n",
    "    '49': 'Maine-et-Loire', \n",
    "    '50': 'Manche', \n",
    "    '51': 'Marne', \n",
    "    '52': 'Haute-Marne', \n",
    "    '53': 'Mayenne',\n",
    "    '54': 'Meurthe-et-Moselle', \n",
    "    '55': 'Meuse', \n",
    "    '56': 'Morbihan', \n",
    "    '57': 'Moselle', \n",
    "    '58': 'Nièvre', \n",
    "    '59': 'Nord',\n",
    "    '60': 'Oise', \n",
    "    '61': 'Orne', \n",
    "    '62': 'Pas-de-Calais', \n",
    "    '63': 'Puy-de-Dôme', \n",
    "    '64': 'Pyrénées-Atlantiques',\n",
    "    '65': 'Hautes-Pyrénées', \n",
    "    '66': 'Pyrénées-Orientales', \n",
    "    '67': 'Bas-Rhin', \n",
    "    '68': 'Haut-Rhin', \n",
    "    '69': 'Rhône',\n",
    "    '70': 'Haute-Saône', \n",
    "    '71': 'Saône-et-Loire', \n",
    "    '72': 'Sarthe', \n",
    "    '73': 'Savoie', \n",
    "    '74': 'Haute-Savoie',\n",
    "    '75': 'Paris', \n",
    "    '76': 'Seine-Maritime', \n",
    "    '77': 'Seine-et-Marne', \n",
    "    '78': 'Yvelines', \n",
    "    '79': 'Deux-Sèvres',\n",
    "    '80': 'Somme', \n",
    "    '81': 'Tarn', \n",
    "    '82': 'Tarn-et-Garonne', \n",
    "    '83': 'Var', \n",
    "    '84': 'Vaucluse', \n",
    "    '85': 'Vendée',\n",
    "    '86': 'Vienne', \n",
    "    '87': 'Haute-Vienne', \n",
    "    '88': 'Vosges', \n",
    "    '89': 'Yonne', \n",
    "    '90': 'Territoire de Belfort',\n",
    "    '91': 'Essonne', \n",
    "    '92': 'Hauts-de-Seine', \n",
    "    '93': 'Seine-Saint-Denis', \n",
    "    '94': 'Val-de-Marne', \n",
    "    '95': 'Val-d\\'Oise',\n",
    "    '971': 'Guadeloupe', \n",
    "    '972': 'Martinique', \n",
    "    '973': 'Guyane', \n",
    "    '974': 'La Réunion', \n",
    "    '976': 'Mayotte',\n",
    "}\n",
    "\n",
    "REGIONS = {\n",
    "    'Auvergne-Rhône-Alpes': ['01', '03', '07', '15', '26', '38', '42', '43', '63', '69', '73', '74'],\n",
    "    'Bourgogne-Franche-Comté': ['21', '25', '39', '58', '70', '71', '89', '90'],\n",
    "    'Bretagne': ['22', '29', '35', '56'],\n",
    "    'Centre-Val de Loire': ['18', '28', '36', '37', '41', '45'],\n",
    "    'Corse': ['2A', '2B'],\n",
    "    'Grand Est': ['08', '10', '51', '52', '54', '55', '57', '67', '68', '88'],\n",
    "    'Hauts-de-France': ['02', '59', '60', '62', '80'],\n",
    "    'Île-de-France': ['75', '77', '78', '91', '92', '93', '94', '95'],\n",
    "    'Normandie': ['14', '27', '50', '61', '76'],\n",
    "    'Nouvelle-Aquitaine': ['16', '17', '19', '23', '24', '33', '40', '47', '64', '79', '86', '87'],\n",
    "    'Occitanie': ['09', '11', '12', '30', '31', '32', '34', '46', '48', '65', '66', '81', '82'],\n",
    "    'Pays de la Loire': ['44', '49', '53', '72', '85'],\n",
    "    'Provence-Alpes-Côte d\\'Azur': ['04', '05', '06', '13', '83', '84'],\n",
    "    'Guadeloupe': ['971'],\n",
    "    'Martinique': ['972'],\n",
    "    'Guyane': ['973'],\n",
    "    'La Réunion': ['974'],\n",
    "    'Mayotte': ['976']\n",
    "}\n",
    "\n",
    "dth = '#ff2e63' \n",
    "rec = '#21bf73'\n",
    "act = '#fe9801'\n",
    "\n",
    "data = pd.read_csv(r\"../data/annee_traitee/2018.csv\",low_memory=False,sep=\",\",header=0,index_col=0)\n",
    "data = data.append(pd.read_csv(r\"../data/annee_traitee/2019.csv\",low_memory=False,sep=\",\",header=0,index_col=0))\n",
    "data = data.append(pd.read_csv(r\"../data/annee_traitee/2020.csv\",low_memory=False,sep=\",\",header=0,index_col=0))\n",
    "data = data.append(pd.read_csv(r\"../data/annee_traitee/2021.csv\",low_memory=False,sep=\",\",header=0,index_col=0))\n",
    "data = data.append(pd.read_csv(r\"../data/annee_traitee/2022.csv\",low_memory=False,sep=\",\",header=0,index_col=0))\n",
    "\n",
    "data[\"Date mutation\"] = pd.to_datetime(data[\"Date mutation\"], format=\"%Y-%m-%d\")\n",
    "data = data.reset_index(drop=True)"
   ]
  },
  {
   "cell_type": "code",
   "execution_count": 21,
   "metadata": {},
   "outputs": [
    {
     "data": {
      "text/html": [
       "<div>\n",
       "<style scoped>\n",
       "    .dataframe tbody tr th:only-of-type {\n",
       "        vertical-align: middle;\n",
       "    }\n",
       "\n",
       "    .dataframe tbody tr th {\n",
       "        vertical-align: top;\n",
       "    }\n",
       "\n",
       "    .dataframe thead th {\n",
       "        text-align: right;\n",
       "    }\n",
       "</style>\n",
       "<table border=\"1\" class=\"dataframe\">\n",
       "  <thead>\n",
       "    <tr style=\"text-align: right;\">\n",
       "      <th></th>\n",
       "      <th>Date mutation</th>\n",
       "      <th>Valeur fonciere</th>\n",
       "      <th>No voie</th>\n",
       "      <th>Type de voie</th>\n",
       "      <th>Code voie</th>\n",
       "      <th>Voie</th>\n",
       "      <th>Code postal</th>\n",
       "      <th>Code departement</th>\n",
       "      <th>Code commune</th>\n",
       "      <th>Section</th>\n",
       "      <th>No plan</th>\n",
       "      <th>1er lot</th>\n",
       "      <th>Surface Carrez du 1er lot</th>\n",
       "      <th>Nombre de lots</th>\n",
       "      <th>Code type local</th>\n",
       "      <th>Type local</th>\n",
       "      <th>Surface reelle bati</th>\n",
       "      <th>Nombre pieces principales</th>\n",
       "      <th>Nature culture</th>\n",
       "      <th>Surface terrain</th>\n",
       "    </tr>\n",
       "  </thead>\n",
       "  <tbody>\n",
       "    <tr>\n",
       "      <th>0</th>\n",
       "      <td>2018-01-03</td>\n",
       "      <td>109000.0</td>\n",
       "      <td>13.0</td>\n",
       "      <td>RUE</td>\n",
       "      <td>1660</td>\n",
       "      <td>GEN LOGEROT</td>\n",
       "      <td>1000.0</td>\n",
       "      <td>1</td>\n",
       "      <td>53</td>\n",
       "      <td>AN</td>\n",
       "      <td>73</td>\n",
       "      <td>1</td>\n",
       "      <td>NaN</td>\n",
       "      <td>2</td>\n",
       "      <td>2.0</td>\n",
       "      <td>Appartement</td>\n",
       "      <td>73.0</td>\n",
       "      <td>4.0</td>\n",
       "      <td>NaN</td>\n",
       "      <td>NaN</td>\n",
       "    </tr>\n",
       "    <tr>\n",
       "      <th>1</th>\n",
       "      <td>2018-01-03</td>\n",
       "      <td>109000.0</td>\n",
       "      <td>13.0</td>\n",
       "      <td>RUE</td>\n",
       "      <td>1660</td>\n",
       "      <td>GEN LOGEROT</td>\n",
       "      <td>1000.0</td>\n",
       "      <td>1</td>\n",
       "      <td>53</td>\n",
       "      <td>AN</td>\n",
       "      <td>73</td>\n",
       "      <td>13</td>\n",
       "      <td>NaN</td>\n",
       "      <td>1</td>\n",
       "      <td>3.0</td>\n",
       "      <td>Dépendance</td>\n",
       "      <td>0.0</td>\n",
       "      <td>0.0</td>\n",
       "      <td>NaN</td>\n",
       "      <td>NaN</td>\n",
       "    </tr>\n",
       "    <tr>\n",
       "      <th>2</th>\n",
       "      <td>2018-01-04</td>\n",
       "      <td>239300.0</td>\n",
       "      <td>4.0</td>\n",
       "      <td>RUE</td>\n",
       "      <td>0025</td>\n",
       "      <td>DE LA BARMETTE</td>\n",
       "      <td>1250.0</td>\n",
       "      <td>1</td>\n",
       "      <td>95</td>\n",
       "      <td>AH</td>\n",
       "      <td>186</td>\n",
       "      <td>NaN</td>\n",
       "      <td>NaN</td>\n",
       "      <td>0</td>\n",
       "      <td>1.0</td>\n",
       "      <td>Maison</td>\n",
       "      <td>163.0</td>\n",
       "      <td>4.0</td>\n",
       "      <td>S</td>\n",
       "      <td>949.0</td>\n",
       "    </tr>\n",
       "    <tr>\n",
       "      <th>3</th>\n",
       "      <td>2018-01-04</td>\n",
       "      <td>239300.0</td>\n",
       "      <td>4.0</td>\n",
       "      <td>RUE</td>\n",
       "      <td>0025</td>\n",
       "      <td>DE LA BARMETTE</td>\n",
       "      <td>1250.0</td>\n",
       "      <td>1</td>\n",
       "      <td>95</td>\n",
       "      <td>AH</td>\n",
       "      <td>186</td>\n",
       "      <td>NaN</td>\n",
       "      <td>NaN</td>\n",
       "      <td>0</td>\n",
       "      <td>1.0</td>\n",
       "      <td>Maison</td>\n",
       "      <td>163.0</td>\n",
       "      <td>4.0</td>\n",
       "      <td>AG</td>\n",
       "      <td>420.0</td>\n",
       "    </tr>\n",
       "    <tr>\n",
       "      <th>4</th>\n",
       "      <td>2018-01-04</td>\n",
       "      <td>239300.0</td>\n",
       "      <td>4.0</td>\n",
       "      <td>RUE</td>\n",
       "      <td>0025</td>\n",
       "      <td>DE LA BARMETTE</td>\n",
       "      <td>1250.0</td>\n",
       "      <td>1</td>\n",
       "      <td>95</td>\n",
       "      <td>AH</td>\n",
       "      <td>186</td>\n",
       "      <td>NaN</td>\n",
       "      <td>NaN</td>\n",
       "      <td>0</td>\n",
       "      <td>1.0</td>\n",
       "      <td>Maison</td>\n",
       "      <td>51.0</td>\n",
       "      <td>2.0</td>\n",
       "      <td>AG</td>\n",
       "      <td>420.0</td>\n",
       "    </tr>\n",
       "    <tr>\n",
       "      <th>...</th>\n",
       "      <td>...</td>\n",
       "      <td>...</td>\n",
       "      <td>...</td>\n",
       "      <td>...</td>\n",
       "      <td>...</td>\n",
       "      <td>...</td>\n",
       "      <td>...</td>\n",
       "      <td>...</td>\n",
       "      <td>...</td>\n",
       "      <td>...</td>\n",
       "      <td>...</td>\n",
       "      <td>...</td>\n",
       "      <td>...</td>\n",
       "      <td>...</td>\n",
       "      <td>...</td>\n",
       "      <td>...</td>\n",
       "      <td>...</td>\n",
       "      <td>...</td>\n",
       "      <td>...</td>\n",
       "      <td>...</td>\n",
       "    </tr>\n",
       "    <tr>\n",
       "      <th>10758898</th>\n",
       "      <td>2022-12-30</td>\n",
       "      <td>3500000.0</td>\n",
       "      <td>19.0</td>\n",
       "      <td>RUE</td>\n",
       "      <td>4879</td>\n",
       "      <td>JEAN DOLENT</td>\n",
       "      <td>75014.0</td>\n",
       "      <td>75</td>\n",
       "      <td>114</td>\n",
       "      <td>AS</td>\n",
       "      <td>41</td>\n",
       "      <td>3</td>\n",
       "      <td>NaN</td>\n",
       "      <td>1</td>\n",
       "      <td>4.0</td>\n",
       "      <td>Local industriel. commercial ou assimilé</td>\n",
       "      <td>327.0</td>\n",
       "      <td>0.0</td>\n",
       "      <td>NaN</td>\n",
       "      <td>NaN</td>\n",
       "    </tr>\n",
       "    <tr>\n",
       "      <th>10758899</th>\n",
       "      <td>2022-12-19</td>\n",
       "      <td>525000.0</td>\n",
       "      <td>3.0</td>\n",
       "      <td>RUE</td>\n",
       "      <td>3842</td>\n",
       "      <td>FREDERIC MAGISSON</td>\n",
       "      <td>75015.0</td>\n",
       "      <td>75</td>\n",
       "      <td>115</td>\n",
       "      <td>EJ</td>\n",
       "      <td>51</td>\n",
       "      <td>49</td>\n",
       "      <td>46.65</td>\n",
       "      <td>2</td>\n",
       "      <td>3.0</td>\n",
       "      <td>Dépendance</td>\n",
       "      <td>0.0</td>\n",
       "      <td>0.0</td>\n",
       "      <td>NaN</td>\n",
       "      <td>NaN</td>\n",
       "    </tr>\n",
       "    <tr>\n",
       "      <th>10758900</th>\n",
       "      <td>2022-12-19</td>\n",
       "      <td>525000.0</td>\n",
       "      <td>3.0</td>\n",
       "      <td>RUE</td>\n",
       "      <td>3842</td>\n",
       "      <td>FREDERIC MAGISSON</td>\n",
       "      <td>75015.0</td>\n",
       "      <td>75</td>\n",
       "      <td>115</td>\n",
       "      <td>EJ</td>\n",
       "      <td>51</td>\n",
       "      <td>49</td>\n",
       "      <td>46.65</td>\n",
       "      <td>2</td>\n",
       "      <td>2.0</td>\n",
       "      <td>Appartement</td>\n",
       "      <td>40.0</td>\n",
       "      <td>3.0</td>\n",
       "      <td>NaN</td>\n",
       "      <td>NaN</td>\n",
       "    </tr>\n",
       "    <tr>\n",
       "      <th>10758901</th>\n",
       "      <td>2022-12-30</td>\n",
       "      <td>15500.0</td>\n",
       "      <td>69.0</td>\n",
       "      <td>RUE</td>\n",
       "      <td>0679</td>\n",
       "      <td>BARRAULT</td>\n",
       "      <td>75013.0</td>\n",
       "      <td>75</td>\n",
       "      <td>113</td>\n",
       "      <td>DM</td>\n",
       "      <td>28</td>\n",
       "      <td>244</td>\n",
       "      <td>NaN</td>\n",
       "      <td>1</td>\n",
       "      <td>3.0</td>\n",
       "      <td>Dépendance</td>\n",
       "      <td>0.0</td>\n",
       "      <td>0.0</td>\n",
       "      <td>NaN</td>\n",
       "      <td>NaN</td>\n",
       "    </tr>\n",
       "    <tr>\n",
       "      <th>10758902</th>\n",
       "      <td>2022-11-21</td>\n",
       "      <td>30000.0</td>\n",
       "      <td>48.0</td>\n",
       "      <td>RUE</td>\n",
       "      <td>8358</td>\n",
       "      <td>DE LA ROQUETTE</td>\n",
       "      <td>75011.0</td>\n",
       "      <td>75</td>\n",
       "      <td>111</td>\n",
       "      <td>CD</td>\n",
       "      <td>88</td>\n",
       "      <td>516</td>\n",
       "      <td>NaN</td>\n",
       "      <td>1</td>\n",
       "      <td>3.0</td>\n",
       "      <td>Dépendance</td>\n",
       "      <td>0.0</td>\n",
       "      <td>0.0</td>\n",
       "      <td>NaN</td>\n",
       "      <td>NaN</td>\n",
       "    </tr>\n",
       "  </tbody>\n",
       "</table>\n",
       "<p>10758903 rows × 20 columns</p>\n",
       "</div>"
      ],
      "text/plain": [
       "         Date mutation  Valeur fonciere  No voie Type de voie Code voie  \\\n",
       "0           2018-01-03         109000.0     13.0          RUE      1660   \n",
       "1           2018-01-03         109000.0     13.0          RUE      1660   \n",
       "2           2018-01-04         239300.0      4.0          RUE      0025   \n",
       "3           2018-01-04         239300.0      4.0          RUE      0025   \n",
       "4           2018-01-04         239300.0      4.0          RUE      0025   \n",
       "...                ...              ...      ...          ...       ...   \n",
       "10758898    2022-12-30        3500000.0     19.0          RUE      4879   \n",
       "10758899    2022-12-19         525000.0      3.0          RUE      3842   \n",
       "10758900    2022-12-19         525000.0      3.0          RUE      3842   \n",
       "10758901    2022-12-30          15500.0     69.0          RUE      0679   \n",
       "10758902    2022-11-21          30000.0     48.0          RUE      8358   \n",
       "\n",
       "                       Voie  Code postal Code departement  Code commune  \\\n",
       "0               GEN LOGEROT       1000.0                1            53   \n",
       "1               GEN LOGEROT       1000.0                1            53   \n",
       "2            DE LA BARMETTE       1250.0                1            95   \n",
       "3            DE LA BARMETTE       1250.0                1            95   \n",
       "4            DE LA BARMETTE       1250.0                1            95   \n",
       "...                     ...          ...              ...           ...   \n",
       "10758898        JEAN DOLENT      75014.0               75           114   \n",
       "10758899  FREDERIC MAGISSON      75015.0               75           115   \n",
       "10758900  FREDERIC MAGISSON      75015.0               75           115   \n",
       "10758901           BARRAULT      75013.0               75           113   \n",
       "10758902     DE LA ROQUETTE      75011.0               75           111   \n",
       "\n",
       "         Section  No plan 1er lot  Surface Carrez du 1er lot  Nombre de lots  \\\n",
       "0             AN       73       1                        NaN               2   \n",
       "1             AN       73      13                        NaN               1   \n",
       "2             AH      186     NaN                        NaN               0   \n",
       "3             AH      186     NaN                        NaN               0   \n",
       "4             AH      186     NaN                        NaN               0   \n",
       "...          ...      ...     ...                        ...             ...   \n",
       "10758898      AS       41       3                        NaN               1   \n",
       "10758899      EJ       51      49                      46.65               2   \n",
       "10758900      EJ       51      49                      46.65               2   \n",
       "10758901      DM       28     244                        NaN               1   \n",
       "10758902      CD       88     516                        NaN               1   \n",
       "\n",
       "          Code type local                                Type local  \\\n",
       "0                     2.0                               Appartement   \n",
       "1                     3.0                                Dépendance   \n",
       "2                     1.0                                    Maison   \n",
       "3                     1.0                                    Maison   \n",
       "4                     1.0                                    Maison   \n",
       "...                   ...                                       ...   \n",
       "10758898              4.0  Local industriel. commercial ou assimilé   \n",
       "10758899              3.0                                Dépendance   \n",
       "10758900              2.0                               Appartement   \n",
       "10758901              3.0                                Dépendance   \n",
       "10758902              3.0                                Dépendance   \n",
       "\n",
       "          Surface reelle bati  Nombre pieces principales Nature culture  \\\n",
       "0                        73.0                        4.0            NaN   \n",
       "1                         0.0                        0.0            NaN   \n",
       "2                       163.0                        4.0              S   \n",
       "3                       163.0                        4.0             AG   \n",
       "4                        51.0                        2.0             AG   \n",
       "...                       ...                        ...            ...   \n",
       "10758898                327.0                        0.0            NaN   \n",
       "10758899                  0.0                        0.0            NaN   \n",
       "10758900                 40.0                        3.0            NaN   \n",
       "10758901                  0.0                        0.0            NaN   \n",
       "10758902                  0.0                        0.0            NaN   \n",
       "\n",
       "          Surface terrain  \n",
       "0                     NaN  \n",
       "1                     NaN  \n",
       "2                   949.0  \n",
       "3                   420.0  \n",
       "4                   420.0  \n",
       "...                   ...  \n",
       "10758898              NaN  \n",
       "10758899              NaN  \n",
       "10758900              NaN  \n",
       "10758901              NaN  \n",
       "10758902              NaN  \n",
       "\n",
       "[10758903 rows x 20 columns]"
      ]
     },
     "metadata": {},
     "output_type": "display_data"
    }
   ],
   "source": [
    "display(data)"
   ]
  },
  {
   "cell_type": "code",
   "execution_count": 22,
   "metadata": {},
   "outputs": [
    {
     "data": {
      "text/plain": [
       "39946.7181677061"
      ]
     },
     "metadata": {},
     "output_type": "display_data"
    },
    {
     "data": {
      "text/html": [
       "<div>\n",
       "<style scoped>\n",
       "    .dataframe tbody tr th:only-of-type {\n",
       "        vertical-align: middle;\n",
       "    }\n",
       "\n",
       "    .dataframe tbody tr th {\n",
       "        vertical-align: top;\n",
       "    }\n",
       "\n",
       "    .dataframe thead th {\n",
       "        text-align: right;\n",
       "    }\n",
       "</style>\n",
       "<table border=\"1\" class=\"dataframe\">\n",
       "  <thead>\n",
       "    <tr style=\"text-align: right;\">\n",
       "      <th></th>\n",
       "      <th>Date mutation</th>\n",
       "      <th>Valeur fonciere</th>\n",
       "      <th>No voie</th>\n",
       "      <th>Type de voie</th>\n",
       "      <th>Code voie</th>\n",
       "      <th>Voie</th>\n",
       "      <th>Code postal</th>\n",
       "      <th>Code departement</th>\n",
       "      <th>Code commune</th>\n",
       "      <th>Section</th>\n",
       "      <th>...</th>\n",
       "      <th>Code type local</th>\n",
       "      <th>Type local</th>\n",
       "      <th>Surface reelle bati</th>\n",
       "      <th>Nombre pieces principales</th>\n",
       "      <th>Nature culture</th>\n",
       "      <th>Surface terrain</th>\n",
       "      <th>Month mutation</th>\n",
       "      <th>Prix mètre carré Paris 2018</th>\n",
       "      <th>Prix mètre carré Paris 2019</th>\n",
       "      <th>Prix mètre carré Paris 2022</th>\n",
       "    </tr>\n",
       "  </thead>\n",
       "  <tbody>\n",
       "    <tr>\n",
       "      <th>0</th>\n",
       "      <td>2018-01-03</td>\n",
       "      <td>109000.0</td>\n",
       "      <td>13.0</td>\n",
       "      <td>RUE</td>\n",
       "      <td>1660</td>\n",
       "      <td>GEN LOGEROT</td>\n",
       "      <td>1000.0</td>\n",
       "      <td>1</td>\n",
       "      <td>53</td>\n",
       "      <td>AN</td>\n",
       "      <td>...</td>\n",
       "      <td>2.0</td>\n",
       "      <td>Appartement</td>\n",
       "      <td>73.0</td>\n",
       "      <td>4.0</td>\n",
       "      <td>NaN</td>\n",
       "      <td>NaN</td>\n",
       "      <td>1</td>\n",
       "      <td>NaN</td>\n",
       "      <td>NaN</td>\n",
       "      <td>NaN</td>\n",
       "    </tr>\n",
       "    <tr>\n",
       "      <th>1</th>\n",
       "      <td>2018-01-04</td>\n",
       "      <td>239300.0</td>\n",
       "      <td>4.0</td>\n",
       "      <td>RUE</td>\n",
       "      <td>0025</td>\n",
       "      <td>DE LA BARMETTE</td>\n",
       "      <td>1250.0</td>\n",
       "      <td>1</td>\n",
       "      <td>95</td>\n",
       "      <td>AH</td>\n",
       "      <td>...</td>\n",
       "      <td>1.0</td>\n",
       "      <td>Maison</td>\n",
       "      <td>163.0</td>\n",
       "      <td>4.0</td>\n",
       "      <td>S</td>\n",
       "      <td>949.0</td>\n",
       "      <td>1</td>\n",
       "      <td>NaN</td>\n",
       "      <td>NaN</td>\n",
       "      <td>NaN</td>\n",
       "    </tr>\n",
       "    <tr>\n",
       "      <th>2</th>\n",
       "      <td>2018-01-04</td>\n",
       "      <td>239300.0</td>\n",
       "      <td>4.0</td>\n",
       "      <td>RUE</td>\n",
       "      <td>0025</td>\n",
       "      <td>DE LA BARMETTE</td>\n",
       "      <td>1250.0</td>\n",
       "      <td>1</td>\n",
       "      <td>95</td>\n",
       "      <td>AH</td>\n",
       "      <td>...</td>\n",
       "      <td>1.0</td>\n",
       "      <td>Maison</td>\n",
       "      <td>163.0</td>\n",
       "      <td>4.0</td>\n",
       "      <td>AG</td>\n",
       "      <td>420.0</td>\n",
       "      <td>1</td>\n",
       "      <td>NaN</td>\n",
       "      <td>NaN</td>\n",
       "      <td>NaN</td>\n",
       "    </tr>\n",
       "    <tr>\n",
       "      <th>3</th>\n",
       "      <td>2018-01-04</td>\n",
       "      <td>239300.0</td>\n",
       "      <td>4.0</td>\n",
       "      <td>RUE</td>\n",
       "      <td>0025</td>\n",
       "      <td>DE LA BARMETTE</td>\n",
       "      <td>1250.0</td>\n",
       "      <td>1</td>\n",
       "      <td>95</td>\n",
       "      <td>AH</td>\n",
       "      <td>...</td>\n",
       "      <td>1.0</td>\n",
       "      <td>Maison</td>\n",
       "      <td>51.0</td>\n",
       "      <td>2.0</td>\n",
       "      <td>AG</td>\n",
       "      <td>420.0</td>\n",
       "      <td>1</td>\n",
       "      <td>NaN</td>\n",
       "      <td>NaN</td>\n",
       "      <td>NaN</td>\n",
       "    </tr>\n",
       "    <tr>\n",
       "      <th>4</th>\n",
       "      <td>2018-01-04</td>\n",
       "      <td>239300.0</td>\n",
       "      <td>4.0</td>\n",
       "      <td>RUE</td>\n",
       "      <td>0025</td>\n",
       "      <td>DE LA BARMETTE</td>\n",
       "      <td>1250.0</td>\n",
       "      <td>1</td>\n",
       "      <td>95</td>\n",
       "      <td>AH</td>\n",
       "      <td>...</td>\n",
       "      <td>1.0</td>\n",
       "      <td>Maison</td>\n",
       "      <td>51.0</td>\n",
       "      <td>2.0</td>\n",
       "      <td>S</td>\n",
       "      <td>949.0</td>\n",
       "      <td>1</td>\n",
       "      <td>NaN</td>\n",
       "      <td>NaN</td>\n",
       "      <td>NaN</td>\n",
       "    </tr>\n",
       "    <tr>\n",
       "      <th>...</th>\n",
       "      <td>...</td>\n",
       "      <td>...</td>\n",
       "      <td>...</td>\n",
       "      <td>...</td>\n",
       "      <td>...</td>\n",
       "      <td>...</td>\n",
       "      <td>...</td>\n",
       "      <td>...</td>\n",
       "      <td>...</td>\n",
       "      <td>...</td>\n",
       "      <td>...</td>\n",
       "      <td>...</td>\n",
       "      <td>...</td>\n",
       "      <td>...</td>\n",
       "      <td>...</td>\n",
       "      <td>...</td>\n",
       "      <td>...</td>\n",
       "      <td>...</td>\n",
       "      <td>...</td>\n",
       "      <td>...</td>\n",
       "      <td>...</td>\n",
       "    </tr>\n",
       "    <tr>\n",
       "      <th>6507941</th>\n",
       "      <td>2022-12-29</td>\n",
       "      <td>1650000.0</td>\n",
       "      <td>78.0</td>\n",
       "      <td>AV</td>\n",
       "      <td>7149</td>\n",
       "      <td>PAUL DOUMER</td>\n",
       "      <td>75016.0</td>\n",
       "      <td>75</td>\n",
       "      <td>116</td>\n",
       "      <td>DM</td>\n",
       "      <td>...</td>\n",
       "      <td>2.0</td>\n",
       "      <td>Appartement</td>\n",
       "      <td>150.0</td>\n",
       "      <td>6.0</td>\n",
       "      <td>NaN</td>\n",
       "      <td>NaN</td>\n",
       "      <td>12</td>\n",
       "      <td>NaN</td>\n",
       "      <td>NaN</td>\n",
       "      <td>11000.000000</td>\n",
       "    </tr>\n",
       "    <tr>\n",
       "      <th>6507942</th>\n",
       "      <td>2022-11-03</td>\n",
       "      <td>291000.0</td>\n",
       "      <td>128.0</td>\n",
       "      <td>RUE</td>\n",
       "      <td>0012</td>\n",
       "      <td>DE L ABBE GROULT</td>\n",
       "      <td>75015.0</td>\n",
       "      <td>75</td>\n",
       "      <td>115</td>\n",
       "      <td>AE</td>\n",
       "      <td>...</td>\n",
       "      <td>2.0</td>\n",
       "      <td>Appartement</td>\n",
       "      <td>35.0</td>\n",
       "      <td>2.0</td>\n",
       "      <td>NaN</td>\n",
       "      <td>NaN</td>\n",
       "      <td>11</td>\n",
       "      <td>NaN</td>\n",
       "      <td>NaN</td>\n",
       "      <td>8314.285714</td>\n",
       "    </tr>\n",
       "    <tr>\n",
       "      <th>6507943</th>\n",
       "      <td>2022-12-23</td>\n",
       "      <td>934000.0</td>\n",
       "      <td>5.0</td>\n",
       "      <td>VLA</td>\n",
       "      <td>3488</td>\n",
       "      <td>FAISANDERIE</td>\n",
       "      <td>75016.0</td>\n",
       "      <td>75</td>\n",
       "      <td>116</td>\n",
       "      <td>EE</td>\n",
       "      <td>...</td>\n",
       "      <td>2.0</td>\n",
       "      <td>Appartement</td>\n",
       "      <td>58.0</td>\n",
       "      <td>2.0</td>\n",
       "      <td>NaN</td>\n",
       "      <td>NaN</td>\n",
       "      <td>12</td>\n",
       "      <td>NaN</td>\n",
       "      <td>NaN</td>\n",
       "      <td>16103.448276</td>\n",
       "    </tr>\n",
       "    <tr>\n",
       "      <th>6507944</th>\n",
       "      <td>2022-12-23</td>\n",
       "      <td>70000.0</td>\n",
       "      <td>67.0</td>\n",
       "      <td>RUE</td>\n",
       "      <td>1255</td>\n",
       "      <td>BRANCION</td>\n",
       "      <td>75015.0</td>\n",
       "      <td>75</td>\n",
       "      <td>115</td>\n",
       "      <td>AJ</td>\n",
       "      <td>...</td>\n",
       "      <td>2.0</td>\n",
       "      <td>Appartement</td>\n",
       "      <td>15.0</td>\n",
       "      <td>1.0</td>\n",
       "      <td>NaN</td>\n",
       "      <td>NaN</td>\n",
       "      <td>12</td>\n",
       "      <td>NaN</td>\n",
       "      <td>NaN</td>\n",
       "      <td>4666.666667</td>\n",
       "    </tr>\n",
       "    <tr>\n",
       "      <th>6507945</th>\n",
       "      <td>2022-12-19</td>\n",
       "      <td>525000.0</td>\n",
       "      <td>3.0</td>\n",
       "      <td>RUE</td>\n",
       "      <td>3842</td>\n",
       "      <td>FREDERIC MAGISSON</td>\n",
       "      <td>75015.0</td>\n",
       "      <td>75</td>\n",
       "      <td>115</td>\n",
       "      <td>EJ</td>\n",
       "      <td>...</td>\n",
       "      <td>2.0</td>\n",
       "      <td>Appartement</td>\n",
       "      <td>40.0</td>\n",
       "      <td>3.0</td>\n",
       "      <td>NaN</td>\n",
       "      <td>NaN</td>\n",
       "      <td>12</td>\n",
       "      <td>NaN</td>\n",
       "      <td>NaN</td>\n",
       "      <td>13125.000000</td>\n",
       "    </tr>\n",
       "  </tbody>\n",
       "</table>\n",
       "<p>6507946 rows × 24 columns</p>\n",
       "</div>"
      ],
      "text/plain": [
       "        Date mutation  Valeur fonciere  No voie Type de voie Code voie  \\\n",
       "0          2018-01-03         109000.0     13.0          RUE      1660   \n",
       "1          2018-01-04         239300.0      4.0          RUE      0025   \n",
       "2          2018-01-04         239300.0      4.0          RUE      0025   \n",
       "3          2018-01-04         239300.0      4.0          RUE      0025   \n",
       "4          2018-01-04         239300.0      4.0          RUE      0025   \n",
       "...               ...              ...      ...          ...       ...   \n",
       "6507941    2022-12-29        1650000.0     78.0           AV      7149   \n",
       "6507942    2022-11-03         291000.0    128.0          RUE      0012   \n",
       "6507943    2022-12-23         934000.0      5.0          VLA      3488   \n",
       "6507944    2022-12-23          70000.0     67.0          RUE      1255   \n",
       "6507945    2022-12-19         525000.0      3.0          RUE      3842   \n",
       "\n",
       "                      Voie  Code postal Code departement  Code commune  \\\n",
       "0              GEN LOGEROT       1000.0                1            53   \n",
       "1           DE LA BARMETTE       1250.0                1            95   \n",
       "2           DE LA BARMETTE       1250.0                1            95   \n",
       "3           DE LA BARMETTE       1250.0                1            95   \n",
       "4           DE LA BARMETTE       1250.0                1            95   \n",
       "...                    ...          ...              ...           ...   \n",
       "6507941        PAUL DOUMER      75016.0               75           116   \n",
       "6507942   DE L ABBE GROULT      75015.0               75           115   \n",
       "6507943        FAISANDERIE      75016.0               75           116   \n",
       "6507944           BRANCION      75015.0               75           115   \n",
       "6507945  FREDERIC MAGISSON      75015.0               75           115   \n",
       "\n",
       "        Section  ...  Code type local   Type local  Surface reelle bati  \\\n",
       "0            AN  ...              2.0  Appartement                 73.0   \n",
       "1            AH  ...              1.0       Maison                163.0   \n",
       "2            AH  ...              1.0       Maison                163.0   \n",
       "3            AH  ...              1.0       Maison                 51.0   \n",
       "4            AH  ...              1.0       Maison                 51.0   \n",
       "...         ...  ...              ...          ...                  ...   \n",
       "6507941      DM  ...              2.0  Appartement                150.0   \n",
       "6507942      AE  ...              2.0  Appartement                 35.0   \n",
       "6507943      EE  ...              2.0  Appartement                 58.0   \n",
       "6507944      AJ  ...              2.0  Appartement                 15.0   \n",
       "6507945      EJ  ...              2.0  Appartement                 40.0   \n",
       "\n",
       "         Nombre pieces principales  Nature culture Surface terrain  \\\n",
       "0                              4.0             NaN             NaN   \n",
       "1                              4.0               S           949.0   \n",
       "2                              4.0              AG           420.0   \n",
       "3                              2.0              AG           420.0   \n",
       "4                              2.0               S           949.0   \n",
       "...                            ...             ...             ...   \n",
       "6507941                        6.0             NaN             NaN   \n",
       "6507942                        2.0             NaN             NaN   \n",
       "6507943                        2.0             NaN             NaN   \n",
       "6507944                        1.0             NaN             NaN   \n",
       "6507945                        3.0             NaN             NaN   \n",
       "\n",
       "         Month mutation  Prix mètre carré Paris 2018  \\\n",
       "0                     1                          NaN   \n",
       "1                     1                          NaN   \n",
       "2                     1                          NaN   \n",
       "3                     1                          NaN   \n",
       "4                     1                          NaN   \n",
       "...                 ...                          ...   \n",
       "6507941              12                          NaN   \n",
       "6507942              11                          NaN   \n",
       "6507943              12                          NaN   \n",
       "6507944              12                          NaN   \n",
       "6507945              12                          NaN   \n",
       "\n",
       "        Prix mètre carré Paris 2019  Prix mètre carré Paris 2022  \n",
       "0                               NaN                          NaN  \n",
       "1                               NaN                          NaN  \n",
       "2                               NaN                          NaN  \n",
       "3                               NaN                          NaN  \n",
       "4                               NaN                          NaN  \n",
       "...                             ...                          ...  \n",
       "6507941                         NaN                 11000.000000  \n",
       "6507942                         NaN                  8314.285714  \n",
       "6507943                         NaN                 16103.448276  \n",
       "6507944                         NaN                  4666.666667  \n",
       "6507945                         NaN                 13125.000000  \n",
       "\n",
       "[6507946 rows x 24 columns]"
      ]
     },
     "metadata": {},
     "output_type": "display_data"
    },
    {
     "data": {
      "application/vnd.plotly.v1+json": {
       "config": {
        "plotlyServerURL": "https://plot.ly"
       },
       "data": [
        {
         "hovertemplate": "Departements=Prix mètre carré Paris 2018<br>Month mutation=%{x}<br>Value=%{y}<extra></extra>",
         "legendgroup": "Prix mètre carré Paris 2018",
         "line": {
          "color": "#ff2e63",
          "dash": "solid"
         },
         "marker": {
          "symbol": "circle"
         },
         "mode": "lines",
         "name": "Prix mètre carré Paris 2018",
         "orientation": "v",
         "showlegend": true,
         "type": "scatter",
         "x": [
          1,
          2,
          3,
          4,
          5,
          6,
          7,
          8,
          9,
          10,
          11,
          12
         ],
         "xaxis": "x",
         "y": [
          23894.835570655574,
          13882.536542650334,
          103153.38375596562,
          22768.32152686037,
          24449.768248704968,
          31441.80325206848,
          39304.78525350315,
          14559.040126565109,
          22606.534833429567,
          33785.30306372993,
          54416.7960999952,
          61472.54898346767
         ],
         "yaxis": "y"
        },
        {
         "hovertemplate": "Departements=Prix mètre carré Paris 2019<br>Month mutation=%{x}<br>Value=%{y}<extra></extra>",
         "legendgroup": "Prix mètre carré Paris 2019",
         "line": {
          "color": "#21bf73",
          "dash": "solid"
         },
         "marker": {
          "symbol": "circle"
         },
         "mode": "lines",
         "name": "Prix mètre carré Paris 2019",
         "orientation": "v",
         "showlegend": true,
         "type": "scatter",
         "x": [
          1,
          2,
          3,
          4,
          5,
          6,
          7,
          8,
          9,
          10,
          11,
          12
         ],
         "xaxis": "x",
         "y": [
          18778.998140001426,
          14241.910704904092,
          21106.897080588686,
          41231.3878383049,
          51269.18360343972,
          33055.226603071,
          31788.841125041377,
          20051.442184789987,
          53062.32411301676,
          80814.1828220969,
          70173.15969836117,
          135258.18901483167
         ],
         "yaxis": "y"
        },
        {
         "hovertemplate": "Departements=Prix mètre carré Paris 2022<br>Month mutation=%{x}<br>Value=%{y}<extra></extra>",
         "legendgroup": "Prix mètre carré Paris 2022",
         "line": {
          "color": "#fe9801",
          "dash": "solid"
         },
         "marker": {
          "symbol": "circle"
         },
         "mode": "lines",
         "name": "Prix mètre carré Paris 2022",
         "orientation": "v",
         "showlegend": true,
         "type": "scatter",
         "x": [
          1,
          2,
          3,
          4,
          5,
          6,
          7,
          8,
          9,
          10,
          11,
          12
         ],
         "xaxis": "x",
         "y": [
          17823.818524251623,
          75141.75752301916,
          35282.229278550614,
          53800.414692804596,
          19616.622631042264,
          33888.93454069297,
          44407.60592188255,
          22764.01316406927,
          79362.59657811603,
          25398.34286515293,
          46433.39984492321,
          39280.04825213962
         ],
         "yaxis": "y"
        }
       ],
       "layout": {
        "legend": {
         "title": {
          "text": "Departements"
         },
         "tracegroupgap": 0
        },
        "template": {
         "data": {
          "bar": [
           {
            "error_x": {
             "color": "#2a3f5f"
            },
            "error_y": {
             "color": "#2a3f5f"
            },
            "marker": {
             "line": {
              "color": "#E5ECF6",
              "width": 0.5
             },
             "pattern": {
              "fillmode": "overlay",
              "size": 10,
              "solidity": 0.2
             }
            },
            "type": "bar"
           }
          ],
          "barpolar": [
           {
            "marker": {
             "line": {
              "color": "#E5ECF6",
              "width": 0.5
             },
             "pattern": {
              "fillmode": "overlay",
              "size": 10,
              "solidity": 0.2
             }
            },
            "type": "barpolar"
           }
          ],
          "carpet": [
           {
            "aaxis": {
             "endlinecolor": "#2a3f5f",
             "gridcolor": "white",
             "linecolor": "white",
             "minorgridcolor": "white",
             "startlinecolor": "#2a3f5f"
            },
            "baxis": {
             "endlinecolor": "#2a3f5f",
             "gridcolor": "white",
             "linecolor": "white",
             "minorgridcolor": "white",
             "startlinecolor": "#2a3f5f"
            },
            "type": "carpet"
           }
          ],
          "choropleth": [
           {
            "colorbar": {
             "outlinewidth": 0,
             "ticks": ""
            },
            "type": "choropleth"
           }
          ],
          "contour": [
           {
            "colorbar": {
             "outlinewidth": 0,
             "ticks": ""
            },
            "colorscale": [
             [
              0,
              "#0d0887"
             ],
             [
              0.1111111111111111,
              "#46039f"
             ],
             [
              0.2222222222222222,
              "#7201a8"
             ],
             [
              0.3333333333333333,
              "#9c179e"
             ],
             [
              0.4444444444444444,
              "#bd3786"
             ],
             [
              0.5555555555555556,
              "#d8576b"
             ],
             [
              0.6666666666666666,
              "#ed7953"
             ],
             [
              0.7777777777777778,
              "#fb9f3a"
             ],
             [
              0.8888888888888888,
              "#fdca26"
             ],
             [
              1,
              "#f0f921"
             ]
            ],
            "type": "contour"
           }
          ],
          "contourcarpet": [
           {
            "colorbar": {
             "outlinewidth": 0,
             "ticks": ""
            },
            "type": "contourcarpet"
           }
          ],
          "heatmap": [
           {
            "colorbar": {
             "outlinewidth": 0,
             "ticks": ""
            },
            "colorscale": [
             [
              0,
              "#0d0887"
             ],
             [
              0.1111111111111111,
              "#46039f"
             ],
             [
              0.2222222222222222,
              "#7201a8"
             ],
             [
              0.3333333333333333,
              "#9c179e"
             ],
             [
              0.4444444444444444,
              "#bd3786"
             ],
             [
              0.5555555555555556,
              "#d8576b"
             ],
             [
              0.6666666666666666,
              "#ed7953"
             ],
             [
              0.7777777777777778,
              "#fb9f3a"
             ],
             [
              0.8888888888888888,
              "#fdca26"
             ],
             [
              1,
              "#f0f921"
             ]
            ],
            "type": "heatmap"
           }
          ],
          "heatmapgl": [
           {
            "colorbar": {
             "outlinewidth": 0,
             "ticks": ""
            },
            "colorscale": [
             [
              0,
              "#0d0887"
             ],
             [
              0.1111111111111111,
              "#46039f"
             ],
             [
              0.2222222222222222,
              "#7201a8"
             ],
             [
              0.3333333333333333,
              "#9c179e"
             ],
             [
              0.4444444444444444,
              "#bd3786"
             ],
             [
              0.5555555555555556,
              "#d8576b"
             ],
             [
              0.6666666666666666,
              "#ed7953"
             ],
             [
              0.7777777777777778,
              "#fb9f3a"
             ],
             [
              0.8888888888888888,
              "#fdca26"
             ],
             [
              1,
              "#f0f921"
             ]
            ],
            "type": "heatmapgl"
           }
          ],
          "histogram": [
           {
            "marker": {
             "pattern": {
              "fillmode": "overlay",
              "size": 10,
              "solidity": 0.2
             }
            },
            "type": "histogram"
           }
          ],
          "histogram2d": [
           {
            "colorbar": {
             "outlinewidth": 0,
             "ticks": ""
            },
            "colorscale": [
             [
              0,
              "#0d0887"
             ],
             [
              0.1111111111111111,
              "#46039f"
             ],
             [
              0.2222222222222222,
              "#7201a8"
             ],
             [
              0.3333333333333333,
              "#9c179e"
             ],
             [
              0.4444444444444444,
              "#bd3786"
             ],
             [
              0.5555555555555556,
              "#d8576b"
             ],
             [
              0.6666666666666666,
              "#ed7953"
             ],
             [
              0.7777777777777778,
              "#fb9f3a"
             ],
             [
              0.8888888888888888,
              "#fdca26"
             ],
             [
              1,
              "#f0f921"
             ]
            ],
            "type": "histogram2d"
           }
          ],
          "histogram2dcontour": [
           {
            "colorbar": {
             "outlinewidth": 0,
             "ticks": ""
            },
            "colorscale": [
             [
              0,
              "#0d0887"
             ],
             [
              0.1111111111111111,
              "#46039f"
             ],
             [
              0.2222222222222222,
              "#7201a8"
             ],
             [
              0.3333333333333333,
              "#9c179e"
             ],
             [
              0.4444444444444444,
              "#bd3786"
             ],
             [
              0.5555555555555556,
              "#d8576b"
             ],
             [
              0.6666666666666666,
              "#ed7953"
             ],
             [
              0.7777777777777778,
              "#fb9f3a"
             ],
             [
              0.8888888888888888,
              "#fdca26"
             ],
             [
              1,
              "#f0f921"
             ]
            ],
            "type": "histogram2dcontour"
           }
          ],
          "mesh3d": [
           {
            "colorbar": {
             "outlinewidth": 0,
             "ticks": ""
            },
            "type": "mesh3d"
           }
          ],
          "parcoords": [
           {
            "line": {
             "colorbar": {
              "outlinewidth": 0,
              "ticks": ""
             }
            },
            "type": "parcoords"
           }
          ],
          "pie": [
           {
            "automargin": true,
            "type": "pie"
           }
          ],
          "scatter": [
           {
            "fillpattern": {
             "fillmode": "overlay",
             "size": 10,
             "solidity": 0.2
            },
            "type": "scatter"
           }
          ],
          "scatter3d": [
           {
            "line": {
             "colorbar": {
              "outlinewidth": 0,
              "ticks": ""
             }
            },
            "marker": {
             "colorbar": {
              "outlinewidth": 0,
              "ticks": ""
             }
            },
            "type": "scatter3d"
           }
          ],
          "scattercarpet": [
           {
            "marker": {
             "colorbar": {
              "outlinewidth": 0,
              "ticks": ""
             }
            },
            "type": "scattercarpet"
           }
          ],
          "scattergeo": [
           {
            "marker": {
             "colorbar": {
              "outlinewidth": 0,
              "ticks": ""
             }
            },
            "type": "scattergeo"
           }
          ],
          "scattergl": [
           {
            "marker": {
             "colorbar": {
              "outlinewidth": 0,
              "ticks": ""
             }
            },
            "type": "scattergl"
           }
          ],
          "scattermapbox": [
           {
            "marker": {
             "colorbar": {
              "outlinewidth": 0,
              "ticks": ""
             }
            },
            "type": "scattermapbox"
           }
          ],
          "scatterpolar": [
           {
            "marker": {
             "colorbar": {
              "outlinewidth": 0,
              "ticks": ""
             }
            },
            "type": "scatterpolar"
           }
          ],
          "scatterpolargl": [
           {
            "marker": {
             "colorbar": {
              "outlinewidth": 0,
              "ticks": ""
             }
            },
            "type": "scatterpolargl"
           }
          ],
          "scatterternary": [
           {
            "marker": {
             "colorbar": {
              "outlinewidth": 0,
              "ticks": ""
             }
            },
            "type": "scatterternary"
           }
          ],
          "surface": [
           {
            "colorbar": {
             "outlinewidth": 0,
             "ticks": ""
            },
            "colorscale": [
             [
              0,
              "#0d0887"
             ],
             [
              0.1111111111111111,
              "#46039f"
             ],
             [
              0.2222222222222222,
              "#7201a8"
             ],
             [
              0.3333333333333333,
              "#9c179e"
             ],
             [
              0.4444444444444444,
              "#bd3786"
             ],
             [
              0.5555555555555556,
              "#d8576b"
             ],
             [
              0.6666666666666666,
              "#ed7953"
             ],
             [
              0.7777777777777778,
              "#fb9f3a"
             ],
             [
              0.8888888888888888,
              "#fdca26"
             ],
             [
              1,
              "#f0f921"
             ]
            ],
            "type": "surface"
           }
          ],
          "table": [
           {
            "cells": {
             "fill": {
              "color": "#EBF0F8"
             },
             "line": {
              "color": "white"
             }
            },
            "header": {
             "fill": {
              "color": "#C8D4E3"
             },
             "line": {
              "color": "white"
             }
            },
            "type": "table"
           }
          ]
         },
         "layout": {
          "annotationdefaults": {
           "arrowcolor": "#2a3f5f",
           "arrowhead": 0,
           "arrowwidth": 1
          },
          "autotypenumbers": "strict",
          "coloraxis": {
           "colorbar": {
            "outlinewidth": 0,
            "ticks": ""
           }
          },
          "colorscale": {
           "diverging": [
            [
             0,
             "#8e0152"
            ],
            [
             0.1,
             "#c51b7d"
            ],
            [
             0.2,
             "#de77ae"
            ],
            [
             0.3,
             "#f1b6da"
            ],
            [
             0.4,
             "#fde0ef"
            ],
            [
             0.5,
             "#f7f7f7"
            ],
            [
             0.6,
             "#e6f5d0"
            ],
            [
             0.7,
             "#b8e186"
            ],
            [
             0.8,
             "#7fbc41"
            ],
            [
             0.9,
             "#4d9221"
            ],
            [
             1,
             "#276419"
            ]
           ],
           "sequential": [
            [
             0,
             "#0d0887"
            ],
            [
             0.1111111111111111,
             "#46039f"
            ],
            [
             0.2222222222222222,
             "#7201a8"
            ],
            [
             0.3333333333333333,
             "#9c179e"
            ],
            [
             0.4444444444444444,
             "#bd3786"
            ],
            [
             0.5555555555555556,
             "#d8576b"
            ],
            [
             0.6666666666666666,
             "#ed7953"
            ],
            [
             0.7777777777777778,
             "#fb9f3a"
            ],
            [
             0.8888888888888888,
             "#fdca26"
            ],
            [
             1,
             "#f0f921"
            ]
           ],
           "sequentialminus": [
            [
             0,
             "#0d0887"
            ],
            [
             0.1111111111111111,
             "#46039f"
            ],
            [
             0.2222222222222222,
             "#7201a8"
            ],
            [
             0.3333333333333333,
             "#9c179e"
            ],
            [
             0.4444444444444444,
             "#bd3786"
            ],
            [
             0.5555555555555556,
             "#d8576b"
            ],
            [
             0.6666666666666666,
             "#ed7953"
            ],
            [
             0.7777777777777778,
             "#fb9f3a"
            ],
            [
             0.8888888888888888,
             "#fdca26"
            ],
            [
             1,
             "#f0f921"
            ]
           ]
          },
          "colorway": [
           "#636efa",
           "#EF553B",
           "#00cc96",
           "#ab63fa",
           "#FFA15A",
           "#19d3f3",
           "#FF6692",
           "#B6E880",
           "#FF97FF",
           "#FECB52"
          ],
          "font": {
           "color": "#2a3f5f"
          },
          "geo": {
           "bgcolor": "white",
           "lakecolor": "white",
           "landcolor": "#E5ECF6",
           "showlakes": true,
           "showland": true,
           "subunitcolor": "white"
          },
          "hoverlabel": {
           "align": "left"
          },
          "hovermode": "closest",
          "mapbox": {
           "style": "light"
          },
          "paper_bgcolor": "white",
          "plot_bgcolor": "#E5ECF6",
          "polar": {
           "angularaxis": {
            "gridcolor": "white",
            "linecolor": "white",
            "ticks": ""
           },
           "bgcolor": "#E5ECF6",
           "radialaxis": {
            "gridcolor": "white",
            "linecolor": "white",
            "ticks": ""
           }
          },
          "scene": {
           "xaxis": {
            "backgroundcolor": "#E5ECF6",
            "gridcolor": "white",
            "gridwidth": 2,
            "linecolor": "white",
            "showbackground": true,
            "ticks": "",
            "zerolinecolor": "white"
           },
           "yaxis": {
            "backgroundcolor": "#E5ECF6",
            "gridcolor": "white",
            "gridwidth": 2,
            "linecolor": "white",
            "showbackground": true,
            "ticks": "",
            "zerolinecolor": "white"
           },
           "zaxis": {
            "backgroundcolor": "#E5ECF6",
            "gridcolor": "white",
            "gridwidth": 2,
            "linecolor": "white",
            "showbackground": true,
            "ticks": "",
            "zerolinecolor": "white"
           }
          },
          "shapedefaults": {
           "line": {
            "color": "#2a3f5f"
           }
          },
          "ternary": {
           "aaxis": {
            "gridcolor": "white",
            "linecolor": "white",
            "ticks": ""
           },
           "baxis": {
            "gridcolor": "white",
            "linecolor": "white",
            "ticks": ""
           },
           "bgcolor": "#E5ECF6",
           "caxis": {
            "gridcolor": "white",
            "linecolor": "white",
            "ticks": ""
           }
          },
          "title": {
           "x": 0.05
          },
          "xaxis": {
           "automargin": true,
           "gridcolor": "white",
           "linecolor": "white",
           "ticks": "",
           "title": {
            "standoff": 15
           },
           "zerolinecolor": "white",
           "zerolinewidth": 2
          },
          "yaxis": {
           "automargin": true,
           "gridcolor": "white",
           "linecolor": "white",
           "ticks": "",
           "title": {
            "standoff": 15
           },
           "zerolinecolor": "white",
           "zerolinewidth": 2
          }
         }
        },
        "title": {
         "text": "Evolution du prix du mètre carré à paris depuis 2018"
        },
        "xaxis": {
         "anchor": "y",
         "domain": [
          0,
          1
         ],
         "title": {
          "text": "Month mutation"
         }
        },
        "yaxis": {
         "anchor": "x",
         "domain": [
          0,
          1
         ],
         "title": {
          "text": "Value"
         },
         "type": "log"
        }
       }
      },
      "text/html": [
       "<div>                            <div id=\"ca56de43-75fb-4412-81cb-8de8f9515cda\" class=\"plotly-graph-div\" style=\"height:525px; width:100%;\"></div>            <script type=\"text/javascript\">                require([\"plotly\"], function(Plotly) {                    window.PLOTLYENV=window.PLOTLYENV || {};                                    if (document.getElementById(\"ca56de43-75fb-4412-81cb-8de8f9515cda\")) {                    Plotly.newPlot(                        \"ca56de43-75fb-4412-81cb-8de8f9515cda\",                        [{\"hovertemplate\":\"Departements=Prix m\\u00e8tre carr\\u00e9 Paris 2018<br>Month mutation=%{x}<br>Value=%{y}<extra></extra>\",\"legendgroup\":\"Prix m\\u00e8tre carr\\u00e9 Paris 2018\",\"line\":{\"color\":\"#ff2e63\",\"dash\":\"solid\"},\"marker\":{\"symbol\":\"circle\"},\"mode\":\"lines\",\"name\":\"Prix m\\u00e8tre carr\\u00e9 Paris 2018\",\"orientation\":\"v\",\"showlegend\":true,\"x\":[1,2,3,4,5,6,7,8,9,10,11,12],\"xaxis\":\"x\",\"y\":[23894.835570655574,13882.536542650334,103153.38375596562,22768.32152686037,24449.768248704968,31441.80325206848,39304.78525350315,14559.040126565109,22606.534833429567,33785.30306372993,54416.7960999952,61472.54898346767],\"yaxis\":\"y\",\"type\":\"scatter\"},{\"hovertemplate\":\"Departements=Prix m\\u00e8tre carr\\u00e9 Paris 2019<br>Month mutation=%{x}<br>Value=%{y}<extra></extra>\",\"legendgroup\":\"Prix m\\u00e8tre carr\\u00e9 Paris 2019\",\"line\":{\"color\":\"#21bf73\",\"dash\":\"solid\"},\"marker\":{\"symbol\":\"circle\"},\"mode\":\"lines\",\"name\":\"Prix m\\u00e8tre carr\\u00e9 Paris 2019\",\"orientation\":\"v\",\"showlegend\":true,\"x\":[1,2,3,4,5,6,7,8,9,10,11,12],\"xaxis\":\"x\",\"y\":[18778.998140001426,14241.910704904092,21106.897080588686,41231.3878383049,51269.18360343972,33055.226603071,31788.841125041377,20051.442184789987,53062.32411301676,80814.1828220969,70173.15969836117,135258.18901483167],\"yaxis\":\"y\",\"type\":\"scatter\"},{\"hovertemplate\":\"Departements=Prix m\\u00e8tre carr\\u00e9 Paris 2022<br>Month mutation=%{x}<br>Value=%{y}<extra></extra>\",\"legendgroup\":\"Prix m\\u00e8tre carr\\u00e9 Paris 2022\",\"line\":{\"color\":\"#fe9801\",\"dash\":\"solid\"},\"marker\":{\"symbol\":\"circle\"},\"mode\":\"lines\",\"name\":\"Prix m\\u00e8tre carr\\u00e9 Paris 2022\",\"orientation\":\"v\",\"showlegend\":true,\"x\":[1,2,3,4,5,6,7,8,9,10,11,12],\"xaxis\":\"x\",\"y\":[17823.818524251623,75141.75752301916,35282.229278550614,53800.414692804596,19616.622631042264,33888.93454069297,44407.60592188255,22764.01316406927,79362.59657811603,25398.34286515293,46433.39984492321,39280.04825213962],\"yaxis\":\"y\",\"type\":\"scatter\"}],                        {\"template\":{\"data\":{\"histogram2dcontour\":[{\"type\":\"histogram2dcontour\",\"colorbar\":{\"outlinewidth\":0,\"ticks\":\"\"},\"colorscale\":[[0.0,\"#0d0887\"],[0.1111111111111111,\"#46039f\"],[0.2222222222222222,\"#7201a8\"],[0.3333333333333333,\"#9c179e\"],[0.4444444444444444,\"#bd3786\"],[0.5555555555555556,\"#d8576b\"],[0.6666666666666666,\"#ed7953\"],[0.7777777777777778,\"#fb9f3a\"],[0.8888888888888888,\"#fdca26\"],[1.0,\"#f0f921\"]]}],\"choropleth\":[{\"type\":\"choropleth\",\"colorbar\":{\"outlinewidth\":0,\"ticks\":\"\"}}],\"histogram2d\":[{\"type\":\"histogram2d\",\"colorbar\":{\"outlinewidth\":0,\"ticks\":\"\"},\"colorscale\":[[0.0,\"#0d0887\"],[0.1111111111111111,\"#46039f\"],[0.2222222222222222,\"#7201a8\"],[0.3333333333333333,\"#9c179e\"],[0.4444444444444444,\"#bd3786\"],[0.5555555555555556,\"#d8576b\"],[0.6666666666666666,\"#ed7953\"],[0.7777777777777778,\"#fb9f3a\"],[0.8888888888888888,\"#fdca26\"],[1.0,\"#f0f921\"]]}],\"heatmap\":[{\"type\":\"heatmap\",\"colorbar\":{\"outlinewidth\":0,\"ticks\":\"\"},\"colorscale\":[[0.0,\"#0d0887\"],[0.1111111111111111,\"#46039f\"],[0.2222222222222222,\"#7201a8\"],[0.3333333333333333,\"#9c179e\"],[0.4444444444444444,\"#bd3786\"],[0.5555555555555556,\"#d8576b\"],[0.6666666666666666,\"#ed7953\"],[0.7777777777777778,\"#fb9f3a\"],[0.8888888888888888,\"#fdca26\"],[1.0,\"#f0f921\"]]}],\"heatmapgl\":[{\"type\":\"heatmapgl\",\"colorbar\":{\"outlinewidth\":0,\"ticks\":\"\"},\"colorscale\":[[0.0,\"#0d0887\"],[0.1111111111111111,\"#46039f\"],[0.2222222222222222,\"#7201a8\"],[0.3333333333333333,\"#9c179e\"],[0.4444444444444444,\"#bd3786\"],[0.5555555555555556,\"#d8576b\"],[0.6666666666666666,\"#ed7953\"],[0.7777777777777778,\"#fb9f3a\"],[0.8888888888888888,\"#fdca26\"],[1.0,\"#f0f921\"]]}],\"contourcarpet\":[{\"type\":\"contourcarpet\",\"colorbar\":{\"outlinewidth\":0,\"ticks\":\"\"}}],\"contour\":[{\"type\":\"contour\",\"colorbar\":{\"outlinewidth\":0,\"ticks\":\"\"},\"colorscale\":[[0.0,\"#0d0887\"],[0.1111111111111111,\"#46039f\"],[0.2222222222222222,\"#7201a8\"],[0.3333333333333333,\"#9c179e\"],[0.4444444444444444,\"#bd3786\"],[0.5555555555555556,\"#d8576b\"],[0.6666666666666666,\"#ed7953\"],[0.7777777777777778,\"#fb9f3a\"],[0.8888888888888888,\"#fdca26\"],[1.0,\"#f0f921\"]]}],\"surface\":[{\"type\":\"surface\",\"colorbar\":{\"outlinewidth\":0,\"ticks\":\"\"},\"colorscale\":[[0.0,\"#0d0887\"],[0.1111111111111111,\"#46039f\"],[0.2222222222222222,\"#7201a8\"],[0.3333333333333333,\"#9c179e\"],[0.4444444444444444,\"#bd3786\"],[0.5555555555555556,\"#d8576b\"],[0.6666666666666666,\"#ed7953\"],[0.7777777777777778,\"#fb9f3a\"],[0.8888888888888888,\"#fdca26\"],[1.0,\"#f0f921\"]]}],\"mesh3d\":[{\"type\":\"mesh3d\",\"colorbar\":{\"outlinewidth\":0,\"ticks\":\"\"}}],\"scatter\":[{\"fillpattern\":{\"fillmode\":\"overlay\",\"size\":10,\"solidity\":0.2},\"type\":\"scatter\"}],\"parcoords\":[{\"type\":\"parcoords\",\"line\":{\"colorbar\":{\"outlinewidth\":0,\"ticks\":\"\"}}}],\"scatterpolargl\":[{\"type\":\"scatterpolargl\",\"marker\":{\"colorbar\":{\"outlinewidth\":0,\"ticks\":\"\"}}}],\"bar\":[{\"error_x\":{\"color\":\"#2a3f5f\"},\"error_y\":{\"color\":\"#2a3f5f\"},\"marker\":{\"line\":{\"color\":\"#E5ECF6\",\"width\":0.5},\"pattern\":{\"fillmode\":\"overlay\",\"size\":10,\"solidity\":0.2}},\"type\":\"bar\"}],\"scattergeo\":[{\"type\":\"scattergeo\",\"marker\":{\"colorbar\":{\"outlinewidth\":0,\"ticks\":\"\"}}}],\"scatterpolar\":[{\"type\":\"scatterpolar\",\"marker\":{\"colorbar\":{\"outlinewidth\":0,\"ticks\":\"\"}}}],\"histogram\":[{\"marker\":{\"pattern\":{\"fillmode\":\"overlay\",\"size\":10,\"solidity\":0.2}},\"type\":\"histogram\"}],\"scattergl\":[{\"type\":\"scattergl\",\"marker\":{\"colorbar\":{\"outlinewidth\":0,\"ticks\":\"\"}}}],\"scatter3d\":[{\"type\":\"scatter3d\",\"line\":{\"colorbar\":{\"outlinewidth\":0,\"ticks\":\"\"}},\"marker\":{\"colorbar\":{\"outlinewidth\":0,\"ticks\":\"\"}}}],\"scattermapbox\":[{\"type\":\"scattermapbox\",\"marker\":{\"colorbar\":{\"outlinewidth\":0,\"ticks\":\"\"}}}],\"scatterternary\":[{\"type\":\"scatterternary\",\"marker\":{\"colorbar\":{\"outlinewidth\":0,\"ticks\":\"\"}}}],\"scattercarpet\":[{\"type\":\"scattercarpet\",\"marker\":{\"colorbar\":{\"outlinewidth\":0,\"ticks\":\"\"}}}],\"carpet\":[{\"aaxis\":{\"endlinecolor\":\"#2a3f5f\",\"gridcolor\":\"white\",\"linecolor\":\"white\",\"minorgridcolor\":\"white\",\"startlinecolor\":\"#2a3f5f\"},\"baxis\":{\"endlinecolor\":\"#2a3f5f\",\"gridcolor\":\"white\",\"linecolor\":\"white\",\"minorgridcolor\":\"white\",\"startlinecolor\":\"#2a3f5f\"},\"type\":\"carpet\"}],\"table\":[{\"cells\":{\"fill\":{\"color\":\"#EBF0F8\"},\"line\":{\"color\":\"white\"}},\"header\":{\"fill\":{\"color\":\"#C8D4E3\"},\"line\":{\"color\":\"white\"}},\"type\":\"table\"}],\"barpolar\":[{\"marker\":{\"line\":{\"color\":\"#E5ECF6\",\"width\":0.5},\"pattern\":{\"fillmode\":\"overlay\",\"size\":10,\"solidity\":0.2}},\"type\":\"barpolar\"}],\"pie\":[{\"automargin\":true,\"type\":\"pie\"}]},\"layout\":{\"autotypenumbers\":\"strict\",\"colorway\":[\"#636efa\",\"#EF553B\",\"#00cc96\",\"#ab63fa\",\"#FFA15A\",\"#19d3f3\",\"#FF6692\",\"#B6E880\",\"#FF97FF\",\"#FECB52\"],\"font\":{\"color\":\"#2a3f5f\"},\"hovermode\":\"closest\",\"hoverlabel\":{\"align\":\"left\"},\"paper_bgcolor\":\"white\",\"plot_bgcolor\":\"#E5ECF6\",\"polar\":{\"bgcolor\":\"#E5ECF6\",\"angularaxis\":{\"gridcolor\":\"white\",\"linecolor\":\"white\",\"ticks\":\"\"},\"radialaxis\":{\"gridcolor\":\"white\",\"linecolor\":\"white\",\"ticks\":\"\"}},\"ternary\":{\"bgcolor\":\"#E5ECF6\",\"aaxis\":{\"gridcolor\":\"white\",\"linecolor\":\"white\",\"ticks\":\"\"},\"baxis\":{\"gridcolor\":\"white\",\"linecolor\":\"white\",\"ticks\":\"\"},\"caxis\":{\"gridcolor\":\"white\",\"linecolor\":\"white\",\"ticks\":\"\"}},\"coloraxis\":{\"colorbar\":{\"outlinewidth\":0,\"ticks\":\"\"}},\"colorscale\":{\"sequential\":[[0.0,\"#0d0887\"],[0.1111111111111111,\"#46039f\"],[0.2222222222222222,\"#7201a8\"],[0.3333333333333333,\"#9c179e\"],[0.4444444444444444,\"#bd3786\"],[0.5555555555555556,\"#d8576b\"],[0.6666666666666666,\"#ed7953\"],[0.7777777777777778,\"#fb9f3a\"],[0.8888888888888888,\"#fdca26\"],[1.0,\"#f0f921\"]],\"sequentialminus\":[[0.0,\"#0d0887\"],[0.1111111111111111,\"#46039f\"],[0.2222222222222222,\"#7201a8\"],[0.3333333333333333,\"#9c179e\"],[0.4444444444444444,\"#bd3786\"],[0.5555555555555556,\"#d8576b\"],[0.6666666666666666,\"#ed7953\"],[0.7777777777777778,\"#fb9f3a\"],[0.8888888888888888,\"#fdca26\"],[1.0,\"#f0f921\"]],\"diverging\":[[0,\"#8e0152\"],[0.1,\"#c51b7d\"],[0.2,\"#de77ae\"],[0.3,\"#f1b6da\"],[0.4,\"#fde0ef\"],[0.5,\"#f7f7f7\"],[0.6,\"#e6f5d0\"],[0.7,\"#b8e186\"],[0.8,\"#7fbc41\"],[0.9,\"#4d9221\"],[1,\"#276419\"]]},\"xaxis\":{\"gridcolor\":\"white\",\"linecolor\":\"white\",\"ticks\":\"\",\"title\":{\"standoff\":15},\"zerolinecolor\":\"white\",\"automargin\":true,\"zerolinewidth\":2},\"yaxis\":{\"gridcolor\":\"white\",\"linecolor\":\"white\",\"ticks\":\"\",\"title\":{\"standoff\":15},\"zerolinecolor\":\"white\",\"automargin\":true,\"zerolinewidth\":2},\"scene\":{\"xaxis\":{\"backgroundcolor\":\"#E5ECF6\",\"gridcolor\":\"white\",\"linecolor\":\"white\",\"showbackground\":true,\"ticks\":\"\",\"zerolinecolor\":\"white\",\"gridwidth\":2},\"yaxis\":{\"backgroundcolor\":\"#E5ECF6\",\"gridcolor\":\"white\",\"linecolor\":\"white\",\"showbackground\":true,\"ticks\":\"\",\"zerolinecolor\":\"white\",\"gridwidth\":2},\"zaxis\":{\"backgroundcolor\":\"#E5ECF6\",\"gridcolor\":\"white\",\"linecolor\":\"white\",\"showbackground\":true,\"ticks\":\"\",\"zerolinecolor\":\"white\",\"gridwidth\":2}},\"shapedefaults\":{\"line\":{\"color\":\"#2a3f5f\"}},\"annotationdefaults\":{\"arrowcolor\":\"#2a3f5f\",\"arrowhead\":0,\"arrowwidth\":1},\"geo\":{\"bgcolor\":\"white\",\"landcolor\":\"#E5ECF6\",\"subunitcolor\":\"white\",\"showland\":true,\"showlakes\":true,\"lakecolor\":\"white\"},\"title\":{\"x\":0.05},\"mapbox\":{\"style\":\"light\"}}},\"xaxis\":{\"anchor\":\"y\",\"domain\":[0.0,1.0],\"title\":{\"text\":\"Month mutation\"}},\"yaxis\":{\"anchor\":\"x\",\"domain\":[0.0,1.0],\"title\":{\"text\":\"Value\"},\"type\":\"log\"},\"legend\":{\"title\":{\"text\":\"Departements\"},\"tracegroupgap\":0},\"title\":{\"text\":\"Evolution du prix du m\\u00e8tre carr\\u00e9 \\u00e0 paris depuis 2018\"}},                        {\"responsive\": true}                    ).then(function(){\n",
       "                            \n",
       "var gd = document.getElementById('ca56de43-75fb-4412-81cb-8de8f9515cda');\n",
       "var x = new MutationObserver(function (mutations, observer) {{\n",
       "        var display = window.getComputedStyle(gd).display;\n",
       "        if (!display || display === 'none') {{\n",
       "            console.log([gd, 'removed!']);\n",
       "            Plotly.purge(gd);\n",
       "            observer.disconnect();\n",
       "        }}\n",
       "}});\n",
       "\n",
       "// Listen for the removal of the full notebook cells\n",
       "var notebookContainer = gd.closest('#notebook-container');\n",
       "if (notebookContainer) {{\n",
       "    x.observe(notebookContainer, {childList: true});\n",
       "}}\n",
       "\n",
       "// Listen for the clearing of the current output cell\n",
       "var outputEl = gd.closest('.output');\n",
       "if (outputEl) {{\n",
       "    x.observe(outputEl, {childList: true});\n",
       "}}\n",
       "\n",
       "                        })                };                });            </script>        </div>"
      ]
     },
     "metadata": {},
     "output_type": "display_data"
    }
   ],
   "source": [
    "temp = data[(data[\"Type local\"] != \"Dépendance\")& (data[\"Type local\"] != \"Local industriel. commercial ou assimilé\")].reset_index(drop = True)\n",
    "temp[\"Month mutation\"] = temp[\"Date mutation\"].dt.month\n",
    "\n",
    "temp['Prix mètre carré Paris 2018'] = temp[(temp[\"Code departement\"] == '75')&(temp[\"Date mutation\"].dt.year == 2018)][\"Valeur fonciere\"]/temp[(temp[\"Code departement\"] == '75')&(temp[\"Date mutation\"].dt.year == 2018)][\"Surface reelle bati\"]\n",
    "temp['Prix mètre carré Paris 2019'] = temp[(temp[\"Code departement\"] == '75')&(temp[\"Date mutation\"].dt.year == 2019)][\"Valeur fonciere\"]/temp[(temp[\"Code departement\"] == '75')&(temp[\"Date mutation\"].dt.year == 2019)][\"Surface reelle bati\"]\n",
    "temp['Prix mètre carré Paris 2022'] = temp[(temp[\"Code departement\"] == '75')&(temp[\"Date mutation\"].dt.year == 2022)][\"Valeur fonciere\"]/temp[(temp[\"Code departement\"] == '75')&(temp[\"Date mutation\"].dt.year == 2022)][\"Surface reelle bati\"]\n",
    "\n",
    "temp =temp.replace(np.inf, np.nan)\n",
    "display(temp['Prix mètre carré Paris 2018'].mean())\n",
    "display(temp)\n",
    "\n",
    "# temp['No. of Recovered to 1 Death Case'] = round(temp['Recovered']/temp['Deaths'], 3)\n",
    "temp = temp.groupby('Month mutation')[\"Prix mètre carré Paris 2018\",\"Prix mètre carré Paris 2019\",\"Prix mètre carré Paris 2022\"].mean().reset_index()\n",
    "\n",
    "temp = temp.melt(id_vars='Month mutation', value_vars=['Prix mètre carré Paris 2018','Prix mètre carré Paris 2019','Prix mètre carré Paris 2022'], \n",
    "                 var_name='Departements', value_name='Value')\n",
    "\n",
    "fig = px.line(temp, x=\"Month mutation\", y=\"Value\", color='Departements', log_y=True, \n",
    "              title='Evolution du prix du mètre carré à paris depuis 2018', color_discrete_sequence=[dth, rec,act])\n",
    "fig.show()\n",
    "\n"
   ]
  }
 ],
 "metadata": {
  "kernelspec": {
   "display_name": "Python 3 (ipykernel)",
   "language": "python",
   "name": "python3"
  },
  "language_info": {
   "codemirror_mode": {
    "name": "ipython",
    "version": 3
   },
   "file_extension": ".py",
   "mimetype": "text/x-python",
   "name": "python",
   "nbconvert_exporter": "python",
   "pygments_lexer": "ipython3",
   "version": "3.9.7"
  }
 },
 "nbformat": 4,
 "nbformat_minor": 2
}
