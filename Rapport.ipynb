{
 "cells": [
  {
   "attachments": {},
   "cell_type": "markdown",
   "id": "db6a14c3",
   "metadata": {},
   "source": [
    "# Rapport du Projet Python\n",
    "\n",
    "auteur :\n",
    "\n",
    "- Guillaume Dorschner\n",
    "- Louis Anne\n",
    "- Valentin Grateau"
   ]
  },
  {
   "attachments": {},
   "cell_type": "markdown",
   "id": "b5270ea7",
   "metadata": {},
   "source": [
    "# Getting Started\n",
    "\n",
    "## Prérequis\n",
    "\n",
    "Au démarrage il faut installer les dépendances du projet. Pour cela il faut exécuter la commande suivante:\n",
    "\n",
    "```bash\n",
    "pip install -r requirements.txt\n",
    "```\n",
    "\n",
    "## Exécution du code\n",
    "\n",
    "Pour lancer le server, il faut exécuter le fichier `mange.py` avec la commande suivante:\n",
    "\n",
    "```bash\n",
    "python manage.py runserver\n",
    "```"
   ]
  },
  {
   "attachments": {},
   "cell_type": "markdown",
   "id": "7ef293a5",
   "metadata": {},
   "source": [
    "## Ratio contribution\n",
    "\n",
    "Guillaume : Django 75% |  Traitement des données 0% | Analyse des données/Graphes  15% | Rapport 30%\n",
    "\n",
    "Louis : Django 25% |  Traitement des données  10% | Analyse des données/Graphes 20% | Rapport 50%\n",
    "\n",
    "Valentin : Django  0% |  Traitement des données  90% | Analyse des données/Graphes  65% | Rapport 20%\n"
   ]
  },
  {
   "attachments": {},
   "cell_type": "markdown",
   "id": "42064186",
   "metadata": {},
   "source": [
    "## Avancement et difficultés\n",
    "\n",
    "### Traitement des données\n",
    "\n",
    "Lors de la lecture des données, la première chose à faire est de convertir aux bons types les valeurs donc la colonne « Date mutation » en DateTime ainsi que toutes les autres valeurs en float64. Ensuite on passe à l’analyse et au nettoyage. On utilise donc set_option('display.max_columns') afin de pouvoir observer toutes les colonnes en mêmes temps. On regarde ensuite quelles valeurs sont grandement manquante afin de les supprimer. Une fois les colonnes sélectionnées selon nos critères qui étaient le nombre de valeurs nulles, si la même valeur se répétait ou encore si nous ne comptions pas apporter d’importance à cette variable dans nos analyses. Notre DataFrame comporte donc 24 colonnes au lieu de 43 au départ. Enfin, nous nous sommes aperçus que des valeurs complètement incohérentes dans le département de Paris existaient et faussaient notre calcul du prix moyen du mètre carré. Nous avons donc supprimé de nos données celles qui dépassaient 100 000 000 euros de valeur foncière et qui n’avaient pas de « Type local ». Nous exportons donc au format csv ces DataFrame traitées afin de faire nos analyses. \n",
    "\n",
    "### Analyse des données/Graphes\n",
    "\n",
    "Concernant les analyses, nous avons décidé de faire des graphes assez diversifiés afin que la personne cherchant à en tirer une analyse puisse avoir plusieurs visualisations possibles et que cela lui permette donc de mieux observer ce qu’elle souhaite. La valeur la plus courante étant le prix du mètre carré, au début nous avions commis l’erreur de choix de calculer cette valeur avec la surface réelle bâti au lieu de la surface Carrez. Nous avons donc ensuite calculé cette valeur avec cette surface Carrez quand cela était possible. Cependant, certaines valeurs restent beaucoup trop grandes et c’est donc pour cela que nous avons décidé de supprimer dans certains graphes les valeurs du prix du mètre carré au-delà de 25 000 euros. Nous avons ensuite réalisé en utilisant ou non cette méthode afin de voir la différence de résultat que nous pouvions avoir sur les graphes représentant cette valeur du prix du mètre carré. Certains graphes ont des valeurs que nous savons fausses et c'est volontaire de les avoir laissé afin de montrer l'évolution de notre analyse des données au fur et à mesure des graphes que nous avons réalisés. Comme par exemple avec les deux cartes représentant le prix du mètre carré par départements. La première possède des valeurs faites avec la surface réelle bati et les valeurs trop grandes n'ont pas été retirées. Tandis que dans le second graphes, les valeurs sont calculées avec la surface Carrez si possible sinon avec la surface réelle bati et les valeurs beaucoup trop grandes pour être correctes ont été supprimées afin d'avoir une réelle observation. \n",
    "\n",
    "### Réalisation du site en Django \n",
    "\n",
    "Au démarrage, le serveur charge toutes les données nécessaires en mémoire. Cela peut prendre un certain temps en fonction de la taille des données. C'est une étape essentielle pour garantir des temps de réponse rapides lorsque les utilisateurs demandent des graphiques ou des analyses.\n",
    "Ensuite, nous avons qui représente le REST du server. Chaque vue est responsable de traiter une demande HTTP. Les fonctions index / about / analyse_intra / analyse_inter affiche les pages / template html. Mais y il a aussi get_graph qui permet d’afficher les graphs. Pour rendre les interactions utilisateur plus fluides et éviter que le client attend une pages longtemps, le serveur envoye la pages, puis recuppe les graphique petit à petit avec Ajax. Cette approche permet à l'utilisateur de continuer à interagir avec la page pendant que les graphiques sont chargés, évitant ainsi une attente prolongée et améliorant l'expérience utilisateur globale.\n",
    "Nous utilisons a bibliothèque mpld3 pour convertir les graphiques Matplotlib en HTML."
   ]
  },
  {
   "attachments": {},
   "cell_type": "markdown",
   "id": "07795fdf",
   "metadata": {},
   "source": [
    "# Traitement des données\n",
    "\n",
    "## Import\n",
    "\n",
    "#Plotly\n",
    "#!pip install plotly "
   ]
  },
  {
   "cell_type": "code",
   "execution_count": null,
   "id": "a7feb0a7",
   "metadata": {},
   "outputs": [],
   "source": [
    "import pandas as pd\n",
    "import numpy as np\n",
    "import re\n",
    "import datetime\n",
    "import folium\n",
    "import random\n",
    "import json\n",
    "from datetime import timedelta\n",
    "from urllib.request import urlopen\n",
    "import numpy as np\n",
    "import pandas as pd\n",
    "from plotly.offline import plot, iplot, init_notebook_mode\n",
    "init_notebook_mode(connected=True)\n",
    "import warnings\n",
    "warnings.filterwarnings('ignore')"
   ]
  },
  {
   "attachments": {},
   "cell_type": "markdown",
   "id": "ea95fd08",
   "metadata": {},
   "source": [
    "## Extraction of data"
   ]
  },
  {
   "cell_type": "code",
   "execution_count": null,
   "id": "50691655",
   "metadata": {},
   "outputs": [],
   "source": [
    "annee = \"2018\"\n",
    "df = pd.read_csv(f'../data/valeursfoncieres-{annee}.txt', sep = '|',decimal = ',')\n",
    "df[\"Date mutation\"] = pd.to_datetime(df[\"Date mutation\"], format=\"%d/%m/%Y\")\n",
    "display(df)"
   ]
  },
  {
   "cell_type": "code",
   "execution_count": null,
   "id": "b3967daa",
   "metadata": {},
   "outputs": [],
   "source": [
    "data = df.copy()"
   ]
  },
  {
   "attachments": {},
   "cell_type": "markdown",
   "id": "36808ff0",
   "metadata": {},
   "source": [
    "## Creation of a DataFrame"
   ]
  },
  {
   "cell_type": "code",
   "execution_count": null,
   "id": "a8590cee",
   "metadata": {},
   "outputs": [],
   "source": [
    "pd.set_option('display.max_columns', None)\n",
    "display(data)"
   ]
  },
  {
   "attachments": {},
   "cell_type": "markdown",
   "id": "ea4ceb4a",
   "metadata": {},
   "source": [
    "## Cleaning of data"
   ]
  },
  {
   "cell_type": "code",
   "execution_count": null,
   "id": "a66856fd",
   "metadata": {},
   "outputs": [],
   "source": [
    "columns = data.columns\n",
    "drop_columns =  [columns[0],columns[1],columns[2],columns[3],columns[4],columns[5],columns[6],columns[7],columns[12],columns[17],columns[20],columns[23],columns[26],columns[28],columns[30],columns[32],columns[37],columns[41]]\n",
    "data.drop(columns = drop_columns, inplace=True, axis=1)\n",
    "display(data)\n",
    "\n",
    "print(drop_columns)"
   ]
  },
  {
   "cell_type": "code",
   "execution_count": null,
   "id": "39caf5c6",
   "metadata": {},
   "outputs": [],
   "source": [
    "display(data)"
   ]
  },
  {
   "attachments": {},
   "cell_type": "markdown",
   "id": "a3c1798b",
   "metadata": {},
   "source": [
    "?????"
   ]
  },
  {
   "cell_type": "code",
   "execution_count": null,
   "id": "f8ee30fb",
   "metadata": {},
   "outputs": [],
   "source": [
    "paris = data[(data[\"Code departement\"] == 75) & (data[\"Type local\"] != \"Dépendance\") & (data[\"Type local\"] != \"Local industriel. commercial ou assimilé\")].reset_index(drop = True)\n",
    "paris[\"Prix mètre carré\"] = paris[\"Valeur fonciere\"]/paris[\"Surface reelle bati\"]\n",
    "display(paris)"
   ]
  },
  {
   "cell_type": "code",
   "execution_count": null,
   "id": "7335e5ae",
   "metadata": {},
   "outputs": [],
   "source": [
    "erreur = data[(data[\"Valeur fonciere\"] <= 100000000)&(data[\"Type local\"].notnull())]\n",
    "paris = erreur[(erreur[\"Code departement\"] == 75)]\n",
    "display(paris.sort_values('Valeur fonciere').tail(50))"
   ]
  },
  {
   "attachments": {},
   "cell_type": "markdown",
   "id": "182f6c98",
   "metadata": {},
   "source": [
    "## Create Region column"
   ]
  },
  {
   "cell_type": "code",
   "execution_count": null,
   "id": "968f1f54",
   "metadata": {},
   "outputs": [],
   "source": [
    "with open('../data/regions/regions_dict.json', 'r') as f:\n",
    "    regions_dict = json.load(f)\n",
    "\n",
    "with open('../data/departements/departements_dict.json', 'r') as f:\n",
    "    departments_dict = json.load(f)\n",
    "\n",
    "erreur['Code departement'] = erreur['Code departement'].apply(lambda x: str(x).zfill(2))\n",
    "\n",
    "regions_dict = {dep: region for region, deps in regions_dict.items() for dep in deps}\n",
    "departments_dict = {k: v for k, v in departments_dict.items()}\n",
    "\n",
    "erreur['Region'] = erreur['Code departement'].map(regions_dict)"
   ]
  },
  {
   "attachments": {},
   "cell_type": "markdown",
   "id": "b2d6b38b",
   "metadata": {},
   "source": [
    "Saving the DataFrame in a csv file (to use it in Django), we did it for each year"
   ]
  },
  {
   "cell_type": "code",
   "execution_count": null,
   "id": "6f7dfaa6",
   "metadata": {},
   "outputs": [],
   "source": [
    "erreur.to_csv(f'../data/annee_traitee/{annee}.csv')"
   ]
  },
  {
   "attachments": {},
   "cell_type": "markdown",
   "id": "d0c0ce73",
   "metadata": {},
   "source": [
    "# Analyse intra data 2022\n",
    "\n",
    "Importation des librairies et des données ainsi que l'import des dapartements et des régions"
   ]
  },
  {
   "cell_type": "code",
   "execution_count": null,
   "id": "70821631",
   "metadata": {},
   "outputs": [],
   "source": [
    "import matplotlib.pyplot as plt\n",
    "import datetime\n",
    "import folium\n",
    "import pandas as pd\n",
    "import numpy as np\n",
    "from branca.colormap import linear\n",
    "from urllib.request import urlopen\n",
    "from plotly.offline import plot, iplot, init_notebook_mode\n",
    "init_notebook_mode(connected=True)\n",
    "import plotly.graph_objects as go\n",
    "import plotly.express as px\n",
    "import plotly.subplots as sp\n",
    "\n",
    "\n",
    "dth = '#ff2e63' \n",
    "rec = '#21bf73'\n",
    "act = '#fe9801'\n",
    "cnf = '#393e46'\n",
    "\n",
    "DEPARTMENTS = json.load(open(\"../data/departements/departements_dict.json\"))\n",
    "\n",
    "REGIONS = json.load(open(\"../data/regions/regions_dict.json\"))\n",
    "\n",
    "data = pd.read_csv(r\"../data/annee_traitee/2022.csv\",low_memory=False,sep=\",\",header=0,index_col=0)\n",
    "\n",
    "data[\"Date mutation\"] = pd.to_datetime(data[\"Date mutation\"], format=\"%Y-%m-%d\")"
   ]
  },
  {
   "attachments": {},
   "cell_type": "markdown",
   "id": "4718b2b3",
   "metadata": {},
   "source": [
    "### Données"
   ]
  },
  {
   "cell_type": "code",
   "execution_count": null,
   "id": "afdfe9c2",
   "metadata": {},
   "outputs": [],
   "source": [
    "display(data)"
   ]
  },
  {
   "cell_type": "code",
   "execution_count": null,
   "id": "3be5e31f",
   "metadata": {},
   "outputs": [],
   "source": [
    "paris = data[(data[\"Code departement\"] == '75') & (data[\"Type local\"] != \"Dépendance\")& (data[\"Type local\"] != \"Local industriel. commercial ou assimilé\")].reset_index(drop = True)\n",
    "paris[\"Prix mètre carré\"] = paris[\"Valeur fonciere\"]/paris[\"Surface reelle bati\"]\n",
    "display(paris)"
   ]
  },
  {
   "attachments": {},
   "cell_type": "markdown",
   "id": "50eb2dbe",
   "metadata": {},
   "source": [
    "## Prix au m2"
   ]
  },
  {
   "cell_type": "code",
   "execution_count": null,
   "id": "a70bd6f5",
   "metadata": {},
   "outputs": [],
   "source": [
    "m2 = data[(data[\"Type local\"] != \"Dépendance\")& (data[\"Type local\"] != \"Local industriel. commercial ou assimilé\")].reset_index(drop = True)\n",
    "print(m2['Code departement'].nunique())\n",
    "m2[\"carrez_sum\"] = m2[\"Surface Carrez du 1er lot\"].fillna(0)  +  m2[\"Surface Carrez du 2eme lot\"].fillna(0) + m2[\"Surface Carrez du 3eme lot\"].fillna(0) + m2[\"Surface Carrez du 4eme lot\"].fillna(0) + m2[\"Surface Carrez du 5eme lot\"].fillna(0)\n",
    "m2[\"Prix mètre carré\"] = np.where(m2[\"carrez_sum\"] != 0,m2[\"Valeur fonciere\"]/m2[\"carrez_sum\"],m2[\"Valeur fonciere\"]/m2[\"Surface reelle bati\"])\n",
    "m2 = m2.drop(np.where(m2['Prix mètre carré'] > 25000)[0])\n",
    "prix_m2_departement = m2.groupby('Code departement',as_index=False)['Prix mètre carré'].mean()\n",
    " \n",
    "display(prix_m2_departement)"
   ]
  },
  {
   "attachments": {},
   "cell_type": "markdown",
   "id": "24271eb9",
   "metadata": {},
   "source": [
    "## top 3 des departements les plus cher / moins cher"
   ]
  },
  {
   "cell_type": "code",
   "execution_count": null,
   "id": "7c4e58e0",
   "metadata": {},
   "outputs": [],
   "source": [
    "top5_chers = pd.DataFrame(prix_m2_departement.sort_values(by=\"Prix mètre carré\",ascending=False).head(5))\n",
    "for i in top5_chers[\"Code departement\"]:\n",
    "    top5_chers.loc[top5_chers[\"Code departement\"] == i,\"Département\"] = DEPARTMENTS.get(str(i))\n",
    "\n",
    "display(top5_chers)\n",
    "\n",
    "\n",
    "top5_moins_chers = pd.DataFrame(prix_m2_departement.sort_values(by=\"Prix mètre carré\",ascending=True).head(5))\n",
    "\n",
    "for i in top5_moins_chers[\"Code departement\"]:\n",
    "    top5_moins_chers.loc[top5_moins_chers[\"Code departement\"] == i,\"Département\"] = DEPARTMENTS.get(str(i))\n",
    "\n",
    "display(top5_moins_chers)"
   ]
  },
  {
   "cell_type": "code",
   "execution_count": null,
   "id": "e53a82ed",
   "metadata": {},
   "outputs": [],
   "source": [
    "temp = top5_chers.drop(columns=\"Code departement\")\n",
    "temp.style.background_gradient(cmap='Reds')"
   ]
  },
  {
   "cell_type": "code",
   "execution_count": null,
   "id": "87f06beb",
   "metadata": {},
   "outputs": [],
   "source": [
    "temp2 = top5_moins_chers.drop(columns = \"Code departement\")\n",
    "temp2.style.background_gradient(cmap='Greens')"
   ]
  },
  {
   "cell_type": "code",
   "execution_count": null,
   "id": "b40310e1",
   "metadata": {},
   "outputs": [],
   "source": [
    "dict_vol_ventes = data.groupby([\"Code departement\"])[\"Valeur fonciere\"].sum().reset_index()\n",
    "dict_vol_ventes.columns = [\"Code departement\",\"Volume monétaire\"]\n",
    "dict_vol_ventes[\"Volume monétaire\"] = round(dict_vol_ventes[\"Volume monétaire\"]/1000000000,2)\n",
    "for i in dict_vol_ventes[\"Code departement\"]:\n",
    "    dict_vol_ventes.loc[dict_vol_ventes[\"Code departement\"] == i,\"Département\"] = DEPARTMENTS.get(str(i))\n",
    "    \n",
    "dict_vol_ventes"
   ]
  },
  {
   "cell_type": "code",
   "execution_count": null,
   "id": "57461c75",
   "metadata": {},
   "outputs": [],
   "source": [
    "temp = dict_vol_ventes\n",
    "temp = temp.sort_values('Code departement', ascending=False)\n",
    "\n",
    "fig = px.bar(temp.sort_values('Volume monétaire', ascending=False).head(10).sort_values('Volume monétaire', ascending=True), \n",
    "             x=\"Volume monétaire\", y=\"Département\", text='Volume monétaire', orientation='h', \n",
    "             width=700, height=600, range_x = [0, 500], title='Volume monétaire par département en Milliards')\n",
    "fig.update_traces(marker_color=act, opacity=0.8, textposition='outside')\n",
    "fig.show()"
   ]
  },
  {
   "cell_type": "code",
   "execution_count": null,
   "id": "8be74ade",
   "metadata": {},
   "outputs": [],
   "source": [
    "data[\"Month mutation\"] = data[\"Date mutation\"].dt.month\n",
    "prix_metre_carre = data[(data[\"Type local\"] != \"Dépendance\")].reset_index(drop = True)\n",
    "prix_metre_carre = prix_metre_carre.dropna(subset=['Type local'])\n",
    "\n",
    "prix_metre_carre[\"Prix mètre carré\"] = prix_metre_carre[\"Valeur fonciere\"]/prix_metre_carre[\"Surface reelle bati\"]\n",
    "display(prix_metre_carre)"
   ]
  },
  {
   "cell_type": "code",
   "execution_count": null,
   "id": "d6848771",
   "metadata": {},
   "outputs": [],
   "source": [
    "temp = data[(data[\"Type local\"] != \"Dépendance\")& (data[\"Type local\"] != \"Local industriel. commercial ou assimilé\")].reset_index(drop = True)\n",
    "\n",
    "temp['Prix mètre carré Paris'] = temp[(temp[\"Code departement\"] == '75')][\"Valeur fonciere\"]/temp[(temp[\"Code departement\"] == '75')][\"Surface reelle bati\"]\n",
    "\n",
    "temp['Prix mètre carré Nord'] = temp[(temp[\"Code departement\"] == '59')][\"Valeur fonciere\"]/temp[(temp[\"Code departement\"] == '59')][\"Surface reelle bati\"]\n",
    "\n",
    "temp['Prix mètre carré Alpes-Maritimes'] = temp[(temp[\"Code departement\"] == '6')][\"Valeur fonciere\"]/temp[(temp[\"Code departement\"] == '6')][\"Surface reelle bati\"]\n",
    "temp =temp.replace(np.inf, np.nan)\n",
    "display(temp['Prix mètre carré Paris'].mean())\n",
    "display(temp)\n",
    "\n",
    "# temp['No. of Recovered to 1 Death Case'] = round(temp['Recovered']/temp['Deaths'], 3)\n",
    "temp = temp.groupby('Month mutation')[\"Prix mètre carré Paris\",\"Prix mètre carré Nord\",\"Prix mètre carré Alpes-Maritimes\"].mean().reset_index()\n",
    "\n",
    "temp = temp.melt(id_vars='Month mutation', value_vars=['Prix mètre carré Paris','Prix mètre carré Nord','Prix mètre carré Alpes-Maritimes'], \n",
    "                 var_name='Departements', value_name='Value')\n",
    "\n",
    "fig = px.line(temp, x=\"Month mutation\", y=\"Value\", color='Departements', log_y=True, \n",
    "              title='prix du mètre carré par mois en fonction de 3 départements', color_discrete_sequence=[dth, rec,act])\n",
    "fig.show()\n",
    "\n"
   ]
  },
  {
   "cell_type": "code",
   "execution_count": null,
   "id": "5c215627",
   "metadata": {},
   "outputs": [],
   "source": [
    "temp = data[(data[\"Type local\"] != \"Dépendance\")& (data[\"Type local\"] != \"Local industriel. commercial ou assimilé\")].reset_index(drop = True)\n",
    "carrez = data[(data[\"Type local\"] != \"Dépendance\")& (data[\"Type local\"] != \"Local industriel. commercial ou assimilé\")].reset_index(drop = True)\n",
    "temp[\"carrez_sum\"] = temp[\"Surface Carrez du 1er lot\"].fillna(0)  +  temp[\"Surface Carrez du 2eme lot\"].fillna(0) + temp[\"Surface Carrez du 3eme lot\"].fillna(0) + temp[\"Surface Carrez du 4eme lot\"].fillna(0) + temp[\"Surface Carrez du 5eme lot\"].fillna(0)\n",
    "temp[\"Prix mètre carré\"] = np.where(temp[\"carrez_sum\"] != 0,temp[\"Valeur fonciere\"]/temp[\"carrez_sum\"],temp[\"Valeur fonciere\"]/temp[\"Surface reelle bati\"])\n",
    "temp = temp.drop(np.where(temp['Prix mètre carré'] > 25000)[0])\n",
    "\n",
    "temp['Prix mètre carré Paris'] = temp[(temp[\"Code departement\"] == '75')][\"Prix mètre carré\"]\n",
    "temp['Prix mètre carré Nord'] = temp[(temp[\"Code departement\"] == '59')][\"Prix mètre carré\"]\n",
    "temp['Prix mètre carré Alpes-Maritimes'] = temp[(temp[\"Code departement\"] == '6')][\"Prix mètre carré\"]\n",
    "\n",
    "temp =temp.replace(np.inf, np.nan)\n",
    "display(temp['Prix mètre carré Paris'].mean())\n",
    "display(temp)\n",
    "\n",
    "# temp['No. of Recovered to 1 Death Case'] = round(temp['Recovered']/temp['Deaths'], 3)\n",
    "temp = temp.groupby('Month mutation')[\"Prix mètre carré Paris\",\"Prix mètre carré Nord\",\"Prix mètre carré Alpes-Maritimes\"].mean().reset_index()\n",
    "\n",
    "temp = temp.melt(id_vars='Month mutation', value_vars=['Prix mètre carré Paris','Prix mètre carré Nord','Prix mètre carré Alpes-Maritimes'], \n",
    "                 var_name='Departements', value_name='Value')\n",
    "\n",
    "fig = px.line(temp, x=\"Month mutation\", y=\"Value\", color='Departements', log_y=True, \n",
    "              title='prix du mètre carré par mois en fonction de 3 départements', color_discrete_sequence=[dth, rec,act])\n",
    "fig.show()\n"
   ]
  },
  {
   "attachments": {},
   "cell_type": "markdown",
   "id": "49456b07",
   "metadata": {},
   "source": [
    "## répartition des types de biens"
   ]
  },
  {
   "cell_type": "code",
   "execution_count": null,
   "id": "43c53ec1",
   "metadata": {},
   "outputs": [],
   "source": [
    "type_counts = data['Type local'].value_counts()\n",
    "\n",
    "type_counts.plot(kind='pie', autopct='%1.1f%%', figsize=(10,10),legend=True,colors=['olivedrab', 'rosybrown', 'gray', 'saddlebrown'])\n",
    "plt.ylabel('')\n",
    "plt.title('Répartition des types de biens')\n",
    "plt.show()"
   ]
  },
  {
   "attachments": {},
   "cell_type": "markdown",
   "id": "bc399831",
   "metadata": {},
   "source": [
    "On remarque que le type de bien le plus vendu sont les dépendances car plusieurs dépendances peuvent être vendu pour un appartement ou une maison.\n",
    "l'immobilier d'habitation (maisons, appartements, dépendances) représentent 94.8% des bien immobiliers vendus contre 5.2% pour des achats d'immobilier commercial.\n",
    "Ces données montrent une égale proportion entre les achats d'appartement et les achats de maison alors qu'en 2018, 66% des français habite dans une maison."
   ]
  },
  {
   "attachments": {},
   "cell_type": "markdown",
   "id": "a1a6453a",
   "metadata": {},
   "source": [
    "## heat map"
   ]
  },
  {
   "cell_type": "code",
   "execution_count": null,
   "id": "93c9a691",
   "metadata": {},
   "outputs": [],
   "source": [
    "df = data\n",
    "\n",
    "property_changes = df['Code departement'].value_counts().reset_index()\n",
    "property_changes.columns = ['Code', 'property_changes']\n",
    "\n",
    "property_dict = property_changes.set_index('Code')['property_changes'].to_dict()\n",
    "\n",
    "with open('../data/departements/departements.geojson') as f:\n",
    "    zone = json.load(f)\n",
    "\n",
    "colormap = linear.YlOrRd_09.scale(\n",
    "    property_changes.property_changes.min(),\n",
    "    property_changes.property_changes.max())\n",
    "\n",
    "for feature in zone['features']:\n",
    "    feature['properties']['property_changes'] = property_dict.get(feature['properties']['code'], None)\n",
    "\n",
    "def style_function(feature):\n",
    "    property_changes = feature['properties']['property_changes']\n",
    "    return {\n",
    "        'fillOpacity': 0.7,\n",
    "        'weight': 2,\n",
    "        'color': 'black',\n",
    "        'fillColor': '#fff' if property_changes is None else colormap(property_changes)\n",
    "    }\n",
    "\n",
    "m = folium.Map(location=[46.8566, 2.3522], zoom_start=6)\n",
    "\n",
    "folium.GeoJson(\n",
    "    zone,\n",
    "    style_function=style_function,\n",
    "    name='geojson'\n",
    ").add_to(m)\n",
    "\n",
    "colormap.add_to(m)\n",
    "\n",
    "m\n"
   ]
  },
  {
   "cell_type": "code",
   "execution_count": null,
   "id": "1879c7b6",
   "metadata": {},
   "outputs": [],
   "source": [
    "dict_nb_ventes = pd.DataFrame(data[\"Code departement\"].value_counts()).reset_index()\n",
    "dict_nb_ventes.columns = [\"Code departement\", \"Nombre de ventes\"]\n",
    "for i in dict_nb_ventes[\"Code departement\"]:\n",
    "    dict_nb_ventes.loc[dict_nb_ventes[\"Code departement\"] == i, \"Département\"] = DEPARTMENTS.get(str(i))\n",
    "\n",
    "act = '#fe9801'\n",
    "temp = dict_nb_ventes\n",
    "temp = temp.sort_values('Code departement', ascending=False)\n",
    "\n",
    "fig = sp.make_subplots(rows=1, cols=2, subplot_titles=['Top 5 par départements les plus vendeurs', 'Top 5 par départements les moins vendeurs'])\n",
    "\n",
    "fig.add_trace(go.Bar(x=temp.sort_values('Nombre de ventes', ascending=False).head(5).sort_values('Nombre de ventes', ascending=True)[\"Nombre de ventes\"],\n",
    "                     y=temp.sort_values('Nombre de ventes', ascending=False).head(5).sort_values('Nombre de ventes', ascending=True)[\"Département\"],\n",
    "                     text=temp.sort_values('Nombre de ventes', ascending=False).head(5).sort_values('Nombre de ventes', ascending=True)[\"Nombre de ventes\"],\n",
    "                     textposition='outside',\n",
    "                     marker_color=act,\n",
    "                     opacity=0.8,\n",
    "                     orientation='h'),\n",
    "              row=1, col=1)\n",
    "\n",
    "fig.add_trace(go.Bar(x=temp.sort_values('Nombre de ventes', ascending=False).tail(5).sort_values('Nombre de ventes', ascending=False)[\"Nombre de ventes\"],\n",
    "                     y=temp.sort_values('Nombre de ventes', ascending=False).tail(5).sort_values('Nombre de ventes', ascending=False)[\"Département\"],\n",
    "                     text=temp.sort_values('Nombre de ventes', ascending=False).tail(5).sort_values('Nombre de ventes', ascending=False)[\"Nombre de ventes\"],\n",
    "                     textposition='outside',\n",
    "                     marker_color=act,\n",
    "                     opacity=0.8,\n",
    "                     orientation='h'),\n",
    "              row=1, col=2)\n",
    "\n",
    "fig.update_layout(showlegend=False)\n",
    "\n",
    "fig.update_xaxes(range=[50000, 110000], row=1, col=1)\n",
    "\n",
    "fig.update_xaxes(range=[1000, 4000], row=1, col=2)\n",
    "\n",
    "fig.show()"
   ]
  },
  {
   "attachments": {},
   "cell_type": "markdown",
   "id": "91e4962f",
   "metadata": {},
   "source": [
    "On remarque que le marché immobilier est scindé en plusieurs zones. l'Est de la France représente moins de vente que l'Ouest excepté le nord avec Lille. Les pôles les plus attractifs sont les grandes villes tel que Paris (qui influence égelement les département limitrophes), Lyon ou Lille et la côte avec une grande ville à proximité tel que Bordeaux dans la Gironde , Nantes situés en Loire atlantique, Montpellier dans l'Hérault et Rennes en Ile et-Villaine."
   ]
  },
  {
   "cell_type": "code",
   "execution_count": null,
   "id": "e9ce9d63",
   "metadata": {},
   "outputs": [],
   "source": [
    "temp = data[(data[\"Type local\"] != \"Dépendance\")& (data[\"Type local\"] != \"Local industriel. commercial ou assimilé\")].reset_index(drop = True)\n",
    "temp = temp.groupby(['Code departement'])['Nombre pieces principales'].mean().reset_index()\n",
    "temp.columns = [\"Code departement\",\"Nombre pieces principales\"]\n",
    "temp[\"Nombre pieces principales\"] = round(temp[\"Nombre pieces principales\"],1)\n",
    "for i in temp[\"Code departement\"]:\n",
    "    temp.loc[temp[\"Code departement\"] == i,\"Département\"] = DEPARTMENTS.get(str(i))\n",
    "    \n",
    "temp\n",
    "\n",
    "temp = temp.sort_values('Code departement', ascending=False)\n",
    "\n",
    "fig = px.bar(temp.sort_values('Nombre pieces principales', ascending=False).head(10).sort_values('Nombre pieces principales', ascending=True), \n",
    "             x=\"Nombre pieces principales\", y=\"Code departement\", text='Nombre pieces principales', orientation='h', \n",
    "             width=700, height=600, range_x = [0, 7], title='Nombre de piece moyen par departement')\n",
    "fig.update_traces(marker_color=act, opacity=0.8, textposition='outside')\n",
    "fig.show()"
   ]
  },
  {
   "cell_type": "code",
   "execution_count": null,
   "id": "6f9b35c3",
   "metadata": {},
   "outputs": [],
   "source": [
    "type_counts = data['Nature mutation'].value_counts()\n",
    "\n",
    "plot = type_counts.plot.pie(figsize=(10, 10),legend=True,colors=['olivedrab', 'rosybrown', 'gray', 'saddlebrown'])\n"
   ]
  },
  {
   "cell_type": "code",
   "execution_count": null,
   "id": "608fab75",
   "metadata": {},
   "outputs": [],
   "source": [
    "m_2 = data[(data[\"Type local\"] != \"Dépendance\")& (data[\"Type local\"] != \"Local industriel. commercial ou assimilé\")].reset_index(drop = True)\n",
    "\n",
    "m_2[\"Prix mètre carré\"] = m_2[\"Valeur fonciere\"]/m_2[\"Surface reelle bati\"]\n",
    "\n",
    "property_changes = m_2.groupby('Code departement',as_index=False)['Prix mètre carré'].mean()\n",
    "print(property_changes.sort_values(\"Prix mètre carré\"))\n",
    "property_changes.columns = ['Code', 'property_changes']\n",
    "\n",
    "property_dict = property_changes.set_index('Code')['property_changes'].to_dict()\n",
    "\n",
    "with open('../data/departements.geojson') as f:\n",
    "    zone = json.load(f)\n",
    "\n",
    "colormap = linear.YlOrRd_09.scale(\n",
    "    0,\n",
    "    property_changes.property_changes.max())\n",
    "\n",
    "for feature in zone['features']:\n",
    "    feature['properties']['property_changes'] = property_dict.get(feature['properties']['code'], None)\n",
    "\n",
    "def style_function(feature):\n",
    "    property_changes = feature['properties']['property_changes']\n",
    "    return {\n",
    "        'fillOpacity': 0.7,\n",
    "        'weight': 2,\n",
    "        'color': 'black',\n",
    "        'fillColor': '#fff' if property_changes is None else colormap(property_changes)\n",
    "    }\n",
    "\n",
    "m = folium.Map(location=[46.8566, 2.3522], zoom_start=6)\n",
    "\n",
    "folium.GeoJson(\n",
    "    zone,\n",
    "    style_function=style_function,\n",
    "    name='geojson'\n",
    ").add_to(m)\n",
    "\n",
    "colormap.add_to(m)\n",
    "\n",
    "m\n"
   ]
  },
  {
   "attachments": {},
   "cell_type": "markdown",
   "id": "b64d3673",
   "metadata": {},
   "source": [
    "### Pas analysable"
   ]
  },
  {
   "cell_type": "code",
   "execution_count": null,
   "id": "248fdc3d",
   "metadata": {},
   "outputs": [],
   "source": [
    "m2 = data[(data[\"Type local\"] != \"Dépendance\")& (data[\"Type local\"] != \"Local industriel. commercial ou assimilé\")].reset_index(drop = True)\n",
    "m2[\"carrez_sum\"] = m2[\"Surface Carrez du 1er lot\"].fillna(0)  +  m2[\"Surface Carrez du 2eme lot\"].fillna(0) + m2[\"Surface Carrez du 3eme lot\"].fillna(0) + m2[\"Surface Carrez du 4eme lot\"].fillna(0) + m2[\"Surface Carrez du 5eme lot\"].fillna(0)\n",
    "m2[\"Prix mètre carré\"] = np.where(m2[\"carrez_sum\"] != 0,m2[\"Valeur fonciere\"]/m2[\"carrez_sum\"],m2[\"Valeur fonciere\"]/m2[\"Surface reelle bati\"])\n",
    "m2 = m2.drop(np.where(m2['Prix mètre carré'] > 25000)[0])\n",
    "property_changes = m2.groupby('Code departement',as_index=False)['Prix mètre carré'].mean()\n",
    "\n",
    "property_changes.columns = ['Code', 'property_changes']\n",
    "\n",
    "property_dict = property_changes.set_index('Code')['property_changes'].to_dict()\n",
    "\n",
    "with open('../data/departements.geojson') as f:\n",
    "    zone = json.load(f)\n",
    "\n",
    "colormap = linear.YlOrRd_09.scale(\n",
    "    0,\n",
    "    property_changes.property_changes.max())\n",
    "\n",
    "for feature in zone['features']:\n",
    "    feature['properties']['property_changes'] = property_dict.get(feature['properties']['code'], None)\n",
    "\n",
    "def style_function(feature):\n",
    "    property_changes = feature['properties']['property_changes']\n",
    "    return {\n",
    "        'fillOpacity': 0.7,\n",
    "        'weight': 2,\n",
    "        'color': 'black',\n",
    "        'fillColor': '#fff' if property_changes is None else colormap(property_changes)\n",
    "    }\n",
    "\n",
    "m = folium.Map(location=[46.8566, 2.3522], zoom_start=6)\n",
    "\n",
    "folium.GeoJson(\n",
    "    zone,\n",
    "    style_function=style_function,\n",
    "    name='geojson'\n",
    ").add_to(m)\n",
    "\n",
    "colormap.add_to(m)\n",
    "\n",
    "m\n"
   ]
  },
  {
   "attachments": {},
   "cell_type": "markdown",
   "id": "67a7b6e2",
   "metadata": {},
   "source": [
    "### Analysable"
   ]
  },
  {
   "attachments": {},
   "cell_type": "markdown",
   "id": "6f63b0ba",
   "metadata": {},
   "source": [
    "# Analyse foncière Inter-Annuel\n",
    "\n",
    "Importation des librairies et des données ainsi que l'import des dapartements et des régions\n"
   ]
  },
  {
   "cell_type": "code",
   "execution_count": null,
   "id": "b1e5dc5a",
   "metadata": {},
   "outputs": [],
   "source": [
    "DEPARTMENTS = json.load(open(\"../data/departements_dict.json\"))\n",
    "\n",
    "REGIONS = json.load(open(\"../data/regions_dict.json\"))\n",
    "\n",
    "dth = '#ff2e63' \n",
    "rec = '#21bf73'\n",
    "act = '#fe9801'\n",
    "cnf = '#393e46'\n",
    "\n",
    "data = pd.read_csv(r\"../data/annee_traitee/2018.csv\",low_memory=False,sep=\",\",header=0,index_col=0)\n",
    "data = data.append(pd.read_csv(r\"../data/annee_traitee/2019.csv\",low_memory=False,sep=\",\",header=0,index_col=0))\n",
    "data = data.append(pd.read_csv(r\"../data/annee_traitee/2020.csv\",low_memory=False,sep=\",\",header=0,index_col=0))\n",
    "data = data.append(pd.read_csv(r\"../data/annee_traitee/2021.csv\",low_memory=False,sep=\",\",header=0,index_col=0))\n",
    "data = data.append(pd.read_csv(r\"../data/annee_traitee/2022.csv\",low_memory=False,sep=\",\",header=0,index_col=0))\n",
    "\n",
    "data[\"Date mutation\"] = pd.to_datetime(data[\"Date mutation\"], format=\"%Y-%m-%d\")\n",
    "data = data.reset_index(drop=True)"
   ]
  },
  {
   "cell_type": "code",
   "execution_count": null,
   "id": "9afe557a",
   "metadata": {},
   "outputs": [],
   "source": [
    "display(data)"
   ]
  },
  {
   "cell_type": "code",
   "execution_count": null,
   "id": "6d8c2625",
   "metadata": {},
   "outputs": [],
   "source": [
    "temp = data[(data[\"Type local\"] != \"Dépendance\")& (data[\"Type local\"] != \"Local industriel. commercial ou assimilé\")].reset_index(drop = True)\n",
    "temp[\"Month mutation\"] = temp[\"Date mutation\"].dt.month\n",
    "\n",
    "temp['Prix mètre carré Paris 2018'] = temp[(temp[\"Code departement\"] == '75')&(temp[\"Date mutation\"].dt.year == 2018)][\"Valeur fonciere\"]/temp[(temp[\"Code departement\"] == '75')&(temp[\"Date mutation\"].dt.year == 2018)][\"Surface reelle bati\"]\n",
    "temp['Prix mètre carré Paris 2019'] = temp[(temp[\"Code departement\"] == '75')&(temp[\"Date mutation\"].dt.year == 2019)][\"Valeur fonciere\"]/temp[(temp[\"Code departement\"] == '75')&(temp[\"Date mutation\"].dt.year == 2019)][\"Surface reelle bati\"]\n",
    "temp['Prix mètre carré Paris 2022'] = temp[(temp[\"Code departement\"] == '75')&(temp[\"Date mutation\"].dt.year == 2022)][\"Valeur fonciere\"]/temp[(temp[\"Code departement\"] == '75')&(temp[\"Date mutation\"].dt.year == 2022)][\"Surface reelle bati\"]\n",
    "\n",
    "temp =temp.replace(np.inf, np.nan)\n",
    "display(temp['Prix mètre carré Paris 2018'].mean())\n",
    "display(temp)\n",
    "\n",
    "# temp['No. of Recovered to 1 Death Case'] = round(temp['Recovered']/temp['Deaths'], 3)\n",
    "temp = temp.groupby('Month mutation')[\"Prix mètre carré Paris 2018\",\"Prix mètre carré Paris 2019\",\"Prix mètre carré Paris 2022\"].mean().reset_index()\n",
    "\n",
    "temp = temp.melt(id_vars='Month mutation', value_vars=['Prix mètre carré Paris 2018','Prix mètre carré Paris 2019','Prix mètre carré Paris 2022'], \n",
    "                 var_name='Departements', value_name='Value')\n",
    "\n",
    "fig = px.line(temp, x=\"Month mutation\", y=\"Value\", color='Departements', log_y=True, \n",
    "              title='Evolution du prix du mètre carré à paris depuis 2018', color_discrete_sequence=[dth, rec,act])\n",
    "fig.show()\n",
    "\n"
   ]
  },
  {
   "cell_type": "code",
   "execution_count": null,
   "id": "46935465",
   "metadata": {},
   "outputs": [],
   "source": [
    "temp = data[(data[\"Type local\"] != \"Dépendance\")& (data[\"Type local\"] != \"Local industriel. commercial ou assimilé\")].reset_index(drop = True)\n",
    "temp[\"Month mutation\"] = temp[\"Date mutation\"].dt.month\n",
    "temp[\"carrez_sum\"] = temp[\"Surface Carrez du 1er lot\"].fillna(0)  +  temp[\"Surface Carrez du 2eme lot\"].fillna(0) + temp[\"Surface Carrez du 3eme lot\"].fillna(0) + temp[\"Surface Carrez du 4eme lot\"].fillna(0) + temp[\"Surface Carrez du 5eme lot\"].fillna(0)\n",
    "temp[\"Prix mètre carré\"] = np.where(temp[\"carrez_sum\"] != 0,temp[\"Valeur fonciere\"]/temp[\"carrez_sum\"],temp[\"Valeur fonciere\"]/temp[\"Surface reelle bati\"])\n",
    "temp = temp.drop(np.where(temp['Prix mètre carré'] > 25000)[0])\n",
    "\n",
    "temp['Prix mètre carré Paris 2018'] = temp[(temp[\"Code departement\"] == '75')&(temp[\"Date mutation\"].dt.year == 2018)][\"Prix mètre carré\"]\n",
    "temp['Prix mètre carré Paris 2019'] = temp[(temp[\"Code departement\"] == '75')&(temp[\"Date mutation\"].dt.year == 2019)][\"Prix mètre carré\"]\n",
    "temp['Prix mètre carré Paris 2022'] = temp[(temp[\"Code departement\"] == '75')&(temp[\"Date mutation\"].dt.year == 2022)][\"Prix mètre carré\"]\n",
    "\n",
    "temp =temp.replace(np.inf, np.nan)\n",
    "display(temp['Prix mètre carré Paris 2018'].mean())\n",
    "display(temp)\n",
    "\n",
    "# temp['No. of Recovered to 1 Death Case'] = round(temp['Recovered']/temp['Deaths'], 3)\n",
    "temp = temp.groupby('Month mutation')[\"Prix mètre carré Paris 2018\",\"Prix mètre carré Paris 2019\",\"Prix mètre carré Paris 2022\"].mean().reset_index()\n",
    "\n",
    "temp = temp.melt(id_vars='Month mutation', value_vars=['Prix mètre carré Paris 2018','Prix mètre carré Paris 2019','Prix mètre carré Paris 2022'], \n",
    "                 var_name='Departements', value_name='Value')\n",
    "\n",
    "fig = px.line(temp, x=\"Month mutation\", y=\"Value\", color='Departements', log_y=True, \n",
    "              title='Evolution du prix du mètre carré à paris depuis 2018', color_discrete_sequence=[dth, rec,act])\n",
    "fig.show()\n"
   ]
  },
  {
   "cell_type": "code",
   "execution_count": null,
   "id": "e61ff7f4",
   "metadata": {},
   "outputs": [],
   "source": [
    "def location(row):\n",
    "    if row['Code departement']=='75':\n",
    "            return 'Paris'\n",
    "    elif row['Code departement']=='6':\n",
    "            return 'Alpes-Maritimes'\n",
    "    elif row['Code departement']=='59':\n",
    "        return 'Nord'\n",
    "    else:\n",
    "        return 'Reste de la France'\n",
    "\n",
    "\n",
    "temp = data[(data[\"Type local\"] != \"Dépendance\")& (data[\"Type local\"] != \"Local industriel. commercial ou assimilé\")].reset_index(drop = True)\n",
    "temp['Prix mètre carré'] = temp['Valeur fonciere']/temp['Surface reelle bati']\n",
    "temp['Region'] = temp.apply(location, axis=1)\n",
    "temp['Date'] = temp['Date mutation'].dt.strftime('%Y-%m-%d')\n",
    "temp = temp.groupby(['Region', 'Date'])['Prix mètre carré'].mean().reset_index()\n",
    "temp = temp.melt(id_vars=['Region', 'Date'], value_vars=['Prix mètre carré'], \n",
    "                 var_name='Case', value_name='Count').sort_values('Count')\n",
    "# temp = temp.sort_values(['Date', 'Region', 'Case']).reset_index()\n",
    "temp.head()\n",
    "\n",
    "fig = px.bar(temp, y='Region', x='Count', color='Case', barmode='group', orientation='h',\n",
    "             text='Count', title='Hubei - China - World', animation_frame='Date',\n",
    "             color_discrete_sequence= [dth, rec, cnf], range_x=[0, 70000])\n",
    "fig.update_traces(textposition='outside')\n",
    "# fig.update_layout(uniformtext_minsize=8, uniformtext_mode='hide')\n",
    "# fig.update_layout(yaxis={'categoryorder':'array', \n",
    "#                          'categoryarray':['Hubei','Other Chinese Provinces','Rest of the World']})\n",
    "fig.show()\n",
    "\n",
    "temp = data.copy()\n",
    "temp = temp[(temp[\"Type local\"] != \"Dépendance\")& (temp[\"Type local\"] != \"Local industriel. commercial ou assimilé\")].reset_index(drop = True)\n",
    "temp['Prix mètre carré'] = temp['Valeur fonciere']/temp['Surface reelle bati']\n",
    "temp['Region'] = temp.apply(location, axis=1)\n",
    "temp = temp.groupby('Region')['Prix mètre carré'].mean().reset_index()\n",
    "temp = temp.melt(id_vars='Region', value_vars=['Prix mètre carré'], \n",
    "                 var_name='Case', value_name='Count').sort_values('Count')\n",
    "temp.head()\n",
    "\n",
    "fig = px.bar(temp, y='Region', x='Count', color='Case', barmode='group', orientation='h',\n",
    "             text='Count', title='Paris - Nord - Alpes-Maritimes', \n",
    "             color_discrete_sequence= [dth, rec, cnf])\n",
    "fig.update_traces(textposition='outside')\n",
    "#fig.update_layout(uniformtext_minsize=8, uniformtext_mode='hide')\n",
    "fig.show()"
   ]
  },
  {
   "cell_type": "code",
   "execution_count": null,
   "id": "fa89d324",
   "metadata": {},
   "outputs": [],
   "source": [
    "carrez = data[(data[\"Type local\"] != \"Dépendance\")& (data[\"Type local\"] != \"Local industriel. commercial ou assimilé\")].reset_index(drop = True)\n",
    "carrez[\"carrez_sum\"] = data[\"Surface Carrez du 1er lot\"].fillna(0)  +  data[\"Surface Carrez du 2eme lot\"].fillna(0) + data[\"Surface Carrez du 3eme lot\"].fillna(0) + data[\"Surface Carrez du 4eme lot\"].fillna(0) + data[\"Surface Carrez du 5eme lot\"].fillna(0)\n",
    "carrez[\"Prix mètre carré\"] = np.where(carrez[\"carrez_sum\"] != 0,carrez[\"Valeur fonciere\"]/carrez[\"carrez_sum\"],carrez[\"Valeur fonciere\"]/carrez[\"Surface reelle bati\"])\n",
    "carrez = carrez.drop(np.where(carrez['Prix mètre carré'] > 25000)[0])\n",
    "display(carrez)\n",
    "\n",
    "\n",
    "def location(row):\n",
    "    if row['Code departement']=='75':\n",
    "            return 'Paris'\n",
    "    elif row['Code departement']=='6':\n",
    "            return 'Alpes-Maritimes'\n",
    "    elif row['Code departement']=='59':\n",
    "        return 'Nord'\n",
    "    else:\n",
    "        return 'Reste de la France'\n",
    "\n",
    "\n",
    "temp = carrez.sample(frac = 0.01)\n",
    "temp['Region'] = temp.apply(location, axis=1)\n",
    "temp['Date'] = temp['Date mutation'].dt.strftime('%Y-%m-%d')\n",
    "temp = temp.groupby(['Region', 'Date'])['Prix mètre carré'].mean().reset_index()\n",
    "temp = temp.melt(id_vars=['Region', 'Date'], value_vars=['Prix mètre carré'], \n",
    "                 var_name='Case', value_name='Count').sort_values('Count')\n",
    "# temp = temp.sort_values(['Date', 'Region', 'Case']).reset_index()\n",
    "temp.head()\n",
    "\n",
    "fig = px.bar(temp, y='Region', x='Count', color='Case', barmode='group', orientation='h',\n",
    "             text='Count', title='Hubei - China - World', animation_frame='Date',\n",
    "             color_discrete_sequence= [dth, rec, cnf], range_x=[0, 15000])\n",
    "fig.update_traces(textposition='outside')\n",
    "# fig.update_layout(uniformtext_minsize=8, uniformtext_mode='hide')\n",
    "# fig.update_layout(yaxis={'categoryorder':'array', \n",
    "#                          'categoryarray':['Hubei','Other Chinese Provinces','Rest of the World']})\n",
    "fig.show()\n",
    "\n",
    "temp = carrez.copy()\n",
    "temp['Region'] = temp.apply(location, axis=1)\n",
    "temp = temp.groupby('Region')['Prix mètre carré'].mean().reset_index()\n",
    "temp = temp.melt(id_vars='Region', value_vars=['Prix mètre carré'], \n",
    "                 var_name='Case', value_name='Count').sort_values('Count')\n",
    "temp.head()\n",
    "\n",
    "fig = px.bar(temp, y='Region', x='Count', color='Case', barmode='group', orientation='h',\n",
    "             text='Count', title='Paris - Nord - Alpes-Maritimes', \n",
    "             color_discrete_sequence= [cnf])\n",
    "fig.update_traces(textposition='outside')\n",
    "#fig.update_layout(uniformtext_minsize=8, uniformtext_mode='hide')\n",
    "fig.show()"
   ]
  }
 ],
 "metadata": {
  "kernelspec": {
   "display_name": "Python 3 (ipykernel)",
   "language": "python",
   "name": "python3"
  },
  "language_info": {
   "codemirror_mode": {
    "name": "ipython",
    "version": 3
   },
   "file_extension": ".py",
   "mimetype": "text/x-python",
   "name": "python",
   "nbconvert_exporter": "python",
   "pygments_lexer": "ipython3",
   "version": "3.11.2"
  }
 },
 "nbformat": 4,
 "nbformat_minor": 5
}
